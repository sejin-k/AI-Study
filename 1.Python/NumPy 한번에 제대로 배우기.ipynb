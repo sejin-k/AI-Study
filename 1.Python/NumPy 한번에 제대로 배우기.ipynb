{
 "cells": [
  {
   "cell_type": "markdown",
   "metadata": {
    "id": "J_FfQuu2Tb30"
   },
   "source": [
    "# NumPy 한번에 제대로 배우기"
   ]
  },
  {
   "cell_type": "markdown",
   "metadata": {
    "id": "Zgrrh9T2vs8u"
   },
   "source": [
    "\n",
    "\n",
    "---\n",
    "\n"
   ]
  },
  {
   "cell_type": "markdown",
   "metadata": {
    "id": "oR5hNBH-Retd"
   },
   "source": [
    "## NumPy 특징\n",
    "\n",
    "* Numerical Python의 약자\n",
    "* 고성능 과학 계산용 패키지로 강력한 N차원 배열 객체\n",
    "* 범용적 데이터 처리에 사용 가능한 다차원 컨테이너\n",
    "* 정교한 브로드캐스팅(broadcasting) 기능\n",
    "* 파이썬의 자료형 list와 비슷하지만, 더 빠르고 메모리를 효율적으로 관리\n",
    "* 반복문 없이 데이터 배열에 대한 처리를 지원하여 빠르고 편리\n",
    "* 데이터 과학 도구에 대한 생태계의 핵심을 이루고 있음"
   ]
  },
  {
   "cell_type": "code",
   "execution_count": 1,
   "metadata": {
    "id": "R9klTdhLQ564"
   },
   "outputs": [],
   "source": [
    "import numpy as np"
   ]
  },
  {
   "cell_type": "code",
   "execution_count": 2,
   "metadata": {
    "colab": {
     "base_uri": "https://localhost:8080/",
     "height": 35
    },
    "executionInfo": {
     "elapsed": 1521,
     "status": "ok",
     "timestamp": 1619514815942,
     "user": {
      "displayName": "김세진",
      "photoUrl": "",
      "userId": "11422203094477185698"
     },
     "user_tz": -540
    },
    "id": "huJVkcV5C9kS",
    "outputId": "8b8f4a1e-49bb-4768-d76b-1ec0cab39eaa"
   },
   "outputs": [
    {
     "data": {
      "text/plain": [
       "'1.20.2'"
      ]
     },
     "execution_count": 2,
     "metadata": {},
     "output_type": "execute_result"
    }
   ],
   "source": [
    "np.__version__"
   ]
  },
  {
   "cell_type": "markdown",
   "metadata": {
    "id": "2hSWC5ptGyWP"
   },
   "source": [
    "\n",
    "\n",
    "---\n",
    "\n"
   ]
  },
  {
   "cell_type": "markdown",
   "metadata": {
    "id": "1kgkJZFlVUqk"
   },
   "source": [
    "## 배열 생성"
   ]
  },
  {
   "cell_type": "markdown",
   "metadata": {
    "id": "5eQ4sAkMbzm0"
   },
   "source": [
    "### 리스트로 배열 만들기\n"
   ]
  },
  {
   "cell_type": "code",
   "execution_count": 3,
   "metadata": {
    "colab": {
     "base_uri": "https://localhost:8080/"
    },
    "executionInfo": {
     "elapsed": 1397,
     "status": "ok",
     "timestamp": 1620062012434,
     "user": {
      "displayName": "김세진",
      "photoUrl": "",
      "userId": "11422203094477185698"
     },
     "user_tz": -540
    },
    "id": "Mtod2jcPWVvV",
    "outputId": "e3d1424f-2d53-49ac-9230-d89582de7516"
   },
   "outputs": [
    {
     "name": "stdout",
     "output_type": "stream",
     "text": [
      "[1 2 3 4 5]\n",
      "<class 'numpy.ndarray'>\n",
      "(5,)\n",
      "1 2 3 4 5\n",
      "[4 5 6 4 5]\n"
     ]
    }
   ],
   "source": [
    "a1 = np.array([1, 2, 3, 4, 5])\n",
    "print(a1)\n",
    "print(type(a1))\n",
    "print(a1.shape)\n",
    "print(a1[0], a1[1], a1[2], a1[3], a1[4])\n",
    "a1[0] = 4\n",
    "a1[1] = 5\n",
    "a1[2] = 6\n",
    "print(a1)"
   ]
  },
  {
   "cell_type": "code",
   "execution_count": 4,
   "metadata": {
    "colab": {
     "base_uri": "https://localhost:8080/"
    },
    "executionInfo": {
     "elapsed": 2181,
     "status": "ok",
     "timestamp": 1620062013405,
     "user": {
      "displayName": "김세진",
      "photoUrl": "",
      "userId": "11422203094477185698"
     },
     "user_tz": -540
    },
    "id": "vp9tkHH8esXT",
    "outputId": "57926355-b7fe-43a9-d2a1-bca446a0f4bc"
   },
   "outputs": [
    {
     "name": "stdout",
     "output_type": "stream",
     "text": [
      "[[1 2 3]\n",
      " [4 5 6]\n",
      " [7 8 9]]\n",
      "(3, 3)\n",
      "1 5 9\n"
     ]
    }
   ],
   "source": [
    "a2 = np.array([[1,2,3],[4,5,6],[7,8,9]])\n",
    "print(a2)\n",
    "print(a2.shape)\n",
    "print(a2[0,0], a2[1,1], a2[2,2])"
   ]
  },
  {
   "cell_type": "code",
   "execution_count": 5,
   "metadata": {
    "colab": {
     "base_uri": "https://localhost:8080/"
    },
    "executionInfo": {
     "elapsed": 1912,
     "status": "ok",
     "timestamp": 1620062013406,
     "user": {
      "displayName": "김세진",
      "photoUrl": "",
      "userId": "11422203094477185698"
     },
     "user_tz": -540
    },
    "id": "Baj4gZ2meuJu",
    "outputId": "bb8ec269-6175-4e6d-86f1-4c4eeeec1b26"
   },
   "outputs": [
    {
     "name": "stdout",
     "output_type": "stream",
     "text": [
      "[[[1 2 3]\n",
      "  [4 5 6]\n",
      "  [7 8 9]]\n",
      "\n",
      " [[1 2 3]\n",
      "  [4 5 6]\n",
      "  [7 8 9]]\n",
      "\n",
      " [[1 2 3]\n",
      "  [4 5 6]\n",
      "  [7 8 9]]]\n",
      "(3, 3, 3)\n"
     ]
    }
   ],
   "source": [
    "a3 = np.array([[[1,2,3],[4,5,6],[7,8,9]],\n",
    "               [[1,2,3],[4,5,6],[7,8,9]],\n",
    "               [[1,2,3],[4,5,6],[7,8,9]]])\n",
    "print(a3)\n",
    "print(a3.shape)"
   ]
  },
  {
   "cell_type": "markdown",
   "metadata": {
    "id": "PNkKtw4CoSDB"
   },
   "source": [
    "### 배열 생성 및 초기화"
   ]
  },
  {
   "cell_type": "markdown",
   "metadata": {
    "id": "mJVii5p_VfgM"
   },
   "source": [
    "* `zeros()`: 모든 요소를 0으로 초기화"
   ]
  },
  {
   "cell_type": "code",
   "execution_count": 6,
   "metadata": {
    "colab": {
     "base_uri": "https://localhost:8080/"
    },
    "executionInfo": {
     "elapsed": 601,
     "status": "ok",
     "timestamp": 1619453556808,
     "user": {
      "displayName": "김세진",
      "photoUrl": "",
      "userId": "11422203094477185698"
     },
     "user_tz": -540
    },
    "id": "W_SF1tVoVTf1",
    "outputId": "0995a50b-9940-483b-c696-89f33ed2aaa4"
   },
   "outputs": [
    {
     "data": {
      "text/plain": [
       "array([0., 0., 0., 0., 0., 0., 0., 0., 0., 0.])"
      ]
     },
     "execution_count": 6,
     "metadata": {},
     "output_type": "execute_result"
    }
   ],
   "source": [
    "np.zeros(10)"
   ]
  },
  {
   "cell_type": "markdown",
   "metadata": {
    "id": "LjYFQrODVqhX"
   },
   "source": [
    "* `ones()`: 모든 요소를 1로 초기화"
   ]
  },
  {
   "cell_type": "code",
   "execution_count": 7,
   "metadata": {
    "colab": {
     "base_uri": "https://localhost:8080/"
    },
    "executionInfo": {
     "elapsed": 1467,
     "status": "ok",
     "timestamp": 1619453562430,
     "user": {
      "displayName": "김세진",
      "photoUrl": "",
      "userId": "11422203094477185698"
     },
     "user_tz": -540
    },
    "id": "MURoqsMsVeUw",
    "outputId": "19eae489-c698-4b6d-9ab1-929be79a728b"
   },
   "outputs": [
    {
     "data": {
      "text/plain": [
       "array([[1., 1., 1.],\n",
       "       [1., 1., 1.],\n",
       "       [1., 1., 1.]])"
      ]
     },
     "execution_count": 7,
     "metadata": {},
     "output_type": "execute_result"
    }
   ],
   "source": [
    "np.ones((3,3))"
   ]
  },
  {
   "cell_type": "markdown",
   "metadata": {
    "id": "jnmm3Cj-cGtx"
   },
   "source": [
    "* `full()`: 모든 요소를 지정한 값으로 초기화"
   ]
  },
  {
   "cell_type": "code",
   "execution_count": 8,
   "metadata": {
    "colab": {
     "base_uri": "https://localhost:8080/"
    },
    "executionInfo": {
     "elapsed": 572,
     "status": "ok",
     "timestamp": 1619453564809,
     "user": {
      "displayName": "김세진",
      "photoUrl": "",
      "userId": "11422203094477185698"
     },
     "user_tz": -540
    },
    "id": "oscabrdcV7Ny",
    "outputId": "6aa56af6-6602-47a8-de80-4e8fdd977a59"
   },
   "outputs": [
    {
     "data": {
      "text/plain": [
       "array([[1.23, 1.23, 1.23],\n",
       "       [1.23, 1.23, 1.23],\n",
       "       [1.23, 1.23, 1.23]])"
      ]
     },
     "execution_count": 8,
     "metadata": {},
     "output_type": "execute_result"
    }
   ],
   "source": [
    "np.full((3,3), 1.23) # 1.23으로 채워진 3x3 행렬"
   ]
  },
  {
   "cell_type": "markdown",
   "metadata": {
    "id": "0SRI4jbmlIKc",
    "lines_to_next_cell": 0
   },
   "source": [
    "* `eye()`: 단위행렬(identity matrix) 생성"
   ]
  },
  {
   "cell_type": "code",
   "execution_count": null,
   "metadata": {
    "title": "주대각선의 원소가 모두 1이고 나머지 원소는 모두 0인 정사각 행렬"
   },
   "outputs": [],
   "source": []
  },
  {
   "cell_type": "code",
   "execution_count": 9,
   "metadata": {
    "colab": {
     "base_uri": "https://localhost:8080/"
    },
    "executionInfo": {
     "elapsed": 600,
     "status": "ok",
     "timestamp": 1619453571365,
     "user": {
      "displayName": "김세진",
      "photoUrl": "",
      "userId": "11422203094477185698"
     },
     "user_tz": -540
    },
    "id": "VceBVLLjk9o5",
    "outputId": "f0ce55e6-a0d6-4a96-83ff-d49625f2c74b"
   },
   "outputs": [
    {
     "data": {
      "text/plain": [
       "array([[1., 0., 0.],\n",
       "       [0., 1., 0.],\n",
       "       [0., 0., 1.]])"
      ]
     },
     "execution_count": 9,
     "metadata": {},
     "output_type": "execute_result"
    }
   ],
   "source": [
    "np.eye(3) # 정사각형형태라 크기만"
   ]
  },
  {
   "cell_type": "markdown",
   "metadata": {
    "id": "7CCH1ZMT5R02"
   },
   "source": [
    "* `tri()`: 삼각행렬 생성"
   ]
  },
  {
   "cell_type": "code",
   "execution_count": 10,
   "metadata": {
    "colab": {
     "base_uri": "https://localhost:8080/"
    },
    "executionInfo": {
     "elapsed": 807,
     "status": "ok",
     "timestamp": 1619453572670,
     "user": {
      "displayName": "김세진",
      "photoUrl": "",
      "userId": "11422203094477185698"
     },
     "user_tz": -540
    },
    "id": "mLe2Bhj05VYu",
    "outputId": "cf7830b1-f3c5-42e2-8751-78aac5c33d50"
   },
   "outputs": [
    {
     "data": {
      "text/plain": [
       "array([[1., 0., 0.],\n",
       "       [1., 1., 0.],\n",
       "       [1., 1., 1.]])"
      ]
     },
     "execution_count": 10,
     "metadata": {},
     "output_type": "execute_result"
    }
   ],
   "source": [
    "np.tri(3)"
   ]
  },
  {
   "cell_type": "markdown",
   "metadata": {
    "id": "ObZRA4HclZlO",
    "lines_to_next_cell": 0
   },
   "source": [
    "* `empty()`: 초기화되지 않은 배열 생성"
   ]
  },
  {
   "cell_type": "code",
   "execution_count": null,
   "metadata": {
    "lines_to_next_cell": 0,
    "title": "초기화가 없어서 배열 생성비용 저렴하고 빠름"
   },
   "outputs": [],
   "source": []
  },
  {
   "cell_type": "code",
   "execution_count": null,
   "metadata": {
    "title": "초기화되지 않아서 기존 메모리 위치에 존재하는 값이 있음"
   },
   "outputs": [],
   "source": []
  },
  {
   "cell_type": "code",
   "execution_count": 11,
   "metadata": {
    "colab": {
     "base_uri": "https://localhost:8080/"
    },
    "executionInfo": {
     "elapsed": 749,
     "status": "ok",
     "timestamp": 1619453575091,
     "user": {
      "displayName": "김세진",
      "photoUrl": "",
      "userId": "11422203094477185698"
     },
     "user_tz": -540
    },
    "id": "I3SoFgiglAkz",
    "outputId": "b4978671-ddec-4af7-ab13-7b1c55f9bd66"
   },
   "outputs": [
    {
     "data": {
      "text/plain": [
       "array([0., 0., 0., 0., 0., 0., 0., 0., 0., 0.])"
      ]
     },
     "execution_count": 11,
     "metadata": {},
     "output_type": "execute_result"
    }
   ],
   "source": [
    "np.empty(10)"
   ]
  },
  {
   "cell_type": "markdown",
   "metadata": {
    "id": "p3uSl1Ccmi5_",
    "lines_to_next_cell": 0
   },
   "source": [
    "* `_like()`: 지정된 배열과 shape가 같은 행렬 생성"
   ]
  },
  {
   "cell_type": "code",
   "execution_count": null,
   "metadata": {
    "lines_to_next_cell": 0,
    "title": "`np.zeros_like()`"
   },
   "outputs": [],
   "source": []
  },
  {
   "cell_type": "code",
   "execution_count": null,
   "metadata": {
    "lines_to_next_cell": 0,
    "title": "`np.ones_like()`"
   },
   "outputs": [],
   "source": []
  },
  {
   "cell_type": "code",
   "execution_count": null,
   "metadata": {
    "lines_to_next_cell": 0,
    "title": "`np.full_like()`"
   },
   "outputs": [],
   "source": []
  },
  {
   "cell_type": "code",
   "execution_count": null,
   "metadata": {
    "title": "`np.empty_like()`"
   },
   "outputs": [],
   "source": []
  },
  {
   "cell_type": "code",
   "execution_count": 12,
   "metadata": {
    "colab": {
     "base_uri": "https://localhost:8080/"
    },
    "executionInfo": {
     "elapsed": 587,
     "status": "ok",
     "timestamp": 1619453580353,
     "user": {
      "displayName": "김세진",
      "photoUrl": "",
      "userId": "11422203094477185698"
     },
     "user_tz": -540
    },
    "id": "Ad5RskRRlZLs",
    "outputId": "5db7b50e-3e8e-4059-d9ad-4b8a21042b5b"
   },
   "outputs": [
    {
     "name": "stdout",
     "output_type": "stream",
     "text": [
      "[4 5 6 4 5]\n"
     ]
    },
    {
     "data": {
      "text/plain": [
       "array([0, 0, 0, 0, 0])"
      ]
     },
     "execution_count": 12,
     "metadata": {},
     "output_type": "execute_result"
    }
   ],
   "source": [
    "print(a1)\n",
    "np.zeros_like(a1)   # a1과 같은 shape의 0행렬 생성"
   ]
  },
  {
   "cell_type": "code",
   "execution_count": 13,
   "metadata": {
    "colab": {
     "base_uri": "https://localhost:8080/"
    },
    "executionInfo": {
     "elapsed": 461,
     "status": "ok",
     "timestamp": 1619453581715,
     "user": {
      "displayName": "김세진",
      "photoUrl": "",
      "userId": "11422203094477185698"
     },
     "user_tz": -540
    },
    "id": "KChUHsG003Nf",
    "outputId": "e7985396-89d2-443e-c2ab-2c537341b0ce"
   },
   "outputs": [
    {
     "name": "stdout",
     "output_type": "stream",
     "text": [
      "[[1 2 3]\n",
      " [4 5 6]\n",
      " [7 8 9]]\n"
     ]
    },
    {
     "data": {
      "text/plain": [
       "array([[1, 1, 1],\n",
       "       [1, 1, 1],\n",
       "       [1, 1, 1]])"
      ]
     },
     "execution_count": 13,
     "metadata": {},
     "output_type": "execute_result"
    }
   ],
   "source": [
    "print(a2)\n",
    "np.ones_like(a2)"
   ]
  },
  {
   "cell_type": "code",
   "execution_count": 14,
   "metadata": {
    "colab": {
     "base_uri": "https://localhost:8080/"
    },
    "executionInfo": {
     "elapsed": 536,
     "status": "ok",
     "timestamp": 1619453581987,
     "user": {
      "displayName": "김세진",
      "photoUrl": "",
      "userId": "11422203094477185698"
     },
     "user_tz": -540
    },
    "id": "PUnDz6b305Gg",
    "outputId": "88cd5a5b-96e4-4c3b-c937-d19c31e03a99"
   },
   "outputs": [
    {
     "name": "stdout",
     "output_type": "stream",
     "text": [
      "[[[1 2 3]\n",
      "  [4 5 6]\n",
      "  [7 8 9]]\n",
      "\n",
      " [[1 2 3]\n",
      "  [4 5 6]\n",
      "  [7 8 9]]\n",
      "\n",
      " [[1 2 3]\n",
      "  [4 5 6]\n",
      "  [7 8 9]]]\n"
     ]
    },
    {
     "data": {
      "text/plain": [
       "array([[[10, 10, 10],\n",
       "        [10, 10, 10],\n",
       "        [10, 10, 10]],\n",
       "\n",
       "       [[10, 10, 10],\n",
       "        [10, 10, 10],\n",
       "        [10, 10, 10]],\n",
       "\n",
       "       [[10, 10, 10],\n",
       "        [10, 10, 10],\n",
       "        [10, 10, 10]]])"
      ]
     },
     "execution_count": 14,
     "metadata": {},
     "output_type": "execute_result"
    }
   ],
   "source": [
    "print(a3)\n",
    "np.full_like(a3, 10)"
   ]
  },
  {
   "cell_type": "markdown",
   "metadata": {
    "id": "apoksGJNrn1z"
   },
   "source": [
    "### 생성한 값으로 배열 생성"
   ]
  },
  {
   "cell_type": "markdown",
   "metadata": {
    "id": "H3nmLct8cnV8"
   },
   "source": [
    "* `arange()`: 정수 범위로 배열 생성"
   ]
  },
  {
   "cell_type": "code",
   "execution_count": 15,
   "metadata": {
    "colab": {
     "base_uri": "https://localhost:8080/"
    },
    "executionInfo": {
     "elapsed": 600,
     "status": "ok",
     "timestamp": 1619453586361,
     "user": {
      "displayName": "김세진",
      "photoUrl": "",
      "userId": "11422203094477185698"
     },
     "user_tz": -540
    },
    "id": "mANy4WY4cDKa",
    "outputId": "d17c5d1e-0663-4ff0-d3ff-03bca858c6a3"
   },
   "outputs": [
    {
     "data": {
      "text/plain": [
       "array([ 0,  2,  4,  6,  8, 10, 12, 14, 16, 18, 20, 22, 24, 26, 28])"
      ]
     },
     "execution_count": 15,
     "metadata": {},
     "output_type": "execute_result"
    }
   ],
   "source": [
    "np.arange(0, 30, 2)"
   ]
  },
  {
   "cell_type": "markdown",
   "metadata": {
    "id": "s5kET1e6itlo"
   },
   "source": [
    "* `linspace()`: 범위 내에서 균등 간격의 배열 생성"
   ]
  },
  {
   "cell_type": "code",
   "execution_count": 16,
   "metadata": {
    "colab": {
     "base_uri": "https://localhost:8080/"
    },
    "executionInfo": {
     "elapsed": 597,
     "status": "ok",
     "timestamp": 1619453593403,
     "user": {
      "displayName": "김세진",
      "photoUrl": "",
      "userId": "11422203094477185698"
     },
     "user_tz": -540
    },
    "id": "u4q9gI7Zcltz",
    "outputId": "330f93ac-799c-4f88-90a2-0d1c9acc6301"
   },
   "outputs": [
    {
     "data": {
      "text/plain": [
       "array([0.  , 0.25, 0.5 , 0.75, 1.  ])"
      ]
     },
     "execution_count": 16,
     "metadata": {},
     "output_type": "execute_result"
    }
   ],
   "source": [
    "np.linspace(0, 1, 5)"
   ]
  },
  {
   "cell_type": "markdown",
   "metadata": {
    "id": "Eq26d7T3nnAH"
   },
   "source": [
    "* `logspace()`: 범위 내에서 균등간격으로 로그 스케일로 배열 생성"
   ]
  },
  {
   "cell_type": "code",
   "execution_count": 17,
   "metadata": {
    "colab": {
     "base_uri": "https://localhost:8080/"
    },
    "executionInfo": {
     "elapsed": 576,
     "status": "ok",
     "timestamp": 1619453597502,
     "user": {
      "displayName": "김세진",
      "photoUrl": "",
      "userId": "11422203094477185698"
     },
     "user_tz": -540
    },
    "id": "-O29WBVEnyXX",
    "outputId": "de1f970e-55f5-48ad-f3bd-1a75733f4bf0"
   },
   "outputs": [
    {
     "data": {
      "text/plain": [
       "array([ 1.25892541,  1.40400425,  1.565802  ,  1.74624535,  1.94748304,\n",
       "        2.1719114 ,  2.42220294,  2.70133812,  3.0126409 ,  3.35981829,\n",
       "        3.74700446,  4.17881006,  4.66037703,  5.19743987,  5.79639395,\n",
       "        6.46437163,  7.2093272 ,  8.04013161,  8.9666781 , 10.        ])"
      ]
     },
     "execution_count": 17,
     "metadata": {},
     "output_type": "execute_result"
    }
   ],
   "source": [
    "np.logspace(0.1, 1, 20)"
   ]
  },
  {
   "cell_type": "markdown",
   "metadata": {
    "id": "6_88s4_Jr7fO"
   },
   "source": [
    "### 랜덤값으로 배열 생성\n",
    "\n",
    "함수|설명\n",
    "--|--\n",
    "seed|난수 발생을 위한 시드(seed) 지정\n",
    "permutation|순서를 임의로 바꾸거나 임의의 순열 반환\n",
    "shuffle| 리스트나 배열의 순서를 뒤섞음\n",
    "random|랜덤한 수의 배열 생성\n",
    "rand|균등분포에서 표본 추출\n",
    "randint|주어진 최소/최대 범위의 난수 추출\n",
    "randn|표준편차가 1, 평균값 0인 정규분포의 표본 추출\n",
    "binomial| 이항분포에서 표본 추출\n",
    "normal|정규분포(가우시안)에서 표본 추출\n",
    "beta|베타분포에서 표본 추출\n",
    "chisquare|카이제곱분포에서 표본 추출\n",
    "gamma|감마분포에서 표본 추출\n",
    "uniform|균등(0,1)분포에서 표본 추출"
   ]
  },
  {
   "cell_type": "markdown",
   "metadata": {
    "id": "CoK1cVUkjNMg"
   },
   "source": [
    "* `random.random()`: 랜덤한 수의 배열 생성"
   ]
  },
  {
   "cell_type": "code",
   "execution_count": 18,
   "metadata": {
    "colab": {
     "base_uri": "https://localhost:8080/"
    },
    "executionInfo": {
     "elapsed": 651,
     "status": "ok",
     "timestamp": 1619453601396,
     "user": {
      "displayName": "김세진",
      "photoUrl": "",
      "userId": "11422203094477185698"
     },
     "user_tz": -540
    },
    "id": "qJwccKEnjMze",
    "outputId": "0d6f7f11-90c0-46f6-cefb-e1fb493f35ae"
   },
   "outputs": [
    {
     "data": {
      "text/plain": [
       "array([[0.11983367, 0.09717819, 0.77208033],\n",
       "       [0.74352596, 0.90859936, 0.36306042],\n",
       "       [0.20868351, 0.09133712, 0.08259066]])"
      ]
     },
     "execution_count": 18,
     "metadata": {},
     "output_type": "execute_result"
    }
   ],
   "source": [
    "np.random.random((3,3))"
   ]
  },
  {
   "cell_type": "markdown",
   "metadata": {
    "id": "BYsAVwA1kvDI"
   },
   "source": [
    "* `random.randint()`: 일정 구간의 랜덤 정수의 배열 생성"
   ]
  },
  {
   "cell_type": "code",
   "execution_count": 19,
   "metadata": {
    "colab": {
     "base_uri": "https://localhost:8080/"
    },
    "executionInfo": {
     "elapsed": 877,
     "status": "ok",
     "timestamp": 1619453605402,
     "user": {
      "displayName": "김세진",
      "photoUrl": "",
      "userId": "11422203094477185698"
     },
     "user_tz": -540
    },
    "id": "oR-UszZ_jqfQ",
    "outputId": "296e1435-39d8-49f6-c61f-e562611dad65"
   },
   "outputs": [
    {
     "data": {
      "text/plain": [
       "array([[8, 8, 9],\n",
       "       [7, 7, 4],\n",
       "       [5, 9, 9]])"
      ]
     },
     "execution_count": 19,
     "metadata": {},
     "output_type": "execute_result"
    }
   ],
   "source": [
    "np.random.randint(0, 10, (3,3))"
   ]
  },
  {
   "cell_type": "markdown",
   "metadata": {
    "id": "2r557WHsjrL3"
   },
   "source": [
    "* `random.normal()`: 정규분포(normal distribution)를 고려한 랜덤한 수의 배열 생성\n",
    "* 평균=0, 표준편차=1, 3 x 3 배열"
   ]
  },
  {
   "cell_type": "code",
   "execution_count": 20,
   "metadata": {
    "colab": {
     "base_uri": "https://localhost:8080/",
     "height": 172
    },
    "executionInfo": {
     "elapsed": 3247,
     "status": "error",
     "timestamp": 1620141412147,
     "user": {
      "displayName": "김세진",
      "photoUrl": "",
      "userId": "11422203094477185698"
     },
     "user_tz": -540
    },
    "id": "Oan3bSpHi2Wq",
    "outputId": "47e97ec8-96e7-4106-ba31-4d9fea527848"
   },
   "outputs": [
    {
     "data": {
      "text/plain": [
       "array([[-0.16451197,  0.00839536, -1.78494483],\n",
       "       [-0.36518057, -0.15585316, -0.17895811],\n",
       "       [ 0.04947747,  0.65740703, -0.51706691]])"
      ]
     },
     "execution_count": 20,
     "metadata": {},
     "output_type": "execute_result"
    }
   ],
   "source": [
    "np.random.normal(0, 1, (3,3))"
   ]
  },
  {
   "cell_type": "markdown",
   "metadata": {
    "id": "fPO-D1rHsrFw"
   },
   "source": [
    "* `random.rand()`: 균등분포(uniform distribution)를 고려한 랜덤한 수의 배열 생성"
   ]
  },
  {
   "cell_type": "code",
   "execution_count": 21,
   "metadata": {
    "colab": {
     "base_uri": "https://localhost:8080/"
    },
    "executionInfo": {
     "elapsed": 573,
     "status": "ok",
     "timestamp": 1619453612704,
     "user": {
      "displayName": "김세진",
      "photoUrl": "",
      "userId": "11422203094477185698"
     },
     "user_tz": -540
    },
    "id": "DxiyEjnXnDUT",
    "outputId": "aa1eba03-eea2-41e1-d55c-995dc3600170"
   },
   "outputs": [
    {
     "data": {
      "text/plain": [
       "array([[0.25743239, 0.82861453, 0.62810324],\n",
       "       [0.33717823, 0.32851428, 0.89251891],\n",
       "       [0.98355264, 0.92610681, 0.01002349]])"
      ]
     },
     "execution_count": 21,
     "metadata": {},
     "output_type": "execute_result"
    }
   ],
   "source": [
    "np.random.rand(3,3)"
   ]
  },
  {
   "cell_type": "markdown",
   "metadata": {
    "id": "IegH2dsPLQgd"
   },
   "source": [
    "* `random.randn()`: 표준 정규 분포(standard normal distribution)를 고려한 랜덤한 수의 배열 생성"
   ]
  },
  {
   "cell_type": "code",
   "execution_count": 22,
   "metadata": {
    "colab": {
     "base_uri": "https://localhost:8080/"
    },
    "executionInfo": {
     "elapsed": 562,
     "status": "ok",
     "timestamp": 1619453617452,
     "user": {
      "displayName": "김세진",
      "photoUrl": "",
      "userId": "11422203094477185698"
     },
     "user_tz": -540
    },
    "id": "V61VHa-JLIma",
    "outputId": "3ca20fee-138a-4c83-9c56-d7861dcb5ca1"
   },
   "outputs": [
    {
     "data": {
      "text/plain": [
       "array([[ 0.42814234, -1.04789343,  1.72188904],\n",
       "       [-1.15815624,  0.78722814,  0.7213545 ],\n",
       "       [-0.31095666, -0.47821701, -0.64565489]])"
      ]
     },
     "execution_count": 22,
     "metadata": {},
     "output_type": "execute_result"
    }
   ],
   "source": [
    "np.random.randn(3,3)"
   ]
  },
  {
   "cell_type": "markdown",
   "metadata": {
    "id": "5ts0cYLQL_pT"
   },
   "source": [
    "### 표준 데이터 타입\n",
    "\n",
    "|데이터타입|설명|\n",
    "|---|---|\n",
    "|bool_|바이트로 저장된 불리언(Boolean)으로 True 또는 False 값을 가짐\n",
    "|int_|기본 정수(Integer) 타입\n",
    "|intc|C 언어에서 사용되는 `int`와 동일(일반적으로 `int32` 또는 `int64`)\n",
    "|intp|인덱싱에 사용되는 정수 (C 언어에서 `ssize_t`와 동일; 일반적으로 `int32`또는 `int64`)\n",
    "|int8|바이트(Byte)(-128~127)\n",
    "|int16|정수(-32768~32767)\n",
    "|int32|정수(-2147483648~2147483647)\n",
    "|int64|정수(-9223372036854775808~9223372036854775807)\n",
    "|uint8|부호 없는 정수(0~255)\n",
    "|uint16|부호 없는 정수(0~65535)\n",
    "|uint32|부호 없는 정수(0~4294967295)\n",
    "|uint64|부호 없는 정수(0~18446744073709551615)\n",
    "|float16|반정밀 부동 소수점(Half precision float):부호 비트, 5비트 지수, 10비트 가수\n",
    "|float32|단정밀 부동 소수점(Single precision float):부호 비트, 8비트 지수, 23비트 가수\n",
    "|float64|qo정밀 부동 소수점(Double precision float):부호 비트, 11비트 지수, 520비트 가수\n",
    "|float_|`float64`를 줄여서 표현\n",
    "|complex64|복소수(Complex number), 두 개의 32비트 부동 소수점으로 표현\n",
    "|complex128|복소수, 두개의 64비트 부동 소수점으로 표현\n",
    "|complex_|`complex128`를 줄여서 표현"
   ]
  },
  {
   "cell_type": "code",
   "execution_count": 23,
   "metadata": {
    "colab": {
     "base_uri": "https://localhost:8080/"
    },
    "executionInfo": {
     "elapsed": 1099,
     "status": "ok",
     "timestamp": 1619453623017,
     "user": {
      "displayName": "김세진",
      "photoUrl": "",
      "userId": "11422203094477185698"
     },
     "user_tz": -540
    },
    "id": "rxqTqAFKL73y",
    "outputId": "29e11a5b-1eab-431b-a135-e1e103826477"
   },
   "outputs": [
    {
     "data": {
      "text/plain": [
       "array([0, 0, 0, 0, 0, 0, 0, 0, 0, 0, 0, 0, 0, 0, 0, 0, 0, 0, 0, 0])"
      ]
     },
     "execution_count": 23,
     "metadata": {},
     "output_type": "execute_result"
    }
   ],
   "source": [
    "np.zeros(20, dtype=int)"
   ]
  },
  {
   "cell_type": "code",
   "execution_count": 24,
   "metadata": {
    "colab": {
     "base_uri": "https://localhost:8080/"
    },
    "executionInfo": {
     "elapsed": 562,
     "status": "ok",
     "timestamp": 1619453626561,
     "user": {
      "displayName": "김세진",
      "photoUrl": "",
      "userId": "11422203094477185698"
     },
     "user_tz": -540
    },
    "id": "o9TuSl6HIsXr",
    "outputId": "5b9a5414-da71-40d4-c786-805eb89cff86"
   },
   "outputs": [
    {
     "data": {
      "text/plain": [
       "array([[ True,  True,  True],\n",
       "       [ True,  True,  True],\n",
       "       [ True,  True,  True]])"
      ]
     },
     "execution_count": 24,
     "metadata": {},
     "output_type": "execute_result"
    }
   ],
   "source": [
    "np.ones((3,3), dtype=bool)"
   ]
  },
  {
   "cell_type": "code",
   "execution_count": 25,
   "metadata": {
    "colab": {
     "base_uri": "https://localhost:8080/"
    },
    "executionInfo": {
     "elapsed": 963,
     "status": "ok",
     "timestamp": 1619453631717,
     "user": {
      "displayName": "김세진",
      "photoUrl": "",
      "userId": "11422203094477185698"
     },
     "user_tz": -540
    },
    "id": "w-TciNfzEhY0",
    "outputId": "b512ceaa-0efd-41c5-ce28-a61193de3ca5"
   },
   "outputs": [
    {
     "data": {
      "text/plain": [
       "array([[1., 1., 1.],\n",
       "       [1., 1., 1.],\n",
       "       [1., 1., 1.]])"
      ]
     },
     "execution_count": 25,
     "metadata": {},
     "output_type": "execute_result"
    }
   ],
   "source": [
    "np.full((3,3), 1.0, dtype=float)"
   ]
  },
  {
   "cell_type": "markdown",
   "metadata": {
    "id": "1qFumu-p-0mQ"
   },
   "source": [
    "### 날짜/시간 배열 생성\n",
    "\n",
    "|코드|의미|상대적 시간 범위|절대적 시간 범위|\n",
    "|--|--|--|--|\n",
    "|`Y`|연|\n",
    "|`M`|월\n",
    "|`W`|주\n",
    "|`D`|일\n",
    "`h`|시\n",
    "`m`|분\n",
    "`s`|초\n",
    "`ms`|밀리초\n",
    "`us`|마이크로초\n",
    "`ns`|나노초\n",
    "`ps`|피코초\n",
    "`fs`|펨토초\n",
    "`as`|아토초"
   ]
  },
  {
   "cell_type": "code",
   "execution_count": 26,
   "metadata": {
    "colab": {
     "base_uri": "https://localhost:8080/"
    },
    "executionInfo": {
     "elapsed": 566,
     "status": "ok",
     "timestamp": 1619453635106,
     "user": {
      "displayName": "김세진",
      "photoUrl": "",
      "userId": "11422203094477185698"
     },
     "user_tz": -540
    },
    "id": "D8ozvTUf-6Rr",
    "outputId": "d6f6acce-2985-4e1a-f903-ac768913133b"
   },
   "outputs": [
    {
     "data": {
      "text/plain": [
       "array('2020-01-01', dtype='datetime64[D]')"
      ]
     },
     "execution_count": 26,
     "metadata": {},
     "output_type": "execute_result"
    }
   ],
   "source": [
    "date = np.array('2020-01-01', dtype=np.datetime64)\n",
    "date"
   ]
  },
  {
   "cell_type": "code",
   "execution_count": 27,
   "metadata": {
    "colab": {
     "base_uri": "https://localhost:8080/"
    },
    "executionInfo": {
     "elapsed": 574,
     "status": "ok",
     "timestamp": 1619453641228,
     "user": {
      "displayName": "김세진",
      "photoUrl": "",
      "userId": "11422203094477185698"
     },
     "user_tz": -540
    },
    "id": "XIjLUkn6_K3J",
    "outputId": "48b8c328-dce2-440b-c1f5-2f08690a45b9"
   },
   "outputs": [
    {
     "data": {
      "text/plain": [
       "array(['2020-01-01', '2020-01-02', '2020-01-03', '2020-01-04',\n",
       "       '2020-01-05', '2020-01-06', '2020-01-07', '2020-01-08',\n",
       "       '2020-01-09', '2020-01-10', '2020-01-11', '2020-01-12'],\n",
       "      dtype='datetime64[D]')"
      ]
     },
     "execution_count": 27,
     "metadata": {},
     "output_type": "execute_result"
    }
   ],
   "source": [
    "date + np.arange(12)"
   ]
  },
  {
   "cell_type": "code",
   "execution_count": 28,
   "metadata": {
    "colab": {
     "base_uri": "https://localhost:8080/"
    },
    "executionInfo": {
     "elapsed": 770,
     "status": "ok",
     "timestamp": 1619453651278,
     "user": {
      "displayName": "김세진",
      "photoUrl": "",
      "userId": "11422203094477185698"
     },
     "user_tz": -540
    },
    "id": "EO7yE5VR_Wlh",
    "outputId": "3a63f993-5738-4de2-8117-65af4f187da6"
   },
   "outputs": [
    {
     "data": {
      "text/plain": [
       "numpy.datetime64('2020-06-01T12:00')"
      ]
     },
     "execution_count": 28,
     "metadata": {},
     "output_type": "execute_result"
    }
   ],
   "source": [
    "datetime = np.datetime64('2020-06-01 12:00')\n",
    "datetime"
   ]
  },
  {
   "cell_type": "code",
   "execution_count": 29,
   "metadata": {
    "colab": {
     "base_uri": "https://localhost:8080/"
    },
    "executionInfo": {
     "elapsed": 878,
     "status": "ok",
     "timestamp": 1619453651647,
     "user": {
      "displayName": "김세진",
      "photoUrl": "",
      "userId": "11422203094477185698"
     },
     "user_tz": -540
    },
    "id": "3dnOlf9i_kzX",
    "outputId": "5b32cc08-780d-4464-de7e-7ed93b7831a7"
   },
   "outputs": [
    {
     "data": {
      "text/plain": [
       "numpy.datetime64('2020-06-01T12:00:12.340000000')"
      ]
     },
     "execution_count": 29,
     "metadata": {},
     "output_type": "execute_result"
    }
   ],
   "source": [
    "datetime = np.datetime64('2020-06-01 12:00:12.34','ns')\n",
    "datetime"
   ]
  },
  {
   "cell_type": "markdown",
   "metadata": {
    "id": "5AREIamhGxAr"
   },
   "source": [
    "\n",
    "\n",
    "---\n",
    "\n"
   ]
  },
  {
   "cell_type": "markdown",
   "metadata": {
    "id": "d88tkTqbBE5V"
   },
   "source": [
    "## 배열 조회"
   ]
  },
  {
   "cell_type": "markdown",
   "metadata": {
    "id": "vRqwfbjtFnPn"
   },
   "source": [
    "### 배열 속성 정보"
   ]
  },
  {
   "cell_type": "code",
   "execution_count": 30,
   "metadata": {
    "id": "R5Rlcll7GXrM"
   },
   "outputs": [],
   "source": [
    "def array_info(array):\n",
    "  print(array)\n",
    "  print(\"ndim:\", array.ndim)\n",
    "  print(\"shape:\", array.shape)\n",
    "  print(\"dtype:\", array.dtype)\n",
    "  print(\"size:\", array.size)\n",
    "  print(\"itemsize:\", array.itemsize) # 각 아이템 하나당 가지는 byte\n",
    "  print(\"nbytes:\", array.nbytes) # size x itemsize\n",
    "  print(\"strides:\", array.strides)"
   ]
  },
  {
   "cell_type": "code",
   "execution_count": 31,
   "metadata": {
    "colab": {
     "base_uri": "https://localhost:8080/"
    },
    "executionInfo": {
     "elapsed": 574,
     "status": "ok",
     "timestamp": 1619453667301,
     "user": {
      "displayName": "김세진",
      "photoUrl": "",
      "userId": "11422203094477185698"
     },
     "user_tz": -540
    },
    "id": "Na59LwA7KXZV",
    "outputId": "f75a8503-2351-40b3-baea-cf1f7d902875"
   },
   "outputs": [
    {
     "name": "stdout",
     "output_type": "stream",
     "text": [
      "[4 5 6 4 5]\n",
      "ndim: 1\n",
      "shape: (5,)\n",
      "dtype: int32\n",
      "size: 5\n",
      "itemsize: 4\n",
      "nbytes: 20\n",
      "strides: (4,)\n"
     ]
    }
   ],
   "source": [
    "array_info(a1)"
   ]
  },
  {
   "cell_type": "code",
   "execution_count": 32,
   "metadata": {
    "colab": {
     "base_uri": "https://localhost:8080/"
    },
    "executionInfo": {
     "elapsed": 1052,
     "status": "ok",
     "timestamp": 1619453668836,
     "user": {
      "displayName": "김세진",
      "photoUrl": "",
      "userId": "11422203094477185698"
     },
     "user_tz": -540
    },
    "id": "Urzr_LsdLah0",
    "outputId": "19a592b6-788b-4591-ab7c-b6a391cd4672"
   },
   "outputs": [
    {
     "name": "stdout",
     "output_type": "stream",
     "text": [
      "[[1 2 3]\n",
      " [4 5 6]\n",
      " [7 8 9]]\n",
      "ndim: 2\n",
      "shape: (3, 3)\n",
      "dtype: int32\n",
      "size: 9\n",
      "itemsize: 4\n",
      "nbytes: 36\n",
      "strides: (12, 4)\n"
     ]
    }
   ],
   "source": [
    "array_info(a2)"
   ]
  },
  {
   "cell_type": "code",
   "execution_count": 33,
   "metadata": {
    "colab": {
     "base_uri": "https://localhost:8080/"
    },
    "executionInfo": {
     "elapsed": 574,
     "status": "ok",
     "timestamp": 1619453673977,
     "user": {
      "displayName": "김세진",
      "photoUrl": "",
      "userId": "11422203094477185698"
     },
     "user_tz": -540
    },
    "id": "jktqh1lsLf4V",
    "outputId": "8001482f-e827-4864-f9fd-87bb7ab1fa97"
   },
   "outputs": [
    {
     "name": "stdout",
     "output_type": "stream",
     "text": [
      "[[[1 2 3]\n",
      "  [4 5 6]\n",
      "  [7 8 9]]\n",
      "\n",
      " [[1 2 3]\n",
      "  [4 5 6]\n",
      "  [7 8 9]]\n",
      "\n",
      " [[1 2 3]\n",
      "  [4 5 6]\n",
      "  [7 8 9]]]\n",
      "ndim: 3\n",
      "shape: (3, 3, 3)\n",
      "dtype: int32\n",
      "size: 27\n",
      "itemsize: 4\n",
      "nbytes: 108\n",
      "strides: (36, 12, 4)\n"
     ]
    }
   ],
   "source": [
    "array_info(a3)"
   ]
  },
  {
   "cell_type": "markdown",
   "metadata": {
    "id": "LV1WfdBWFqDu"
   },
   "source": [
    "### 인덱싱(Indexing)"
   ]
  },
  {
   "cell_type": "code",
   "execution_count": 34,
   "metadata": {
    "colab": {
     "base_uri": "https://localhost:8080/"
    },
    "executionInfo": {
     "elapsed": 674,
     "status": "ok",
     "timestamp": 1619453679268,
     "user": {
      "displayName": "김세진",
      "photoUrl": "",
      "userId": "11422203094477185698"
     },
     "user_tz": -540
    },
    "id": "Nyb7eDmGFr5m",
    "outputId": "d606868b-3e8a-4bca-8f6e-b4b85bbaa5d0"
   },
   "outputs": [
    {
     "name": "stdout",
     "output_type": "stream",
     "text": [
      "[4 5 6 4 5]\n",
      "4\n",
      "6\n",
      "5\n",
      "4\n"
     ]
    }
   ],
   "source": [
    "print(a1)\n",
    "print(a1[0])\n",
    "print(a1[2])\n",
    "print(a1[-1])\n",
    "print(a1[-2])"
   ]
  },
  {
   "cell_type": "code",
   "execution_count": 35,
   "metadata": {
    "colab": {
     "base_uri": "https://localhost:8080/"
    },
    "executionInfo": {
     "elapsed": 1031,
     "status": "ok",
     "timestamp": 1619453681496,
     "user": {
      "displayName": "김세진",
      "photoUrl": "",
      "userId": "11422203094477185698"
     },
     "user_tz": -540
    },
    "id": "uHMNcQW3Kn-h",
    "outputId": "7b35c3a4-2627-4947-b383-14a59d16caed"
   },
   "outputs": [
    {
     "name": "stdout",
     "output_type": "stream",
     "text": [
      "[[1 2 3]\n",
      " [4 5 6]\n",
      " [7 8 9]]\n",
      "1\n",
      "3\n",
      "5\n",
      "9\n"
     ]
    }
   ],
   "source": [
    "print(a2)\n",
    "print(a2[0, 0])\n",
    "print(a2[0, 2])\n",
    "print(a2[1, 1])\n",
    "print(a2[2, -1])"
   ]
  },
  {
   "cell_type": "code",
   "execution_count": 36,
   "metadata": {
    "colab": {
     "base_uri": "https://localhost:8080/"
    },
    "executionInfo": {
     "elapsed": 600,
     "status": "ok",
     "timestamp": 1619453684073,
     "user": {
      "displayName": "김세진",
      "photoUrl": "",
      "userId": "11422203094477185698"
     },
     "user_tz": -540
    },
    "id": "IX5yDMGiMxYZ",
    "outputId": "cd1674c1-6774-4cf2-a06c-9d1383f189fd"
   },
   "outputs": [
    {
     "name": "stdout",
     "output_type": "stream",
     "text": [
      "[[[1 2 3]\n",
      "  [4 5 6]\n",
      "  [7 8 9]]\n",
      "\n",
      " [[1 2 3]\n",
      "  [4 5 6]\n",
      "  [7 8 9]]\n",
      "\n",
      " [[1 2 3]\n",
      "  [4 5 6]\n",
      "  [7 8 9]]]\n",
      "1\n",
      "5\n",
      "9\n",
      "9\n"
     ]
    }
   ],
   "source": [
    "print(a3)\n",
    "print(a3[0,0,0])\n",
    "print(a3[1,1,1])\n",
    "print(a3[2,2,2])\n",
    "print(a3[2,-1,-1])"
   ]
  },
  {
   "cell_type": "markdown",
   "metadata": {
    "id": "uSeXu2y_O4cu"
   },
   "source": [
    "### 슬라이싱(Slicing)"
   ]
  },
  {
   "cell_type": "markdown",
   "metadata": {
    "id": "1hikO_6ZPp5m"
   },
   "source": [
    "* 슬라이싱 구문: `a[start:stop:step]`\n",
    "* 기본값: start=0, stop=ndim, step=1"
   ]
  },
  {
   "cell_type": "code",
   "execution_count": 37,
   "metadata": {
    "colab": {
     "base_uri": "https://localhost:8080/"
    },
    "executionInfo": {
     "elapsed": 670,
     "status": "ok",
     "timestamp": 1619453688933,
     "user": {
      "displayName": "김세진",
      "photoUrl": "",
      "userId": "11422203094477185698"
     },
     "user_tz": -540
    },
    "id": "PYZOOCoVO7BF",
    "outputId": "beff3aaf-9e13-43f7-82cb-8709d069d23e"
   },
   "outputs": [
    {
     "name": "stdout",
     "output_type": "stream",
     "text": [
      "[4 5 6 4 5]\n",
      "[4 5]\n",
      "4\n",
      "[4]\n",
      "[4 6 5]\n",
      "[5 4 6 5 4]\n"
     ]
    }
   ],
   "source": [
    "print(a1)\n",
    "print(a1[0:2])\n",
    "print(a1[0,])\n",
    "print(a1[:1])\n",
    "print(a1[::2])\n",
    "print(a1[::-1])"
   ]
  },
  {
   "cell_type": "code",
   "execution_count": 38,
   "metadata": {
    "colab": {
     "base_uri": "https://localhost:8080/"
    },
    "executionInfo": {
     "elapsed": 1064,
     "status": "ok",
     "timestamp": 1619453690039,
     "user": {
      "displayName": "김세진",
      "photoUrl": "",
      "userId": "11422203094477185698"
     },
     "user_tz": -540
    },
    "id": "oULOFrBQWs1G",
    "outputId": "02143a0e-4e6f-452c-94b4-33c7782d6f73"
   },
   "outputs": [
    {
     "name": "stdout",
     "output_type": "stream",
     "text": [
      "[[1 2 3]\n",
      " [4 5 6]\n",
      " [7 8 9]]\n",
      "[4 5 6]\n",
      "[[1 2]\n",
      " [4 5]]\n",
      "[[6 5 4]\n",
      " [9 8 7]]\n",
      "[[9 8 7]\n",
      " [6 5 4]\n",
      " [3 2 1]]\n"
     ]
    }
   ],
   "source": [
    "print(a2)\n",
    "print(a2[1])\n",
    "print(a2[:2, :2])\n",
    "print(a2[1:, ::-1])\n",
    "print(a2[::-1, ::-1])"
   ]
  },
  {
   "cell_type": "markdown",
   "metadata": {
    "id": "LD52bXAsBgbH"
   },
   "source": [
    "### 불리언 인덱싱(Boolean Indexing)\n",
    "\n",
    "* 배열 각 요소의 선택 여부를 불리언(True or False)로 지정\n",
    "* True 값인 인덱스의 값만 조회"
   ]
  },
  {
   "cell_type": "code",
   "execution_count": 39,
   "metadata": {
    "colab": {
     "base_uri": "https://localhost:8080/"
    },
    "executionInfo": {
     "elapsed": 997,
     "status": "ok",
     "timestamp": 1619453700204,
     "user": {
      "displayName": "김세진",
      "photoUrl": "",
      "userId": "11422203094477185698"
     },
     "user_tz": -540
    },
    "id": "pOvNsH2oBgz-",
    "outputId": "e3386c60-383f-45c5-f5b6-3d8efb0390a6"
   },
   "outputs": [
    {
     "name": "stdout",
     "output_type": "stream",
     "text": [
      "[4 5 6 4 5]\n",
      "[5 6 5]\n",
      "[4 6 4]\n"
     ]
    }
   ],
   "source": [
    "print(a1)\n",
    "bi = [False, True, True, False, True]\n",
    "print(a1[bi])\n",
    "bi = [True, False, True, True, False]\n",
    "print(a1[bi])"
   ]
  },
  {
   "cell_type": "code",
   "execution_count": 40,
   "metadata": {
    "colab": {
     "base_uri": "https://localhost:8080/"
    },
    "executionInfo": {
     "elapsed": 700,
     "status": "ok",
     "timestamp": 1619453702689,
     "user": {
      "displayName": "김세진",
      "photoUrl": "",
      "userId": "11422203094477185698"
     },
     "user_tz": -540
    },
    "id": "EFfquM2kWHAU",
    "outputId": "1072b38a-fab5-4434-d0ad-1bb861594c8f"
   },
   "outputs": [
    {
     "name": "stdout",
     "output_type": "stream",
     "text": [
      "[[1 2 3]\n",
      " [4 5 6]\n",
      " [7 8 9]]\n",
      "[[ True  True False]\n",
      " [ True False False]\n",
      " [False False  True]]\n",
      "[1 2 4 9]\n"
     ]
    }
   ],
   "source": [
    "print(a2)\n",
    "bi = np.random.randint(0, 2, (3, 3), dtype=bool)\n",
    "print(bi)\n",
    "print(a2[bi])"
   ]
  },
  {
   "cell_type": "markdown",
   "metadata": {
    "id": "R5hes-hdBujH"
   },
   "source": [
    "### 팬시 인덱싱(Fancy Indedxing)"
   ]
  },
  {
   "cell_type": "code",
   "execution_count": 41,
   "metadata": {
    "colab": {
     "base_uri": "https://localhost:8080/"
    },
    "executionInfo": {
     "elapsed": 563,
     "status": "ok",
     "timestamp": 1619453705334,
     "user": {
      "displayName": "김세진",
      "photoUrl": "",
      "userId": "11422203094477185698"
     },
     "user_tz": -540
    },
    "id": "z-Luw5fzBx30",
    "outputId": "8a206a69-c108-4ed9-88c8-bc09e65080c3"
   },
   "outputs": [
    {
     "name": "stdout",
     "output_type": "stream",
     "text": [
      "[4 5 6 4 5]\n",
      "[4, 6]\n",
      "[4 6]\n",
      "[[4 5]\n",
      " [6 4]]\n"
     ]
    }
   ],
   "source": [
    "print(a1)\n",
    "print([a1[0], a1[2]])\n",
    "ind = [0, 2]\n",
    "print(a1[ind])\n",
    "ind = np.array([[0, 1],\n",
    "                [2, 0]])\n",
    "print(a1[ind])  # fancy indexing에 따라 shape가 변한다"
   ]
  },
  {
   "cell_type": "code",
   "execution_count": 42,
   "metadata": {
    "colab": {
     "base_uri": "https://localhost:8080/"
    },
    "executionInfo": {
     "elapsed": 608,
     "status": "ok",
     "timestamp": 1619453706318,
     "user": {
      "displayName": "김세진",
      "photoUrl": "",
      "userId": "11422203094477185698"
     },
     "user_tz": -540
    },
    "id": "p_Dd0oiJahgj",
    "outputId": "07c9c632-47a6-4bfd-879e-3e98035902e0"
   },
   "outputs": [
    {
     "name": "stdout",
     "output_type": "stream",
     "text": [
      "[[1 2 3]\n",
      " [4 5 6]\n",
      " [7 8 9]]\n",
      "[2 9]\n",
      "[[1 2 3]\n",
      " [7 8 9]]\n",
      "[[2 3]\n",
      " [5 6]\n",
      " [8 9]]\n",
      "[2 8]\n",
      "[8 9]\n",
      "[[2 3]\n",
      " [8 9]]\n",
      "[[5 6]\n",
      " [8 9]]\n"
     ]
    }
   ],
   "source": [
    "print(a2)\n",
    "row = np.array([0, 2])\n",
    "col = np.array([1, 2])\n",
    "print(a2[row,col])\n",
    "print(a2[row, :])\n",
    "print(a2[:, col])\n",
    "print(a2[row, 1])\n",
    "print(a2[2, col])\n",
    "print(a2[row, 1:])\n",
    "print(a2[1:, col])"
   ]
  },
  {
   "cell_type": "markdown",
   "metadata": {
    "id": "F71_PQF1GvTs"
   },
   "source": [
    "\n",
    "\n",
    "---\n",
    "\n"
   ]
  },
  {
   "cell_type": "markdown",
   "metadata": {
    "id": "zDI5yQ58O-IX"
   },
   "source": [
    "## 배열 값 삽입/수정/삭제/복사"
   ]
  },
  {
   "cell_type": "markdown",
   "metadata": {
    "id": "zajd1qpVOQYy"
   },
   "source": [
    "### 배열 값 삽입\n",
    "\n",
    "* `insert()`: 배열의 특정 위치에 값 삽입\n",
    "* axis를 지정하지 않으면 1차원 배열로 변환\n",
    "* 추가할 방향을 axis로 지정\n",
    "* 원본 배열 변경없이 새로운 배열 반환"
   ]
  },
  {
   "cell_type": "code",
   "execution_count": 43,
   "metadata": {
    "colab": {
     "base_uri": "https://localhost:8080/"
    },
    "executionInfo": {
     "elapsed": 570,
     "status": "ok",
     "timestamp": 1619453714632,
     "user": {
      "displayName": "김세진",
      "photoUrl": "",
      "userId": "11422203094477185698"
     },
     "user_tz": -540
    },
    "id": "sedRT54rP395",
    "outputId": "93185cc2-4b87-49b1-a2f2-4c9f28ecd2a2"
   },
   "outputs": [
    {
     "name": "stdout",
     "output_type": "stream",
     "text": [
      "[4 5 6 4 5]\n",
      "[10  4  5  6  4  5]\n",
      "[ 4  5 10  6  4  5]\n"
     ]
    }
   ],
   "source": [
    "print(a1)\n",
    "b1 = np.insert(a1, 0, 10) # 위치 0에 10을 추가\n",
    "print(b1)\n",
    "c1 = np.insert(a1, 2, 10)\n",
    "print(c1)"
   ]
  },
  {
   "cell_type": "code",
   "execution_count": 44,
   "metadata": {
    "colab": {
     "base_uri": "https://localhost:8080/"
    },
    "executionInfo": {
     "elapsed": 709,
     "status": "ok",
     "timestamp": 1619453722894,
     "user": {
      "displayName": "김세진",
      "photoUrl": "",
      "userId": "11422203094477185698"
     },
     "user_tz": -540
    },
    "id": "zNmu1E4iQ6h-",
    "outputId": "a67ef948-1850-4dca-a148-5e02a083fa69"
   },
   "outputs": [
    {
     "name": "stdout",
     "output_type": "stream",
     "text": [
      "[[1 2 3]\n",
      " [4 5 6]\n",
      " [7 8 9]]\n",
      "[[ 1  2  3]\n",
      " [10 10 10]\n",
      " [ 4  5  6]\n",
      " [ 7  8  9]]\n",
      "[[ 1 10  2  3]\n",
      " [ 4 10  5  6]\n",
      " [ 7 10  8  9]]\n"
     ]
    }
   ],
   "source": [
    "print(a2)\n",
    "b2 = np.insert(a2, 1, 10, axis=0)\n",
    "print(b2) \n",
    "c2 = np.insert(a2, 1, 10, axis=1)\n",
    "print(c2)"
   ]
  },
  {
   "cell_type": "markdown",
   "metadata": {
    "id": "OlEzG4ffNjyL"
   },
   "source": [
    "### 배열 값 수정\n",
    "\n",
    "* 배열의 인덱싱으로 접근하여 값 수정"
   ]
  },
  {
   "cell_type": "code",
   "execution_count": 45,
   "metadata": {
    "colab": {
     "base_uri": "https://localhost:8080/"
    },
    "executionInfo": {
     "elapsed": 578,
     "status": "ok",
     "timestamp": 1619453724651,
     "user": {
      "displayName": "김세진",
      "photoUrl": "",
      "userId": "11422203094477185698"
     },
     "user_tz": -540
    },
    "id": "ec43i1KWNjeN",
    "outputId": "c88ce0dc-eb44-4f9f-a26b-40b0ad7740e8"
   },
   "outputs": [
    {
     "name": "stdout",
     "output_type": "stream",
     "text": [
      "[4 5 6 4 5]\n",
      "[1 2 3 4 5]\n",
      "[9 2 3 4 5]\n",
      "[9 0 3 0 0]\n",
      "[9 4 3 4 4]\n"
     ]
    }
   ],
   "source": [
    "print(a1)\n",
    "a1[0] = 1\n",
    "a1[1] = 2\n",
    "a1[2] = 3\n",
    "print(a1)\n",
    "a1[:1] = 9\n",
    "print(a1)\n",
    "i = np.array([1, 3, 4])\n",
    "a1[i] = 0\n",
    "print(a1)\n",
    "a1[i] += 4\n",
    "print(a1)"
   ]
  },
  {
   "cell_type": "code",
   "execution_count": 46,
   "metadata": {
    "colab": {
     "base_uri": "https://localhost:8080/"
    },
    "executionInfo": {
     "elapsed": 930,
     "status": "ok",
     "timestamp": 1619453743126,
     "user": {
      "displayName": "김세진",
      "photoUrl": "",
      "userId": "11422203094477185698"
     },
     "user_tz": -540
    },
    "id": "IApNNx3NOMQh",
    "outputId": "30a56648-4cac-46a8-d1a0-0b53429a9182"
   },
   "outputs": [
    {
     "name": "stdout",
     "output_type": "stream",
     "text": [
      "[[1 2 3]\n",
      " [4 5 6]\n",
      " [7 8 9]]\n",
      "[[1 1 1]\n",
      " [4 2 6]\n",
      " [7 8 3]]\n",
      "[[1 1 1]\n",
      " [4 2 9]\n",
      " [7 8 9]]\n",
      "[[1 0 1]\n",
      " [4 2 0]\n",
      " [7 8 9]]\n"
     ]
    }
   ],
   "source": [
    " print(a2)\n",
    " a2[0, 0] = 1\n",
    " a2[1, 1] = 2\n",
    " a2[2, 2] = 3\n",
    " a2[0] = 1\n",
    " print(a2)\n",
    " a2[1:, 2] = 9\n",
    " print(a2)\n",
    " row = np.array([0, 1])\n",
    " col = np.array([1, 2])\n",
    " a2[row, col] = 0\n",
    " print(a2)"
   ]
  },
  {
   "cell_type": "markdown",
   "metadata": {
    "id": "emV7DgrITPcn"
   },
   "source": [
    "### 배열 값 삭제\n",
    "\n",
    "* `delete()`: 배열의 특정 위치에 값 삭제\n",
    "* axis를 지정하지 않으면 1차원 배열로 변환\n",
    "* 삭제할 방향을 axis로 지정\n",
    "* 원본 배열 변경없이 새로운 배열 반환"
   ]
  },
  {
   "cell_type": "code",
   "execution_count": 47,
   "metadata": {
    "colab": {
     "base_uri": "https://localhost:8080/"
    },
    "executionInfo": {
     "elapsed": 574,
     "status": "ok",
     "timestamp": 1619453752787,
     "user": {
      "displayName": "김세진",
      "photoUrl": "",
      "userId": "11422203094477185698"
     },
     "user_tz": -540
    },
    "id": "I3k_Yx8lTRJ2",
    "outputId": "9edd9495-2503-459c-ce37-63b91cb5ff83"
   },
   "outputs": [
    {
     "name": "stdout",
     "output_type": "stream",
     "text": [
      "[9 4 3 4 4]\n",
      "[9 3 4 4]\n",
      "[9 4 3 4 4]\n"
     ]
    }
   ],
   "source": [
    "print(a1)\n",
    "b1 = np.delete(a1, 1)\n",
    "print(b1)\n",
    "print(a1) "
   ]
  },
  {
   "cell_type": "code",
   "execution_count": 48,
   "metadata": {
    "colab": {
     "base_uri": "https://localhost:8080/"
    },
    "executionInfo": {
     "elapsed": 562,
     "status": "ok",
     "timestamp": 1619453758406,
     "user": {
      "displayName": "김세진",
      "photoUrl": "",
      "userId": "11422203094477185698"
     },
     "user_tz": -540
    },
    "id": "tRTwMIfJTq_y",
    "outputId": "b1865bfc-ce9d-4ab0-faf9-dd34d182804c"
   },
   "outputs": [
    {
     "name": "stdout",
     "output_type": "stream",
     "text": [
      "[[1 0 1]\n",
      " [4 2 0]\n",
      " [7 8 9]]\n",
      "[[1 0 1]\n",
      " [7 8 9]]\n",
      "[[1 1]\n",
      " [4 0]\n",
      " [7 9]]\n"
     ]
    }
   ],
   "source": [
    "print(a2)\n",
    "b2 = np.delete(a2, 1, axis=0)\n",
    "print(b2)\n",
    "c2 = np.delete(a2, 1, axis=1)\n",
    "print(c2)"
   ]
  },
  {
   "cell_type": "markdown",
   "metadata": {
    "id": "UydkYxV8Z6Fx"
   },
   "source": [
    "### 배열 복사\n",
    "\n",
    "* 리스트 자료형과 달리 배열의 슬라이스는 복사본이 아님"
   ]
  },
  {
   "cell_type": "code",
   "execution_count": 49,
   "metadata": {
    "colab": {
     "base_uri": "https://localhost:8080/"
    },
    "executionInfo": {
     "elapsed": 571,
     "status": "ok",
     "timestamp": 1619453767260,
     "user": {
      "displayName": "김세진",
      "photoUrl": "",
      "userId": "11422203094477185698"
     },
     "user_tz": -540
    },
    "id": "n2_0L8KWZ7wH",
    "outputId": "2ab2c9bf-4777-456f-959c-7b336cd1eadf"
   },
   "outputs": [
    {
     "name": "stdout",
     "output_type": "stream",
     "text": [
      "[[1 0 1]\n",
      " [4 2 0]\n",
      " [7 8 9]]\n",
      "[[1 0]\n",
      " [4 2]]\n",
      "[[1 0]\n",
      " [4 2]]\n",
      "[[1 0]\n",
      " [4 0]]\n",
      "[[1 0 1]\n",
      " [4 0 0]\n",
      " [7 8 9]]\n"
     ]
    }
   ],
   "source": [
    "print(a2)\n",
    "print(a2[:2, :2])\n",
    "a2_sub = a2[:2, :2]\n",
    "print(a2_sub)\n",
    "a2_sub[:, 1] = 0    # 원본 배열까지 값이 바뀌게 됨\n",
    "print(a2_sub)\n",
    "print(a2)"
   ]
  },
  {
   "cell_type": "markdown",
   "metadata": {
    "id": "UrQqOC1Eat5l"
   },
   "source": [
    "\n",
    "* `copy()`: 배열이나 하위 배열 내의 값을 명시적으로 복사"
   ]
  },
  {
   "cell_type": "code",
   "execution_count": 50,
   "metadata": {
    "colab": {
     "base_uri": "https://localhost:8080/"
    },
    "executionInfo": {
     "elapsed": 797,
     "status": "ok",
     "timestamp": 1619453770534,
     "user": {
      "displayName": "김세진",
      "photoUrl": "",
      "userId": "11422203094477185698"
     },
     "user_tz": -540
    },
    "id": "hLBZ7Qn6bAKO",
    "outputId": "1fcb5740-98e6-4da6-c4a8-274838b936a0"
   },
   "outputs": [
    {
     "name": "stdout",
     "output_type": "stream",
     "text": [
      "[[1 0 1]\n",
      " [4 0 0]\n",
      " [7 8 9]]\n",
      "[[1 0]\n",
      " [4 0]]\n",
      "[[1 1]\n",
      " [4 1]]\n",
      "[[1 0 1]\n",
      " [4 0 0]\n",
      " [7 8 9]]\n"
     ]
    }
   ],
   "source": [
    "print(a2)\n",
    "a2_sub_copy = a2[:2, :2].copy()\n",
    "print(a2_sub_copy)\n",
    "a2_sub_copy[:, 1] = 1\n",
    "print(a2_sub_copy)\n",
    "print(a2)"
   ]
  },
  {
   "cell_type": "markdown",
   "metadata": {
    "id": "4HTc9FXOGtA7"
   },
   "source": [
    "\n",
    "\n",
    "---\n",
    "\n"
   ]
  },
  {
   "cell_type": "markdown",
   "metadata": {
    "id": "XVZY082__yV6"
   },
   "source": [
    "## 배열 변환"
   ]
  },
  {
   "cell_type": "markdown",
   "metadata": {
    "id": "Ec09aPeBO58M"
   },
   "source": [
    "### 배열 전치 및 축 변경"
   ]
  },
  {
   "cell_type": "code",
   "execution_count": 51,
   "metadata": {
    "colab": {
     "base_uri": "https://localhost:8080/"
    },
    "executionInfo": {
     "elapsed": 575,
     "status": "ok",
     "timestamp": 1619453775604,
     "user": {
      "displayName": "김세진",
      "photoUrl": "",
      "userId": "11422203094477185698"
     },
     "user_tz": -540
    },
    "id": "anYByBpoWZmj",
    "outputId": "2af68731-fd1e-4c44-c5f8-4589a9fdbfda"
   },
   "outputs": [
    {
     "name": "stdout",
     "output_type": "stream",
     "text": [
      "[[1 0 1]\n",
      " [4 0 0]\n",
      " [7 8 9]]\n",
      "[[1 4 7]\n",
      " [0 0 8]\n",
      " [1 0 9]]\n"
     ]
    }
   ],
   "source": [
    "print(a2)\n",
    "print(a2.T)"
   ]
  },
  {
   "cell_type": "code",
   "execution_count": 52,
   "metadata": {
    "colab": {
     "base_uri": "https://localhost:8080/"
    },
    "executionInfo": {
     "elapsed": 567,
     "status": "ok",
     "timestamp": 1619453777286,
     "user": {
      "displayName": "김세진",
      "photoUrl": "",
      "userId": "11422203094477185698"
     },
     "user_tz": -540
    },
    "id": "wg4XC6kiRnZo",
    "outputId": "37679cfa-b432-432f-a221-41f387d62606"
   },
   "outputs": [
    {
     "name": "stdout",
     "output_type": "stream",
     "text": [
      "[[[1 2 3]\n",
      "  [4 5 6]\n",
      "  [7 8 9]]\n",
      "\n",
      " [[1 2 3]\n",
      "  [4 5 6]\n",
      "  [7 8 9]]\n",
      "\n",
      " [[1 2 3]\n",
      "  [4 5 6]\n",
      "  [7 8 9]]]\n",
      "[[[1 1 1]\n",
      "  [4 4 4]\n",
      "  [7 7 7]]\n",
      "\n",
      " [[2 2 2]\n",
      "  [5 5 5]\n",
      "  [8 8 8]]\n",
      "\n",
      " [[3 3 3]\n",
      "  [6 6 6]\n",
      "  [9 9 9]]]\n"
     ]
    }
   ],
   "source": [
    "print(a3)\n",
    "print(a3.T)"
   ]
  },
  {
   "cell_type": "code",
   "execution_count": 53,
   "metadata": {
    "colab": {
     "base_uri": "https://localhost:8080/"
    },
    "executionInfo": {
     "elapsed": 716,
     "status": "ok",
     "timestamp": 1619453779630,
     "user": {
      "displayName": "김세진",
      "photoUrl": "",
      "userId": "11422203094477185698"
     },
     "user_tz": -540
    },
    "id": "6lPwXL8rRTfI",
    "outputId": "73d2072a-48ff-4340-c487-70154c844722"
   },
   "outputs": [
    {
     "name": "stdout",
     "output_type": "stream",
     "text": [
      "[[1 0 1]\n",
      " [4 0 0]\n",
      " [7 8 9]]\n",
      "[[1 4 7]\n",
      " [0 0 8]\n",
      " [1 0 9]]\n"
     ]
    }
   ],
   "source": [
    "print(a2)\n",
    "print(a2.swapaxes(1, 0))"
   ]
  },
  {
   "cell_type": "code",
   "execution_count": 54,
   "metadata": {
    "colab": {
     "base_uri": "https://localhost:8080/"
    },
    "executionInfo": {
     "elapsed": 528,
     "status": "ok",
     "timestamp": 1619453779987,
     "user": {
      "displayName": "김세진",
      "photoUrl": "",
      "userId": "11422203094477185698"
     },
     "user_tz": -540
    },
    "id": "oLbEHtijRewH",
    "outputId": "71425fc9-0f57-4a8b-fdc4-1e8266f37b07"
   },
   "outputs": [
    {
     "name": "stdout",
     "output_type": "stream",
     "text": [
      "[[[1 2 3]\n",
      "  [4 5 6]\n",
      "  [7 8 9]]\n",
      "\n",
      " [[1 2 3]\n",
      "  [4 5 6]\n",
      "  [7 8 9]]\n",
      "\n",
      " [[1 2 3]\n",
      "  [4 5 6]\n",
      "  [7 8 9]]]\n",
      "[[[1 2 3]\n",
      "  [1 2 3]\n",
      "  [1 2 3]]\n",
      "\n",
      " [[4 5 6]\n",
      "  [4 5 6]\n",
      "  [4 5 6]]\n",
      "\n",
      " [[7 8 9]\n",
      "  [7 8 9]\n",
      "  [7 8 9]]]\n",
      "[[[1 4 7]\n",
      "  [2 5 8]\n",
      "  [3 6 9]]\n",
      "\n",
      " [[1 4 7]\n",
      "  [2 5 8]\n",
      "  [3 6 9]]\n",
      "\n",
      " [[1 4 7]\n",
      "  [2 5 8]\n",
      "  [3 6 9]]]\n"
     ]
    }
   ],
   "source": [
    "print(a3)\n",
    "print(a3.swapaxes(0, 1))\n",
    "print(a3.swapaxes(1, 2))"
   ]
  },
  {
   "cell_type": "markdown",
   "metadata": {
    "id": "M7xN8WdOdb_S"
   },
   "source": [
    "### 배열 재구조화\n"
   ]
  },
  {
   "cell_type": "markdown",
   "metadata": {
    "id": "JwZJMpXGfY0V"
   },
   "source": [
    "* `reshape()`: 배열의 형상을 변경"
   ]
  },
  {
   "cell_type": "code",
   "execution_count": 55,
   "metadata": {
    "colab": {
     "base_uri": "https://localhost:8080/"
    },
    "executionInfo": {
     "elapsed": 1115,
     "status": "ok",
     "timestamp": 1619453783458,
     "user": {
      "displayName": "김세진",
      "photoUrl": "",
      "userId": "11422203094477185698"
     },
     "user_tz": -540
    },
    "id": "SlGQ17VQdd8i",
    "outputId": "967c03ed-81a7-4753-c404-5f9c11a06cf8"
   },
   "outputs": [
    {
     "name": "stdout",
     "output_type": "stream",
     "text": [
      "[1 2 3 4 5 6 7 8 9]\n",
      "[[1 2 3]\n",
      " [4 5 6]\n",
      " [7 8 9]]\n"
     ]
    }
   ],
   "source": [
    "n1 = np.arange(1, 10)\n",
    "print(n1)\n",
    "print(n1.reshape(3,3))"
   ]
  },
  {
   "cell_type": "markdown",
   "metadata": {
    "id": "y_U1W-fQfuQY"
   },
   "source": [
    "* `newaxis()`: 새로운 축 추가"
   ]
  },
  {
   "cell_type": "code",
   "execution_count": 56,
   "metadata": {
    "colab": {
     "base_uri": "https://localhost:8080/"
    },
    "executionInfo": {
     "elapsed": 793,
     "status": "ok",
     "timestamp": 1619453842733,
     "user": {
      "displayName": "김세진",
      "photoUrl": "",
      "userId": "11422203094477185698"
     },
     "user_tz": -540
    },
    "id": "COif_weCfkGo",
    "outputId": "61dfa95a-421e-487b-b169-1d2cccfba567"
   },
   "outputs": [
    {
     "name": "stdout",
     "output_type": "stream",
     "text": [
      "[1 2 3 4 5 6 7 8 9]\n",
      "[[1 2 3 4 5]]\n",
      "[[1]\n",
      " [2]\n",
      " [3]\n",
      " [4]\n",
      " [5]]\n"
     ]
    }
   ],
   "source": [
    "print(n1)\n",
    "print(n1[np.newaxis, :5])\n",
    "print(n1[:5, np.newaxis])"
   ]
  },
  {
   "cell_type": "markdown",
   "metadata": {
    "id": "FR82RSDggbcJ"
   },
   "source": [
    "### 배열 크기 변경"
   ]
  },
  {
   "cell_type": "markdown",
   "metadata": {
    "id": "D1LuDMVFl4tc"
   },
   "source": [
    "* 배열 모양만 변경"
   ]
  },
  {
   "cell_type": "code",
   "execution_count": 57,
   "metadata": {
    "colab": {
     "base_uri": "https://localhost:8080/"
    },
    "executionInfo": {
     "elapsed": 1245,
     "status": "ok",
     "timestamp": 1619458118870,
     "user": {
      "displayName": "김세진",
      "photoUrl": "",
      "userId": "11422203094477185698"
     },
     "user_tz": -540
    },
    "id": "7B6pHlfxgdSJ",
    "outputId": "c59de66f-81ff-49b5-a01d-2411320d51ec"
   },
   "outputs": [
    {
     "name": "stdout",
     "output_type": "stream",
     "text": [
      "[[1 7 4 1 6]\n",
      " [8 8 9 7 3]]\n",
      "[[1 7]\n",
      " [4 1]\n",
      " [6 8]\n",
      " [8 9]\n",
      " [7 3]]\n"
     ]
    }
   ],
   "source": [
    "n2 = np.random.randint(0, 10, (2, 5))\n",
    "print(n2)\n",
    "n2.resize((5,2))\n",
    "print(n2)"
   ]
  },
  {
   "cell_type": "markdown",
   "metadata": {
    "id": "s0adm-h9l6sv"
   },
   "source": [
    "* 배열 크기 증가\n",
    "* 남은 공간은 0으로 채워짐"
   ]
  },
  {
   "cell_type": "code",
   "execution_count": 58,
   "metadata": {
    "colab": {
     "base_uri": "https://localhost:8080/"
    },
    "executionInfo": {
     "elapsed": 603,
     "status": "ok",
     "timestamp": 1619458152132,
     "user": {
      "displayName": "김세진",
      "photoUrl": "",
      "userId": "11422203094477185698"
     },
     "user_tz": -540
    },
    "id": "IrX0UcjrlWRV",
    "outputId": "f1855364-808e-4192-b5ca-774281685b70"
   },
   "outputs": [
    {
     "name": "stdout",
     "output_type": "stream",
     "text": [
      "[[1 7 4 1 6]\n",
      " [8 8 9 7 3]\n",
      " [0 0 0 0 0]\n",
      " [0 0 0 0 0]\n",
      " [0 0 0 0 0]]\n"
     ]
    }
   ],
   "source": [
    "n2.resize((5,5))\n",
    "print(n2)"
   ]
  },
  {
   "cell_type": "markdown",
   "metadata": {
    "id": "78hPDEzfl9JB"
   },
   "source": [
    "* 배열 크기 감소\n",
    "* 포함되지 않은 값은 삭제됨"
   ]
  },
  {
   "cell_type": "code",
   "execution_count": 59,
   "metadata": {
    "colab": {
     "base_uri": "https://localhost:8080/"
    },
    "executionInfo": {
     "elapsed": 856,
     "status": "ok",
     "timestamp": 1619458178585,
     "user": {
      "displayName": "김세진",
      "photoUrl": "",
      "userId": "11422203094477185698"
     },
     "user_tz": -540
    },
    "id": "fJWrwhc6lmjW",
    "outputId": "af025b02-f2c3-4a82-bd3e-c38dafc85d50"
   },
   "outputs": [
    {
     "name": "stdout",
     "output_type": "stream",
     "text": [
      "[[1 7 4]\n",
      " [1 6 8]\n",
      " [8 9 7]]\n"
     ]
    }
   ],
   "source": [
    "n2.resize((3,3))\n",
    "print(n2)"
   ]
  },
  {
   "cell_type": "markdown",
   "metadata": {
    "id": "r9z2gD_pHyx9"
   },
   "source": [
    "### 배열 추가\n",
    "\n",
    "* `append()`: 배열의 끝에 값 추가"
   ]
  },
  {
   "cell_type": "code",
   "execution_count": 60,
   "metadata": {
    "colab": {
     "base_uri": "https://localhost:8080/"
    },
    "executionInfo": {
     "elapsed": 555,
     "status": "ok",
     "timestamp": 1619458249397,
     "user": {
      "displayName": "김세진",
      "photoUrl": "",
      "userId": "11422203094477185698"
     },
     "user_tz": -540
    },
    "id": "fH4lpQKNH5s1",
    "outputId": "13817423-42e2-499d-a5bc-7fa4d5f910a7"
   },
   "outputs": [
    {
     "name": "stdout",
     "output_type": "stream",
     "text": [
      "[[1 2 3]\n",
      " [4 5 6]\n",
      " [7 8 9]]\n",
      "[[10 11 12]\n",
      " [13 14 15]\n",
      " [16 17 18]]\n"
     ]
    }
   ],
   "source": [
    "a2 = np.arange(1, 10).reshape(3, 3)\n",
    "print(a2)\n",
    "b2 = np.arange(10, 19).reshape(3, 3)\n",
    "print(b2)"
   ]
  },
  {
   "cell_type": "markdown",
   "metadata": {
    "id": "n8SMl5VVIquk"
   },
   "source": [
    "* axis 지정이 없으면 1차원 배열 형태로 변형되어 결합"
   ]
  },
  {
   "cell_type": "code",
   "execution_count": 61,
   "metadata": {
    "colab": {
     "base_uri": "https://localhost:8080/"
    },
    "executionInfo": {
     "elapsed": 532,
     "status": "ok",
     "timestamp": 1619458414663,
     "user": {
      "displayName": "김세진",
      "photoUrl": "",
      "userId": "11422203094477185698"
     },
     "user_tz": -540
    },
    "id": "LRltk3yFIVsV",
    "outputId": "4f234213-8047-44d8-9b06-9656af8021d6"
   },
   "outputs": [
    {
     "name": "stdout",
     "output_type": "stream",
     "text": [
      "[ 1  2  3  4  5  6  7  8  9 10 11 12 13 14 15 16 17 18]\n"
     ]
    }
   ],
   "source": [
    "c2 = np.append(a2, b2)\n",
    "print(c2)"
   ]
  },
  {
   "cell_type": "markdown",
   "metadata": {
    "id": "sVW2UFVZJfpR"
   },
   "source": [
    "* axis를 0으로 지정\n",
    "* shape[0]을 제외한 나머지 shape은 같아야 함"
   ]
  },
  {
   "cell_type": "code",
   "execution_count": 62,
   "metadata": {
    "colab": {
     "base_uri": "https://localhost:8080/"
    },
    "executionInfo": {
     "elapsed": 681,
     "status": "ok",
     "timestamp": 1619458439274,
     "user": {
      "displayName": "김세진",
      "photoUrl": "",
      "userId": "11422203094477185698"
     },
     "user_tz": -540
    },
    "id": "nwJ4xLOeIbMg",
    "outputId": "2daff4ae-913a-43de-8a2b-bab796f75f9d"
   },
   "outputs": [
    {
     "name": "stdout",
     "output_type": "stream",
     "text": [
      "[[ 1  2  3]\n",
      " [ 4  5  6]\n",
      " [ 7  8  9]\n",
      " [10 11 12]\n",
      " [13 14 15]\n",
      " [16 17 18]]\n"
     ]
    }
   ],
   "source": [
    "c2 = np.append(a2, b2, axis=0)\n",
    "print(c2)"
   ]
  },
  {
   "cell_type": "markdown",
   "metadata": {
    "id": "4YXxzygaJmj-"
   },
   "source": [
    "* axis를 1로 지정\n",
    "* shape[1]을 제외한 나머지 shape은 같아야 함"
   ]
  },
  {
   "cell_type": "code",
   "execution_count": 63,
   "metadata": {
    "colab": {
     "base_uri": "https://localhost:8080/"
    },
    "executionInfo": {
     "elapsed": 581,
     "status": "ok",
     "timestamp": 1619458463714,
     "user": {
      "displayName": "김세진",
      "photoUrl": "",
      "userId": "11422203094477185698"
     },
     "user_tz": -540
    },
    "id": "JYE4_5gAJmYe",
    "outputId": "2ae019ee-c8ef-4a47-fcc7-4c46daf102b1"
   },
   "outputs": [
    {
     "name": "stdout",
     "output_type": "stream",
     "text": [
      "[[ 1  2  3 10 11 12]\n",
      " [ 4  5  6 13 14 15]\n",
      " [ 7  8  9 16 17 18]]\n"
     ]
    }
   ],
   "source": [
    "c2 = np.append(a2, b2, axis=1)\n",
    "print(c2)"
   ]
  },
  {
   "cell_type": "markdown",
   "metadata": {
    "id": "9sTza3b2hoe4"
   },
   "source": [
    "### 배열 연결"
   ]
  },
  {
   "cell_type": "markdown",
   "metadata": {
    "id": "TRun2NPYj8Ct"
   },
   "source": [
    "* `concatenate()`: 튜플이나 배열의 리스트를 인수로 사용해 배열 연결"
   ]
  },
  {
   "cell_type": "code",
   "execution_count": 64,
   "metadata": {
    "colab": {
     "base_uri": "https://localhost:8080/"
    },
    "executionInfo": {
     "elapsed": 578,
     "status": "ok",
     "timestamp": 1619458520337,
     "user": {
      "displayName": "김세진",
      "photoUrl": "",
      "userId": "11422203094477185698"
     },
     "user_tz": -540
    },
    "id": "lmEqdPifhrB_",
    "outputId": "890eba86-8ab2-45ce-8e75-48c524c69465"
   },
   "outputs": [
    {
     "data": {
      "text/plain": [
       "array([1, 3, 5, 2, 4, 6])"
      ]
     },
     "execution_count": 64,
     "metadata": {},
     "output_type": "execute_result"
    }
   ],
   "source": [
    "a1 = np.array([1, 3, 5])\n",
    "b1 = np.array([2, 4, 6])\n",
    "np.concatenate([a1, b1])"
   ]
  },
  {
   "cell_type": "code",
   "execution_count": 65,
   "metadata": {
    "colab": {
     "base_uri": "https://localhost:8080/"
    },
    "executionInfo": {
     "elapsed": 921,
     "status": "ok",
     "timestamp": 1619458549479,
     "user": {
      "displayName": "김세진",
      "photoUrl": "",
      "userId": "11422203094477185698"
     },
     "user_tz": -540
    },
    "id": "IkoTNIt2k0tp",
    "outputId": "fc7c085b-4ce7-4ff0-a86d-bbc816c31484"
   },
   "outputs": [
    {
     "data": {
      "text/plain": [
       "array([1, 3, 5, 2, 4, 6, 7, 8, 9])"
      ]
     },
     "execution_count": 65,
     "metadata": {},
     "output_type": "execute_result"
    }
   ],
   "source": [
    "c1 = np.array([7, 8, 9])\n",
    "np.concatenate([a1, b1, c1])"
   ]
  },
  {
   "cell_type": "code",
   "execution_count": 66,
   "metadata": {
    "colab": {
     "base_uri": "https://localhost:8080/"
    },
    "executionInfo": {
     "elapsed": 882,
     "status": "ok",
     "timestamp": 1619458578932,
     "user": {
      "displayName": "김세진",
      "photoUrl": "",
      "userId": "11422203094477185698"
     },
     "user_tz": -540
    },
    "id": "vX0SCYX3lEs2",
    "outputId": "dbccbc5c-2ae3-4400-9117-aae0caf830e8"
   },
   "outputs": [
    {
     "data": {
      "text/plain": [
       "array([[1, 2, 3],\n",
       "       [4, 5, 6],\n",
       "       [1, 2, 3],\n",
       "       [4, 5, 6]])"
      ]
     },
     "execution_count": 66,
     "metadata": {},
     "output_type": "execute_result"
    }
   ],
   "source": [
    "a2 = np.array([[1, 2, 3],\n",
    "               [4, 5, 6]])\n",
    "np.concatenate([a2, a2])"
   ]
  },
  {
   "cell_type": "code",
   "execution_count": 67,
   "metadata": {
    "colab": {
     "base_uri": "https://localhost:8080/"
    },
    "executionInfo": {
     "elapsed": 567,
     "status": "ok",
     "timestamp": 1619458589971,
     "user": {
      "displayName": "김세진",
      "photoUrl": "",
      "userId": "11422203094477185698"
     },
     "user_tz": -540
    },
    "id": "Rv6xGva7lxHP",
    "outputId": "02b71318-fcee-4e76-a30c-69d34b309f02"
   },
   "outputs": [
    {
     "data": {
      "text/plain": [
       "array([[1, 2, 3, 1, 2, 3],\n",
       "       [4, 5, 6, 4, 5, 6]])"
      ]
     },
     "execution_count": 67,
     "metadata": {},
     "output_type": "execute_result"
    }
   ],
   "source": [
    "a2 = np.array([[1, 2, 3],\n",
    "               [4, 5, 6]])\n",
    "np.concatenate([a2, a2], axis=1)"
   ]
  },
  {
   "cell_type": "markdown",
   "metadata": {
    "id": "MbiBbx4nl2KD"
   },
   "source": [
    "* `vstack()`: 수직 스택(vertical stack), 1차원으로 연결"
   ]
  },
  {
   "cell_type": "code",
   "execution_count": 68,
   "metadata": {
    "colab": {
     "base_uri": "https://localhost:8080/"
    },
    "executionInfo": {
     "elapsed": 582,
     "status": "ok",
     "timestamp": 1619458625284,
     "user": {
      "displayName": "김세진",
      "photoUrl": "",
      "userId": "11422203094477185698"
     },
     "user_tz": -540
    },
    "id": "HkHJwdBMl_qi",
    "outputId": "f7e4c27d-f4d1-49ba-ccf7-3988da7f440f"
   },
   "outputs": [
    {
     "data": {
      "text/plain": [
       "array([[1, 2, 3],\n",
       "       [4, 5, 6],\n",
       "       [1, 2, 3],\n",
       "       [4, 5, 6]])"
      ]
     },
     "execution_count": 68,
     "metadata": {},
     "output_type": "execute_result"
    }
   ],
   "source": [
    "np.vstack([a2, a2])"
   ]
  },
  {
   "cell_type": "markdown",
   "metadata": {
    "id": "-hTlAnWxmHA_"
   },
   "source": [
    "* `hstack()`: 수평 스택(horizontal stack), 2차원으로 연결"
   ]
  },
  {
   "cell_type": "code",
   "execution_count": 69,
   "metadata": {
    "colab": {
     "base_uri": "https://localhost:8080/"
    },
    "executionInfo": {
     "elapsed": 1101,
     "status": "ok",
     "timestamp": 1619458634581,
     "user": {
      "displayName": "김세진",
      "photoUrl": "",
      "userId": "11422203094477185698"
     },
     "user_tz": -540
    },
    "id": "-HsGlAytmNEz",
    "outputId": "703654a3-0846-468c-b5f1-8790383b076d"
   },
   "outputs": [
    {
     "data": {
      "text/plain": [
       "array([[1, 2, 3, 1, 2, 3],\n",
       "       [4, 5, 6, 4, 5, 6]])"
      ]
     },
     "execution_count": 69,
     "metadata": {},
     "output_type": "execute_result"
    }
   ],
   "source": [
    "np.hstack([a2, a2])"
   ]
  },
  {
   "cell_type": "markdown",
   "metadata": {
    "id": "CshM6LURmUhV"
   },
   "source": [
    "* `dstack()`: 깊이 스택(depth stack), 3차원으로 연결"
   ]
  },
  {
   "cell_type": "code",
   "execution_count": 70,
   "metadata": {
    "colab": {
     "base_uri": "https://localhost:8080/"
    },
    "executionInfo": {
     "elapsed": 740,
     "status": "ok",
     "timestamp": 1619458645877,
     "user": {
      "displayName": "김세진",
      "photoUrl": "",
      "userId": "11422203094477185698"
     },
     "user_tz": -540
    },
    "id": "TFBdRddpmU4m",
    "outputId": "476257d1-20f8-4df2-fd61-f96f77e6a79e"
   },
   "outputs": [
    {
     "data": {
      "text/plain": [
       "array([[[1, 1],\n",
       "        [2, 2],\n",
       "        [3, 3]],\n",
       "\n",
       "       [[4, 4],\n",
       "        [5, 5],\n",
       "        [6, 6]]])"
      ]
     },
     "execution_count": 70,
     "metadata": {},
     "output_type": "execute_result"
    }
   ],
   "source": [
    "np.dstack([a2, a2])"
   ]
  },
  {
   "cell_type": "markdown",
   "metadata": {
    "id": "JUBtc4UnpaSz"
   },
   "source": [
    "* `stack()`: 새로운 차원으로 연결"
   ]
  },
  {
   "cell_type": "code",
   "execution_count": 71,
   "metadata": {
    "colab": {
     "base_uri": "https://localhost:8080/"
    },
    "executionInfo": {
     "elapsed": 670,
     "status": "ok",
     "timestamp": 1619458664138,
     "user": {
      "displayName": "김세진",
      "photoUrl": "",
      "userId": "11422203094477185698"
     },
     "user_tz": -540
    },
    "id": "JzoujQ9_pHS5",
    "outputId": "6f189fbb-19fc-48e4-bfb6-aa5a99ff7b72"
   },
   "outputs": [
    {
     "data": {
      "text/plain": [
       "array([[[1, 2, 3],\n",
       "        [4, 5, 6]],\n",
       "\n",
       "       [[1, 2, 3],\n",
       "        [4, 5, 6]]])"
      ]
     },
     "execution_count": 71,
     "metadata": {},
     "output_type": "execute_result"
    }
   ],
   "source": [
    "np.stack([a2, a2])"
   ]
  },
  {
   "cell_type": "markdown",
   "metadata": {
    "id": "eYz74NYKo8iH"
   },
   "source": [
    "### 배열 분할"
   ]
  },
  {
   "cell_type": "markdown",
   "metadata": {
    "id": "wjt2zku5pBmF"
   },
   "source": [
    "* `split()`: 배열 분할"
   ]
  },
  {
   "cell_type": "code",
   "execution_count": 72,
   "metadata": {
    "colab": {
     "base_uri": "https://localhost:8080/"
    },
    "executionInfo": {
     "elapsed": 867,
     "status": "ok",
     "timestamp": 1619458748848,
     "user": {
      "displayName": "김세진",
      "photoUrl": "",
      "userId": "11422203094477185698"
     },
     "user_tz": -540
    },
    "id": "H_2e71heo-Eq",
    "outputId": "ec680b1e-a1b7-48bc-ec80-77d61118ca8f"
   },
   "outputs": [
    {
     "name": "stdout",
     "output_type": "stream",
     "text": [
      "[0 1 2 3 4 5 6 7 8 9]\n",
      "[0 1 2 3 4] [5 6 7 8 9]\n",
      "[0 1] [2 3] [4 5] [6 7] [8 9]\n"
     ]
    }
   ],
   "source": [
    "a1 = np.arange(0, 10)\n",
    "print(a1)\n",
    "b1 , c1 = np.split(a1, [5])\n",
    "print(b1, c1)\n",
    "b1, c1, d1, e1, f1 = np.split(a1, [2, 4, 6, 8])\n",
    "print(b1, c1, d1, e1, f1)"
   ]
  },
  {
   "cell_type": "markdown",
   "metadata": {
    "id": "IvvdCQcKsCLn"
   },
   "source": [
    "* `vsplit()`: 수직 분할, 1차원으로 분할"
   ]
  },
  {
   "cell_type": "code",
   "execution_count": 73,
   "metadata": {
    "colab": {
     "base_uri": "https://localhost:8080/"
    },
    "executionInfo": {
     "elapsed": 578,
     "status": "ok",
     "timestamp": 1619458823366,
     "user": {
      "displayName": "김세진",
      "photoUrl": "",
      "userId": "11422203094477185698"
     },
     "user_tz": -540
    },
    "id": "GdMYlsiLsCoe",
    "outputId": "22a0fe0e-f78c-45c7-b424-efb2cbc0afb5"
   },
   "outputs": [
    {
     "name": "stdout",
     "output_type": "stream",
     "text": [
      "[[1 2 3]\n",
      " [4 5 6]\n",
      " [7 8 9]]\n",
      "[[1 2 3]\n",
      " [4 5 6]]\n",
      "[[7 8 9]]\n"
     ]
    }
   ],
   "source": [
    "a2 = np.arange(1, 10).reshape(3, 3)\n",
    "print(a2)\n",
    "b2, c2 = np.vsplit(a2, [2])\n",
    "print(b2)\n",
    "print(c2)"
   ]
  },
  {
   "cell_type": "markdown",
   "metadata": {
    "id": "1aC0a034rSXi"
   },
   "source": [
    "* `hsplit()`: 수평 분할, 2차원으로 분할"
   ]
  },
  {
   "cell_type": "code",
   "execution_count": 74,
   "metadata": {
    "colab": {
     "base_uri": "https://localhost:8080/"
    },
    "executionInfo": {
     "elapsed": 554,
     "status": "ok",
     "timestamp": 1619458854509,
     "user": {
      "displayName": "김세진",
      "photoUrl": "",
      "userId": "11422203094477185698"
     },
     "user_tz": -540
    },
    "id": "ShMnE_bnrSBJ",
    "outputId": "d868f62d-87d5-4e9c-c2d4-1891b03273ea"
   },
   "outputs": [
    {
     "name": "stdout",
     "output_type": "stream",
     "text": [
      "[[1 2 3]\n",
      " [4 5 6]\n",
      " [7 8 9]]\n",
      "[[1 2]\n",
      " [4 5]\n",
      " [7 8]]\n",
      "[[3]\n",
      " [6]\n",
      " [9]]\n"
     ]
    }
   ],
   "source": [
    "a2 = np.arange(1, 10).reshape(3, 3)\n",
    "print(a2)\n",
    "b2, c2 = np.hsplit(a2, [2])\n",
    "print(b2)\n",
    "print(c2)"
   ]
  },
  {
   "cell_type": "markdown",
   "metadata": {
    "id": "Pz3BDD8qsQER"
   },
   "source": [
    "* `dsplit()`: 깊이 분할, 3차원으로 분할"
   ]
  },
  {
   "cell_type": "code",
   "execution_count": 75,
   "metadata": {
    "colab": {
     "base_uri": "https://localhost:8080/"
    },
    "executionInfo": {
     "elapsed": 610,
     "status": "ok",
     "timestamp": 1619458895766,
     "user": {
      "displayName": "김세진",
      "photoUrl": "",
      "userId": "11422203094477185698"
     },
     "user_tz": -540
    },
    "id": "DqHFGd43sQYj",
    "outputId": "1be28870-177b-4d14-e640-2f0150ce52ee"
   },
   "outputs": [
    {
     "name": "stdout",
     "output_type": "stream",
     "text": [
      "[[[ 1  2  3]\n",
      "  [ 4  5  6]\n",
      "  [ 7  8  9]]\n",
      "\n",
      " [[10 11 12]\n",
      "  [13 14 15]\n",
      "  [16 17 18]]\n",
      "\n",
      " [[19 20 21]\n",
      "  [22 23 24]\n",
      "  [25 26 27]]]\n",
      "[[[ 1  2]\n",
      "  [ 4  5]\n",
      "  [ 7  8]]\n",
      "\n",
      " [[10 11]\n",
      "  [13 14]\n",
      "  [16 17]]\n",
      "\n",
      " [[19 20]\n",
      "  [22 23]\n",
      "  [25 26]]]\n",
      "[[[ 3]\n",
      "  [ 6]\n",
      "  [ 9]]\n",
      "\n",
      " [[12]\n",
      "  [15]\n",
      "  [18]]\n",
      "\n",
      " [[21]\n",
      "  [24]\n",
      "  [27]]]\n"
     ]
    }
   ],
   "source": [
    "a3 = np.arange(1, 28).reshape(3, 3, 3)\n",
    "print(a3)\n",
    "b3, c3 = np.dsplit(a3, [2])\n",
    "print(b3)\n",
    "print(c3)"
   ]
  },
  {
   "cell_type": "markdown",
   "metadata": {
    "id": "rK-zrDZuGoVd"
   },
   "source": [
    "\n",
    "\n",
    "---\n",
    "\n"
   ]
  },
  {
   "cell_type": "markdown",
   "metadata": {
    "id": "Vc-iSWewJ3C1"
   },
   "source": [
    "## 배열 연산\n",
    "\n",
    "* NumPy의 배열 연산은 벡터화(vectorized) 연산을 사용\n",
    "* 일반적으로 NumPy의 범용 함수(universal functions)를 통해 구현\n",
    "* 배열 요소에 대한 반복적인 계산을 효율적으로 수행"
   ]
  },
  {
   "cell_type": "markdown",
   "metadata": {
    "id": "Pg2er1A2w3cz"
   },
   "source": [
    "### 브로드캐스팅(Broadcasting)"
   ]
  },
  {
   "cell_type": "code",
   "execution_count": 76,
   "metadata": {
    "colab": {
     "base_uri": "https://localhost:8080/"
    },
    "executionInfo": {
     "elapsed": 573,
     "status": "ok",
     "timestamp": 1619459144997,
     "user": {
      "displayName": "김세진",
      "photoUrl": "",
      "userId": "11422203094477185698"
     },
     "user_tz": -540
    },
    "id": "IGU-HRgr20nj",
    "outputId": "98e6e87d-85fc-448a-c61e-56dff7cbbaa0"
   },
   "outputs": [
    {
     "name": "stdout",
     "output_type": "stream",
     "text": [
      "[1 2 3]\n",
      "[6 7 8]\n",
      "[[1 2 3]\n",
      " [4 5 6]\n",
      " [7 8 9]]\n",
      "[[ 2  4  6]\n",
      " [ 5  7  9]\n",
      " [ 8 10 12]]\n",
      "[[1]\n",
      " [2]\n",
      " [3]]\n",
      "[[2 3 4]\n",
      " [3 4 5]\n",
      " [4 5 6]]\n"
     ]
    }
   ],
   "source": [
    "a1 = np.array([1, 2, 3])\n",
    "print(a1)\n",
    "print(a1 + 5)\n",
    "\n",
    "a2 = np.arange(1, 10).reshape(3,3)\n",
    "print(a2)\n",
    "print(a1 + a2)\n",
    "\n",
    "b2 = np.array([1, 2, 3]).reshape(3,1)\n",
    "print(b2)\n",
    "print(a1 + b2)"
   ]
  },
  {
   "cell_type": "markdown",
   "metadata": {
    "id": "NZzLHHLmwl_b"
   },
   "source": [
    "### 산술 연산(Arithmetic Operators)\n",
    "\n",
    "|연산자|범용함수|설명|\n",
    "|--|--|--|\n",
    "|``+``|``np.add``|덧셈|\n",
    "|``-``|``np.subtract``|뺄셈|\n",
    "|``-``|``np.negative``|단항 음수|\n",
    "|``*``|``np.multiply``|곱셈|\n",
    "|``/``|``np.divide``|나눗셈|\n",
    "|``//``|``np.floor_divide``|나눗셈 내림|\n",
    "|``**``|``np.power``|지수 연산|\n",
    "|``%``|``np.mod``|나머지 연산|"
   ]
  },
  {
   "cell_type": "code",
   "execution_count": 77,
   "metadata": {
    "colab": {
     "base_uri": "https://localhost:8080/"
    },
    "executionInfo": {
     "elapsed": 689,
     "status": "ok",
     "timestamp": 1619459574381,
     "user": {
      "displayName": "김세진",
      "photoUrl": "",
      "userId": "11422203094477185698"
     },
     "user_tz": -540
    },
    "id": "jHrIjHGEi05k",
    "outputId": "9cdf0230-ee29-4c7f-e30e-06ab22e7eadc"
   },
   "outputs": [
    {
     "name": "stdout",
     "output_type": "stream",
     "text": [
      "[1 2 3 4 5 6 7 8 9]\n",
      "[ 2  3  4  5  6  7  8  9 10]\n",
      "[11 12 13 14 15 16 17 18 19]\n",
      "[-1  0  1  2  3  4  5  6  7]\n",
      "[-9 -8 -7 -6 -5 -4 -3 -2 -1]\n",
      "[-1 -2 -3 -4 -5 -6 -7 -8 -9]\n",
      "[-1 -2 -3 -4 -5 -6 -7 -8 -9]\n",
      "[ 2  4  6  8 10 12 14 16 18]\n",
      "[ 2  4  6  8 10 12 14 16 18]\n",
      "[0.5 1.  1.5 2.  2.5 3.  3.5 4.  4.5]\n",
      "[0.5 1.  1.5 2.  2.5 3.  3.5 4.  4.5]\n",
      "[0 1 1 2 2 3 3 4 4]\n",
      "[0 1 1 2 2 3 3 4 4]\n",
      "[ 1  4  9 16 25 36 49 64 81]\n",
      "[ 1  4  9 16 25 36 49 64 81]\n",
      "[1 0 1 0 1 0 1 0 1]\n",
      "[1 0 1 0 1 0 1 0 1]\n"
     ]
    }
   ],
   "source": [
    "a1 = np.arange(1, 10)\n",
    "print(a1)\n",
    "print(a1 + 1)\n",
    "print(np.add(a1, 10))\n",
    "print(a1 - 2)\n",
    "print(np.subtract(a1, 10))\n",
    "print(-a1)\n",
    "print(np.negative(a1))\n",
    "print(a1 * 2)\n",
    "print(np.multiply(a1, 2))\n",
    "print(a1 / 2)\n",
    "print(np.divide(a1, 2))\n",
    "print(a1 // 2)\n",
    "print(np.floor_divide(a1, 2))\n",
    "print(a1 ** 2)\n",
    "print(np.power(a1, 2))\n",
    "print(a1 % 2)\n",
    "print(np.mod(a1, 2))"
   ]
  },
  {
   "cell_type": "code",
   "execution_count": 78,
   "metadata": {
    "colab": {
     "base_uri": "https://localhost:8080/"
    },
    "executionInfo": {
     "elapsed": 564,
     "status": "ok",
     "timestamp": 1619459646515,
     "user": {
      "displayName": "김세진",
      "photoUrl": "",
      "userId": "11422203094477185698"
     },
     "user_tz": -540
    },
    "id": "sMUYzXk3psgC",
    "outputId": "31ca83bc-3553-4036-bc23-c684da6df769"
   },
   "outputs": [
    {
     "name": "stdout",
     "output_type": "stream",
     "text": [
      "[1 2 3 4 5 6 7 8 9]\n",
      "[ 7  6  9  5  9  7  9 13 14]\n",
      "[-5 -2 -3  3  1  5  5  3  4]\n",
      "[ 6  8 18  4 20  6 14 40 45]\n",
      "[0.16666667 0.5        0.5        4.         1.25       6.\n",
      " 3.5        1.6        1.8       ]\n",
      "[0 0 0 4 1 6 3 1 1]\n",
      "[    1    16   729     4   625     6    49 32768 59049]\n",
      "[1 2 3 0 1 0 1 3 4]\n"
     ]
    }
   ],
   "source": [
    "a1 = np.arange(1,10)\n",
    "print(a1)\n",
    "b1 = np.random.randint(1, 10, size=9)\n",
    "print(a1 + b1)\n",
    "print(a1 - b1)\n",
    "print(a1 * b1)\n",
    "print(a1 / b1)\n",
    "print(a1 // b1)\n",
    "print(a1 ** b1)\n",
    "print(a1 % b1)"
   ]
  },
  {
   "cell_type": "code",
   "execution_count": 79,
   "metadata": {
    "colab": {
     "base_uri": "https://localhost:8080/"
    },
    "executionInfo": {
     "elapsed": 591,
     "status": "ok",
     "timestamp": 1619459751188,
     "user": {
      "displayName": "김세진",
      "photoUrl": "",
      "userId": "11422203094477185698"
     },
     "user_tz": -540
    },
    "id": "ZkyjPmk5onPK",
    "outputId": "d06d4da0-6a10-4c72-8e53-6537c678fe76"
   },
   "outputs": [
    {
     "name": "stdout",
     "output_type": "stream",
     "text": [
      "[[1 2 3]\n",
      " [4 5 6]\n",
      " [7 8 9]]\n",
      "[[9 2 9]\n",
      " [1 5 5]\n",
      " [7 4 6]]\n",
      "[[10  4 12]\n",
      " [ 5 10 11]\n",
      " [14 12 15]]\n",
      "[[-8  0 -6]\n",
      " [ 3  0  1]\n",
      " [ 0  4  3]]\n",
      "[[ 9  4 27]\n",
      " [ 4 25 30]\n",
      " [49 32 54]]\n",
      "[[0.11111111 1.         0.33333333]\n",
      " [4.         1.         1.2       ]\n",
      " [1.         2.         1.5       ]]\n",
      "[[0 1 0]\n",
      " [4 1 1]\n",
      " [1 2 1]]\n",
      "[[     1      4  19683]\n",
      " [     4   3125   7776]\n",
      " [823543   4096 531441]]\n",
      "[[1 0 3]\n",
      " [0 0 1]\n",
      " [0 0 3]]\n"
     ]
    }
   ],
   "source": [
    "a2 = np.arange(1, 10).reshape(3, 3)\n",
    "print(a2)\n",
    "b2 = np.random.randint(1, 10, size=(3,3))\n",
    "print(b2)\n",
    "print(a2 + b2)\n",
    "print(a2 - b2)\n",
    "print(a2 * b2)\n",
    "print(a2 / b2)\n",
    "print(a2 // b2)\n",
    "print(a2 ** b2)\n",
    "print(a2 % b2)"
   ]
  },
  {
   "cell_type": "markdown",
   "metadata": {
    "id": "hxG_aECas3a9"
   },
   "source": [
    "#### 절대값 함수(Absolute Function)\n",
    "\n",
    "* `absolute()`, `abs()`: 내장된 절대값 함수"
   ]
  },
  {
   "cell_type": "code",
   "execution_count": 80,
   "metadata": {
    "colab": {
     "base_uri": "https://localhost:8080/"
    },
    "executionInfo": {
     "elapsed": 775,
     "status": "ok",
     "timestamp": 1619459807312,
     "user": {
      "displayName": "김세진",
      "photoUrl": "",
      "userId": "11422203094477185698"
     },
     "user_tz": -540
    },
    "id": "YmX-0LvWs7qM",
    "outputId": "7ae10ca1-5c2e-47a7-c947-13b56b368303"
   },
   "outputs": [
    {
     "name": "stdout",
     "output_type": "stream",
     "text": [
      "[ 7 -9  0  4  2]\n",
      "[7 9 0 4 2]\n",
      "[7 9 0 4 2]\n"
     ]
    }
   ],
   "source": [
    "a1 = np.random.randint(-10,10, size=5)\n",
    "print(a1)\n",
    "print(np.absolute(a1))\n",
    "print(np.abs(a1))"
   ]
  },
  {
   "cell_type": "markdown",
   "metadata": {
    "id": "U5uE3sVtzRvA"
   },
   "source": [
    "#### 제곱/제곱근 함수\n",
    "\n",
    "* `square`, `sqrt`: 제곱, 제곱근 함수"
   ]
  },
  {
   "cell_type": "code",
   "execution_count": 81,
   "metadata": {
    "colab": {
     "base_uri": "https://localhost:8080/"
    },
    "executionInfo": {
     "elapsed": 529,
     "status": "ok",
     "timestamp": 1619459840269,
     "user": {
      "displayName": "김세진",
      "photoUrl": "",
      "userId": "11422203094477185698"
     },
     "user_tz": -540
    },
    "id": "ggnIxDGzzTfX",
    "outputId": "1464e3f4-1f9b-45e6-a481-6a0f8d512cc5"
   },
   "outputs": [
    {
     "name": "stdout",
     "output_type": "stream",
     "text": [
      "[ 7 -9  0  4  2]\n",
      "[49 81  0 16  4]\n",
      "[2.64575131        nan 0.         2.         1.41421356]\n"
     ]
    },
    {
     "name": "stderr",
     "output_type": "stream",
     "text": [
      "<ipython-input-81-4e034cb7ea92>:3: RuntimeWarning: invalid value encountered in sqrt\n",
      "  print(np.sqrt(a1))\n"
     ]
    }
   ],
   "source": [
    "print(a1)\n",
    "print(np.square(a1))\n",
    "print(np.sqrt(a1))"
   ]
  },
  {
   "cell_type": "markdown",
   "metadata": {
    "id": "tWh1aQ50vRhB"
   },
   "source": [
    "#### 지수와 로그 함수 (Exponential and Log Function)"
   ]
  },
  {
   "cell_type": "code",
   "execution_count": 82,
   "metadata": {
    "colab": {
     "base_uri": "https://localhost:8080/"
    },
    "executionInfo": {
     "elapsed": 582,
     "status": "ok",
     "timestamp": 1619459890912,
     "user": {
      "displayName": "김세진",
      "photoUrl": "",
      "userId": "11422203094477185698"
     },
     "user_tz": -540
    },
    "id": "Dygt3AyHvTZz",
    "outputId": "796020bb-e2b8-4d59-ba63-b2f2cfc1608c"
   },
   "outputs": [
    {
     "name": "stdout",
     "output_type": "stream",
     "text": [
      "[7 5 9 2 2]\n",
      "[1.09663316e+03 1.48413159e+02 8.10308393e+03 7.38905610e+00\n",
      " 7.38905610e+00]\n",
      "[128.  32. 512.   4.   4.]\n",
      "[49 25 81  4  4]\n"
     ]
    }
   ],
   "source": [
    "a1 = np.random.randint(1, 10, size=5)\n",
    "print(a1)\n",
    "print(np.exp(a1))\n",
    "print(np.exp2(a1))\n",
    "print(np.power(a1, 2))"
   ]
  },
  {
   "cell_type": "code",
   "execution_count": 83,
   "metadata": {
    "colab": {
     "base_uri": "https://localhost:8080/"
    },
    "executionInfo": {
     "elapsed": 578,
     "status": "ok",
     "timestamp": 1619459967395,
     "user": {
      "displayName": "김세진",
      "photoUrl": "",
      "userId": "11422203094477185698"
     },
     "user_tz": -540
    },
    "id": "YB0BzwxDvnkT",
    "outputId": "5e7d2cf8-c1db-41ce-8ba7-456c1a39071d"
   },
   "outputs": [
    {
     "name": "stdout",
     "output_type": "stream",
     "text": [
      "[7 5 9 2 2]\n",
      "[1.94591015 1.60943791 2.19722458 0.69314718 0.69314718]\n",
      "[2.80735492 2.32192809 3.169925   1.         1.        ]\n",
      "[0.84509804 0.69897    0.95424251 0.30103    0.30103   ]\n"
     ]
    }
   ],
   "source": [
    "print(a1)\n",
    "print(np.log(a1))\n",
    "print(np.log2(a1))\n",
    "print(np.log10(a1))"
   ]
  },
  {
   "cell_type": "markdown",
   "metadata": {
    "id": "wE_p9AxjtdJ9"
   },
   "source": [
    "#### 삼각 함수(Trigonometrical Function)\n",
    "\n",
    "|함수|설명|\n",
    "|--|--|\n",
    "np.sin(array)|요소 별 사인\n",
    "np.cos(array)|요소 별 코사인\n",
    "np.tan(array)|요소 별 탄젠트\n",
    "np.arcsin(array)|요소 별 아크 사인\n",
    "np.arccos(array)|요소 별 아크 코사인\n",
    "np.arctan(array)|요소 별 아크 탄젠트\n",
    "np.arctan2(array1, array2)|요소 별 아크 탄젠트\n",
    "np.sinh(array)|요소 별 하이퍼볼릭 사인\n",
    "np.cosh(array)|요소 별 하이퍼볼릭 코사인\n",
    "np.tanh(array)|요소 별 하이퍼볼릭 탄젠트\n",
    "np.arcsinh(array)|요소 별 하이퍼볼릭 아크 사인\n",
    "np.arccosh(array)|요소 별 하이퍼볼릭 아크 코사인\n",
    "np.arctanh(array)|요소 별 하이퍼볼릭 아크 탄젠트\n",
    "np.deg2rad(array)|요소별 각도에서 라디안 변환\n",
    "np.rad2deg(array)|요소별 라디안에서 각도 변환\n",
    "np.hypot(array1, array2)|요소별 유클리드 거리 계산"
   ]
  },
  {
   "cell_type": "code",
   "execution_count": 84,
   "metadata": {
    "colab": {
     "base_uri": "https://localhost:8080/"
    },
    "executionInfo": {
     "elapsed": 914,
     "status": "ok",
     "timestamp": 1619460236170,
     "user": {
      "displayName": "김세진",
      "photoUrl": "",
      "userId": "11422203094477185698"
     },
     "user_tz": -540
    },
    "id": "6bOSPS81tuo5",
    "outputId": "a5ea70c7-081e-4912-87c6-d39a8c924c1f"
   },
   "outputs": [
    {
     "name": "stdout",
     "output_type": "stream",
     "text": [
      "[0.         1.57079633 3.14159265]\n",
      "[0.0000000e+00 1.0000000e+00 1.2246468e-16]\n",
      "[ 1.000000e+00  6.123234e-17 -1.000000e+00]\n",
      "[ 0.00000000e+00  1.63312394e+16 -1.22464680e-16]\n"
     ]
    }
   ],
   "source": [
    "t = np.linspace(0, np.pi, 3)\n",
    "print(t)\n",
    "print(np.sin(t))\n",
    "print(np.cos(t))\n",
    "print(np.tan(t))"
   ]
  },
  {
   "cell_type": "code",
   "execution_count": 85,
   "metadata": {
    "colab": {
     "base_uri": "https://localhost:8080/"
    },
    "executionInfo": {
     "elapsed": 573,
     "status": "ok",
     "timestamp": 1619460321449,
     "user": {
      "displayName": "김세진",
      "photoUrl": "",
      "userId": "11422203094477185698"
     },
     "user_tz": -540
    },
    "id": "v7m-AQW9uJ9u",
    "outputId": "964f2981-2260-4589-bff2-fe41f729b254"
   },
   "outputs": [
    {
     "name": "stdout",
     "output_type": "stream",
     "text": [
      "[-1, 0, 1]\n",
      "[-1.57079633  0.          1.57079633]\n",
      "[3.14159265 1.57079633 0.        ]\n",
      "[-0.78539816  0.          0.78539816]\n"
     ]
    }
   ],
   "source": [
    " x = [-1, 0, 1]\n",
    " print(x)\n",
    " print(np.arcsin(x))\n",
    " print(np.arccos(x))\n",
    " print(np.arctan(x))"
   ]
  },
  {
   "cell_type": "markdown",
   "metadata": {
    "id": "hKJtYUVWwxQy"
   },
   "source": [
    "### 집계 함수(Aggregate Functions)\n",
    "\n",
    "|함수|NaN 안전 모드|설명|\n",
    "|--|--|--|\n",
    "np.sum|np.nansum|요소의 합 계산\n",
    "np.cumsum|np.nancumsum|요소의 누적 합\n",
    "np.diff|N/A|요소의 차분\n",
    "np.prod|np.nanprod|요소의 곱 계산\n",
    "np.cumprod|np.nancumprod|요소의 누적 곱\n",
    "np.dot|N/A|점 곱\n",
    "np.matmul|N/A|행렬 곱\n",
    "np.tensordot|N/A|텐서 곱\n",
    "np.cross|N/A|벡터곱\n",
    "np.inner|N/A|내적\n",
    "np.outer|N/A|외적\n",
    "np.mean|np.nanmean|요소의 평균 계산\n",
    "np.std|np.nanstd|표준 편차 계산\n",
    "np.var|np.nanvar|분산계산\n",
    "np.min|np.nanmin|최소값\n",
    "np.max|np.nanmax|최대값\n",
    "np.argmin|np.nanargmin|최소값 인덱스\n",
    "np.argmax|np.nanargmax|최대값 인덱스"
   ]
  },
  {
   "cell_type": "markdown",
   "metadata": {
    "id": "GdxMrX5l9m6W"
   },
   "source": [
    "#### sum(): 합 계산"
   ]
  },
  {
   "cell_type": "code",
   "execution_count": 86,
   "metadata": {
    "colab": {
     "base_uri": "https://localhost:8080/"
    },
    "executionInfo": {
     "elapsed": 578,
     "status": "ok",
     "timestamp": 1619460748979,
     "user": {
      "displayName": "김세진",
      "photoUrl": "",
      "userId": "11422203094477185698"
     },
     "user_tz": -540
    },
    "id": "AJQ3GjLI0cZU",
    "outputId": "8d229e18-b0b3-4fa3-c979-daa6aa37161b"
   },
   "outputs": [
    {
     "name": "stdout",
     "output_type": "stream",
     "text": [
      "[[4 5 4]\n",
      " [7 4 3]\n",
      " [2 7 1]]\n",
      "37 37\n",
      "[13 16  8] [13 16  8]\n",
      "[13 14 10] [13 14 10]\n"
     ]
    }
   ],
   "source": [
    "a2 = np.random.randint(1, 10, size=(3,3))\n",
    "print(a2)\n",
    "print(a2.sum(), np.sum(a2))\n",
    "print(a2.sum(axis=0), np.sum(a2, axis=0))\n",
    "print(a2.sum(axis=1), np.sum(a2, axis=1))"
   ]
  },
  {
   "cell_type": "markdown",
   "metadata": {
    "id": "U4W4iIb9J4Zd"
   },
   "source": [
    "#### cumsum(): 누적합 계산"
   ]
  },
  {
   "cell_type": "code",
   "execution_count": 87,
   "metadata": {
    "colab": {
     "base_uri": "https://localhost:8080/"
    },
    "executionInfo": {
     "elapsed": 583,
     "status": "ok",
     "timestamp": 1619460818464,
     "user": {
      "displayName": "김세진",
      "photoUrl": "",
      "userId": "11422203094477185698"
     },
     "user_tz": -540
    },
    "id": "SRZWZD3UJ4wo",
    "outputId": "03c9889d-e01e-4ca9-8dc0-0047d2cbea28"
   },
   "outputs": [
    {
     "name": "stdout",
     "output_type": "stream",
     "text": [
      "[[4 5 4]\n",
      " [7 4 3]\n",
      " [2 7 1]]\n",
      "[ 4  9 13 20 24 27 29 36 37]\n",
      "[[ 4  5  4]\n",
      " [11  9  7]\n",
      " [13 16  8]]\n",
      "[[ 4  9 13]\n",
      " [ 7 11 14]\n",
      " [ 2  9 10]]\n"
     ]
    }
   ],
   "source": [
    "print(a2)\n",
    "print(np.cumsum(a2))\n",
    "print(np.cumsum(a2, axis=0))\n",
    "print(np.cumsum(a2, axis=1))"
   ]
  },
  {
   "cell_type": "markdown",
   "metadata": {
    "id": "pVaJRWQ-LV0f"
   },
   "source": [
    "#### diff(): 차분 계산"
   ]
  },
  {
   "cell_type": "code",
   "execution_count": 88,
   "metadata": {
    "colab": {
     "base_uri": "https://localhost:8080/"
    },
    "executionInfo": {
     "elapsed": 687,
     "status": "ok",
     "timestamp": 1619460872829,
     "user": {
      "displayName": "김세진",
      "photoUrl": "",
      "userId": "11422203094477185698"
     },
     "user_tz": -540
    },
    "id": "yKjnWtGVLWJj",
    "outputId": "71cd02cb-2e83-4df8-be6e-50681bff8937"
   },
   "outputs": [
    {
     "name": "stdout",
     "output_type": "stream",
     "text": [
      "[[4 5 4]\n",
      " [7 4 3]\n",
      " [2 7 1]]\n",
      "[[ 1 -1]\n",
      " [-3 -1]\n",
      " [ 5 -6]]\n",
      "[[ 3 -1 -1]\n",
      " [-5  3 -2]]\n",
      "[[ 1 -1]\n",
      " [-3 -1]\n",
      " [ 5 -6]]\n"
     ]
    }
   ],
   "source": [
    "print(a2)\n",
    "print(np.diff(a2))\n",
    "print(np.diff(a2, axis=0))\n",
    "print(np.diff(a2, axis=1))"
   ]
  },
  {
   "cell_type": "markdown",
   "metadata": {
    "id": "b6I38HfA9vGL"
   },
   "source": [
    "#### prod(): 곱 계산"
   ]
  },
  {
   "cell_type": "code",
   "execution_count": 89,
   "metadata": {
    "colab": {
     "base_uri": "https://localhost:8080/"
    },
    "executionInfo": {
     "elapsed": 586,
     "status": "ok",
     "timestamp": 1619460995670,
     "user": {
      "displayName": "김세진",
      "photoUrl": "",
      "userId": "11422203094477185698"
     },
     "user_tz": -540
    },
    "id": "rGPMXGe89y0O",
    "outputId": "3944ccc7-2ae1-4b35-a3d5-bbd375c129e8"
   },
   "outputs": [
    {
     "name": "stdout",
     "output_type": "stream",
     "text": [
      "[[4 5 4]\n",
      " [7 4 3]\n",
      " [2 7 1]]\n",
      "94080\n",
      "[ 56 140  12]\n",
      "[80 84 14]\n"
     ]
    }
   ],
   "source": [
    "print(a2)\n",
    "print(np.prod(a2))\n",
    "print(np.prod(a2, axis=0))\n",
    "print(np.prod(a2, axis=1))"
   ]
  },
  {
   "cell_type": "markdown",
   "metadata": {
    "id": "RwaoVUGcKkkE"
   },
   "source": [
    "#### cumprod(): 누적곱 계산"
   ]
  },
  {
   "cell_type": "code",
   "execution_count": 90,
   "metadata": {
    "colab": {
     "base_uri": "https://localhost:8080/"
    },
    "executionInfo": {
     "elapsed": 696,
     "status": "ok",
     "timestamp": 1619461016922,
     "user": {
      "displayName": "김세진",
      "photoUrl": "",
      "userId": "11422203094477185698"
     },
     "user_tz": -540
    },
    "id": "jwYoX9inKk4D",
    "outputId": "1e04368e-a51e-4e31-8762-1c552c2298bf"
   },
   "outputs": [
    {
     "name": "stdout",
     "output_type": "stream",
     "text": [
      "[[4 5 4]\n",
      " [7 4 3]\n",
      " [2 7 1]]\n",
      "[    4    20    80   560  2240  6720 13440 94080 94080]\n",
      "[[  4   5   4]\n",
      " [ 28  20  12]\n",
      " [ 56 140  12]]\n",
      "[[ 4 20 80]\n",
      " [ 7 28 84]\n",
      " [ 2 14 14]]\n"
     ]
    }
   ],
   "source": [
    "print(a2)\n",
    "print(np.cumprod(a2))\n",
    "print(np.cumprod(a2, axis=0))\n",
    "print(np.cumprod(a2, axis=1))"
   ]
  },
  {
   "cell_type": "markdown",
   "metadata": {
    "id": "_LMAbL9hMV7T"
   },
   "source": [
    "#### dot()/matmul(): 점곱/행렬곱 계산"
   ]
  },
  {
   "cell_type": "code",
   "execution_count": 91,
   "metadata": {
    "colab": {
     "base_uri": "https://localhost:8080/"
    },
    "executionInfo": {
     "elapsed": 572,
     "status": "ok",
     "timestamp": 1619461076691,
     "user": {
      "displayName": "김세진",
      "photoUrl": "",
      "userId": "11422203094477185698"
     },
     "user_tz": -540
    },
    "id": "xC6FBzF0MWW1",
    "outputId": "82a744eb-7927-4b04-f8cd-ce155367a306"
   },
   "outputs": [
    {
     "name": "stdout",
     "output_type": "stream",
     "text": [
      "[[4 5 4]\n",
      " [7 4 3]\n",
      " [2 7 1]]\n",
      "[[1 1 1]\n",
      " [1 1 1]\n",
      " [1 1 1]]\n",
      "[[13 13 13]\n",
      " [14 14 14]\n",
      " [10 10 10]]\n",
      "[[13 13 13]\n",
      " [14 14 14]\n",
      " [10 10 10]]\n"
     ]
    }
   ],
   "source": [
    "print(a2)\n",
    "b2 = np.ones_like(a2)\n",
    "print(b2)\n",
    "print(np.dot(a2, b2))\n",
    "print(np.matmul(a2, b2))"
   ]
  },
  {
   "cell_type": "markdown",
   "metadata": {
    "id": "juVk3vnjPu31"
   },
   "source": [
    "#### tensordot(): 텐서곱 계산"
   ]
  },
  {
   "cell_type": "code",
   "execution_count": 92,
   "metadata": {
    "colab": {
     "base_uri": "https://localhost:8080/"
    },
    "executionInfo": {
     "elapsed": 754,
     "status": "ok",
     "timestamp": 1619461137304,
     "user": {
      "displayName": "김세진",
      "photoUrl": "",
      "userId": "11422203094477185698"
     },
     "user_tz": -540
    },
    "id": "3LrcLOcjPvNI",
    "outputId": "76b2ce53-6b1b-4145-faad-9ff3eb3ab78b"
   },
   "outputs": [
    {
     "name": "stdout",
     "output_type": "stream",
     "text": [
      "[[4 5 4]\n",
      " [7 4 3]\n",
      " [2 7 1]]\n",
      "[[1 1 1]\n",
      " [1 1 1]\n",
      " [1 1 1]]\n",
      "37\n",
      "[[[[4 4 4]\n",
      "   [4 4 4]\n",
      "   [4 4 4]]\n",
      "\n",
      "  [[5 5 5]\n",
      "   [5 5 5]\n",
      "   [5 5 5]]\n",
      "\n",
      "  [[4 4 4]\n",
      "   [4 4 4]\n",
      "   [4 4 4]]]\n",
      "\n",
      "\n",
      " [[[7 7 7]\n",
      "   [7 7 7]\n",
      "   [7 7 7]]\n",
      "\n",
      "  [[4 4 4]\n",
      "   [4 4 4]\n",
      "   [4 4 4]]\n",
      "\n",
      "  [[3 3 3]\n",
      "   [3 3 3]\n",
      "   [3 3 3]]]\n",
      "\n",
      "\n",
      " [[[2 2 2]\n",
      "   [2 2 2]\n",
      "   [2 2 2]]\n",
      "\n",
      "  [[7 7 7]\n",
      "   [7 7 7]\n",
      "   [7 7 7]]\n",
      "\n",
      "  [[1 1 1]\n",
      "   [1 1 1]\n",
      "   [1 1 1]]]]\n",
      "[[13 13 13]\n",
      " [14 14 14]\n",
      " [10 10 10]]\n"
     ]
    }
   ],
   "source": [
    "print(a2)\n",
    "print(b2)\n",
    "print(np.tensordot(a2, b2))\n",
    "print(np.tensordot(a2, b2, axes=0))\n",
    "print(np.tensordot(a2, b2, axes=1))"
   ]
  },
  {
   "cell_type": "markdown",
   "metadata": {
    "id": "UzmZhB5TNRMX"
   },
   "source": [
    "#### cross(): 벡터곱"
   ]
  },
  {
   "cell_type": "code",
   "execution_count": 93,
   "metadata": {
    "colab": {
     "base_uri": "https://localhost:8080/"
    },
    "executionInfo": {
     "elapsed": 1110,
     "status": "ok",
     "timestamp": 1619461521632,
     "user": {
      "displayName": "김세진",
      "photoUrl": "",
      "userId": "11422203094477185698"
     },
     "user_tz": -540
    },
    "id": "xvT2hy1FNRkU",
    "outputId": "c68d2832-272e-4aaf-cc58-fa7c4744e201"
   },
   "outputs": [
    {
     "name": "stdout",
     "output_type": "stream",
     "text": [
      "[-3  6 -3]\n"
     ]
    }
   ],
   "source": [
    "x = [1, 2, 3]\n",
    "y = [4, 5, 6]\n",
    "print(np.cross(x, y))"
   ]
  },
  {
   "cell_type": "markdown",
   "metadata": {
    "id": "SJVYmtrSO5YL"
   },
   "source": [
    "#### inner()/outer(): 내적/외적"
   ]
  },
  {
   "cell_type": "code",
   "execution_count": 94,
   "metadata": {
    "colab": {
     "base_uri": "https://localhost:8080/"
    },
    "executionInfo": {
     "elapsed": 1589,
     "status": "ok",
     "timestamp": 1619461818209,
     "user": {
      "displayName": "김세진",
      "photoUrl": "",
      "userId": "11422203094477185698"
     },
     "user_tz": -540
    },
    "id": "HJpomax7O5s6",
    "outputId": "222468e4-7815-4eec-e166-99e7fdc23997"
   },
   "outputs": [
    {
     "name": "stdout",
     "output_type": "stream",
     "text": [
      "[[4 5 4]\n",
      " [7 4 3]\n",
      " [2 7 1]]\n",
      "[[1 1 1]\n",
      " [1 1 1]\n",
      " [1 1 1]]\n",
      "[[13 13 13]\n",
      " [14 14 14]\n",
      " [10 10 10]]\n",
      "[[4 4 4 4 4 4 4 4 4]\n",
      " [5 5 5 5 5 5 5 5 5]\n",
      " [4 4 4 4 4 4 4 4 4]\n",
      " [7 7 7 7 7 7 7 7 7]\n",
      " [4 4 4 4 4 4 4 4 4]\n",
      " [3 3 3 3 3 3 3 3 3]\n",
      " [2 2 2 2 2 2 2 2 2]\n",
      " [7 7 7 7 7 7 7 7 7]\n",
      " [1 1 1 1 1 1 1 1 1]]\n"
     ]
    }
   ],
   "source": [
    "print(a2)\n",
    "print(b2)\n",
    "print(np.inner(a2, b2))\n",
    "print(np.outer(a2, b2))"
   ]
  },
  {
   "cell_type": "markdown",
   "metadata": {
    "id": "9CIotQgI_RQ-"
   },
   "source": [
    "#### mean(): 평균 계산"
   ]
  },
  {
   "cell_type": "code",
   "execution_count": 95,
   "metadata": {
    "colab": {
     "base_uri": "https://localhost:8080/"
    },
    "executionInfo": {
     "elapsed": 569,
     "status": "ok",
     "timestamp": 1619461872655,
     "user": {
      "displayName": "김세진",
      "photoUrl": "",
      "userId": "11422203094477185698"
     },
     "user_tz": -540
    },
    "id": "g96wAEOT_bUk",
    "outputId": "c98ca372-9002-43ed-c2f0-e901734d0c69"
   },
   "outputs": [
    {
     "name": "stdout",
     "output_type": "stream",
     "text": [
      "[[4 5 4]\n",
      " [7 4 3]\n",
      " [2 7 1]]\n",
      "4.111111111111111\n",
      "[4.33333333 5.33333333 2.66666667]\n",
      "[4.33333333 4.66666667 3.33333333]\n"
     ]
    }
   ],
   "source": [
    "print(a2)\n",
    "print(np.mean(a2))\n",
    "print(np.mean(a2, axis=0))\n",
    "print(np.mean(a2, axis=1))"
   ]
  },
  {
   "cell_type": "markdown",
   "metadata": {
    "id": "wAG_zijP_Z5o"
   },
   "source": [
    "#### std(): 표준 편차 계산"
   ]
  },
  {
   "cell_type": "code",
   "execution_count": 96,
   "metadata": {
    "colab": {
     "base_uri": "https://localhost:8080/"
    },
    "executionInfo": {
     "elapsed": 562,
     "status": "ok",
     "timestamp": 1619461910261,
     "user": {
      "displayName": "김세진",
      "photoUrl": "",
      "userId": "11422203094477185698"
     },
     "user_tz": -540
    },
    "id": "hlpnuyug_TXA",
    "outputId": "b1ab1ae1-dedb-4950-b23c-8444073bd7e4"
   },
   "outputs": [
    {
     "name": "stdout",
     "output_type": "stream",
     "text": [
      "[[4 5 4]\n",
      " [7 4 3]\n",
      " [2 7 1]]\n",
      "1.9116278371205837\n",
      "[2.05480467 1.24721913 1.24721913]\n",
      "[0.47140452 1.69967317 2.62466929]\n"
     ]
    }
   ],
   "source": [
    "print(a2)\n",
    "print(np.std(a2))\n",
    "print(np.std(a2, axis=0))\n",
    "print(np.std(a2, axis=1))"
   ]
  },
  {
   "cell_type": "markdown",
   "metadata": {
    "id": "5FFTCCDaAEhx"
   },
   "source": [
    "#### var(): 분산 계산"
   ]
  },
  {
   "cell_type": "code",
   "execution_count": 97,
   "metadata": {
    "colab": {
     "base_uri": "https://localhost:8080/"
    },
    "executionInfo": {
     "elapsed": 565,
     "status": "ok",
     "timestamp": 1619461925940,
     "user": {
      "displayName": "김세진",
      "photoUrl": "",
      "userId": "11422203094477185698"
     },
     "user_tz": -540
    },
    "id": "CRMNkSdzAGZG",
    "outputId": "d5ffb487-7ac9-424d-eeab-1bdb6814529d"
   },
   "outputs": [
    {
     "name": "stdout",
     "output_type": "stream",
     "text": [
      "[[4 5 4]\n",
      " [7 4 3]\n",
      " [2 7 1]]\n",
      "3.654320987654321\n",
      "[4.22222222 1.55555556 1.55555556]\n",
      "[0.22222222 2.88888889 6.88888889]\n"
     ]
    }
   ],
   "source": [
    "print(a2)\n",
    "print(np.var(a2))\n",
    "print(np.var(a2, axis=0))\n",
    "print(np.var(a2, axis=1))"
   ]
  },
  {
   "cell_type": "markdown",
   "metadata": {
    "id": "QFeh-4tmCCrU"
   },
   "source": [
    "#### min(): 최소값"
   ]
  },
  {
   "cell_type": "code",
   "execution_count": 98,
   "metadata": {
    "colab": {
     "base_uri": "https://localhost:8080/"
    },
    "executionInfo": {
     "elapsed": 593,
     "status": "ok",
     "timestamp": 1619461941420,
     "user": {
      "displayName": "김세진",
      "photoUrl": "",
      "userId": "11422203094477185698"
     },
     "user_tz": -540
    },
    "id": "SMNCfYBQCEtf",
    "outputId": "b639f7cf-6b09-4e6e-b1a9-1ac4dca1d041"
   },
   "outputs": [
    {
     "name": "stdout",
     "output_type": "stream",
     "text": [
      "[[4 5 4]\n",
      " [7 4 3]\n",
      " [2 7 1]]\n",
      "1\n",
      "[2 4 1]\n",
      "[4 3 1]\n"
     ]
    }
   ],
   "source": [
    "print(a2)\n",
    "print(np.min(a2))\n",
    "print(np.min(a2, axis=0))\n",
    "print(np.min(a2, axis=1))"
   ]
  },
  {
   "cell_type": "markdown",
   "metadata": {
    "id": "A3n_JBnBJ2bo"
   },
   "source": [
    "#### max(): 최대값"
   ]
  },
  {
   "cell_type": "code",
   "execution_count": 99,
   "metadata": {
    "colab": {
     "base_uri": "https://localhost:8080/"
    },
    "executionInfo": {
     "elapsed": 564,
     "status": "ok",
     "timestamp": 1619461971267,
     "user": {
      "displayName": "김세진",
      "photoUrl": "",
      "userId": "11422203094477185698"
     },
     "user_tz": -540
    },
    "id": "FmuOFKGAJ6Pf",
    "outputId": "34ec3368-2252-49b0-ffc8-28e2cabb3056"
   },
   "outputs": [
    {
     "name": "stdout",
     "output_type": "stream",
     "text": [
      "[[4 5 4]\n",
      " [7 4 3]\n",
      " [2 7 1]]\n",
      "7\n",
      "[7 7 4]\n",
      "[5 7 7]\n"
     ]
    }
   ],
   "source": [
    "print(a2)\n",
    "print(np.max(a2))\n",
    "print(np.max(a2, axis=0))\n",
    "print(np.max(a2, axis=1))"
   ]
  },
  {
   "cell_type": "markdown",
   "metadata": {
    "id": "PvGOKDP0J_5b"
   },
   "source": [
    "#### argmin(): 최소값 인덱스"
   ]
  },
  {
   "cell_type": "code",
   "execution_count": 100,
   "metadata": {
    "colab": {
     "base_uri": "https://localhost:8080/"
    },
    "executionInfo": {
     "elapsed": 1268,
     "status": "ok",
     "timestamp": 1619462001257,
     "user": {
      "displayName": "김세진",
      "photoUrl": "",
      "userId": "11422203094477185698"
     },
     "user_tz": -540
    },
    "id": "1ILP7L3yKCqA",
    "outputId": "0b99cfc6-7df0-4278-c3da-090c781b9406"
   },
   "outputs": [
    {
     "name": "stdout",
     "output_type": "stream",
     "text": [
      "[[4 5 4]\n",
      " [7 4 3]\n",
      " [2 7 1]]\n",
      "8\n",
      "[2 1 2]\n",
      "[0 2 2]\n"
     ]
    }
   ],
   "source": [
    "print(a2)\n",
    "print(np.argmin(a2))\n",
    "print(np.argmin(a2, axis=0))\n",
    "print(np.argmin(a2, axis=1))"
   ]
  },
  {
   "cell_type": "markdown",
   "metadata": {
    "id": "23IcSctIKbUa"
   },
   "source": [
    "#### argmax(): 최대값 인덱스"
   ]
  },
  {
   "cell_type": "code",
   "execution_count": 101,
   "metadata": {
    "colab": {
     "base_uri": "https://localhost:8080/"
    },
    "executionInfo": {
     "elapsed": 1038,
     "status": "ok",
     "timestamp": 1619462001633,
     "user": {
      "displayName": "김세진",
      "photoUrl": "",
      "userId": "11422203094477185698"
     },
     "user_tz": -540
    },
    "id": "2m21cfCFKd-Q",
    "outputId": "7aa62b2f-6460-4200-d0ff-5fad483346ba"
   },
   "outputs": [
    {
     "name": "stdout",
     "output_type": "stream",
     "text": [
      "[[4 5 4]\n",
      " [7 4 3]\n",
      " [2 7 1]]\n",
      "3\n",
      "[1 2 0]\n",
      "[1 0 1]\n"
     ]
    }
   ],
   "source": [
    "print(a2)\n",
    "print(np.argmax(a2))\n",
    "print(np.argmax(a2, axis=0))\n",
    "print(np.argmax(a2, axis=1))"
   ]
  },
  {
   "cell_type": "markdown",
   "metadata": {
    "id": "3TjeNFQLKuZb"
   },
   "source": [
    "#### median(): 중앙값"
   ]
  },
  {
   "cell_type": "code",
   "execution_count": 102,
   "metadata": {
    "colab": {
     "base_uri": "https://localhost:8080/"
    },
    "executionInfo": {
     "elapsed": 553,
     "status": "ok",
     "timestamp": 1619462013927,
     "user": {
      "displayName": "김세진",
      "photoUrl": "",
      "userId": "11422203094477185698"
     },
     "user_tz": -540
    },
    "id": "kSLN17bpKwv6",
    "outputId": "49068640-e299-4d20-f40c-1a4e0da82f68"
   },
   "outputs": [
    {
     "name": "stdout",
     "output_type": "stream",
     "text": [
      "[[4 5 4]\n",
      " [7 4 3]\n",
      " [2 7 1]]\n",
      "4.0\n",
      "[4. 5. 3.]\n",
      "[4. 4. 2.]\n"
     ]
    }
   ],
   "source": [
    "print(a2)\n",
    "print(np.median(a2))\n",
    "print(np.median(a2, axis=0))\n",
    "print(np.median(a2, axis=1))"
   ]
  },
  {
   "cell_type": "markdown",
   "metadata": {
    "id": "df-Id-nhLs3L"
   },
   "source": [
    "#### percentile(): 백분위 수\n",
    "\n"
   ]
  },
  {
   "cell_type": "code",
   "execution_count": 103,
   "metadata": {
    "colab": {
     "base_uri": "https://localhost:8080/"
    },
    "executionInfo": {
     "elapsed": 1480,
     "status": "ok",
     "timestamp": 1619462128775,
     "user": {
      "displayName": "김세진",
      "photoUrl": "",
      "userId": "11422203094477185698"
     },
     "user_tz": -540
    },
    "id": "N-TCx9hnLvhK",
    "outputId": "97edc06f-3a65-4a47-df71-3434b8d91a08"
   },
   "outputs": [
    {
     "name": "stdout",
     "output_type": "stream",
     "text": [
      "[0 1 2 3]\n",
      "[0.  0.6 1.2 1.8 2.4 3. ]\n",
      "[0 1 2 2 3 3]\n",
      "[0 0 1 1 2 3]\n",
      "[0 1 1 2 2 3]\n",
      "[0.  0.5 1.5 1.5 2.5 3. ]\n"
     ]
    }
   ],
   "source": [
    "a1 = np.array([0, 1, 2, 3])\n",
    "print(a1)\n",
    "print(np.percentile(a1, [0, 20, 40 ,60, 80, 100], interpolation='linear'))\n",
    "print(np.percentile(a1, [0, 20, 40 ,60, 80, 100], interpolation='higher'))\n",
    "print(np.percentile(a1, [0, 20, 40 ,60, 80, 100], interpolation='lower'))\n",
    "print(np.percentile(a1, [0, 20, 40 ,60, 80, 100], interpolation='nearest'))\n",
    "print(np.percentile(a1, [0, 20, 40 ,60, 80, 100], interpolation='midpoint'))"
   ]
  },
  {
   "cell_type": "markdown",
   "metadata": {
    "id": "x0NnNsvvNDIs"
   },
   "source": [
    "#### any()"
   ]
  },
  {
   "cell_type": "code",
   "execution_count": 104,
   "metadata": {
    "colab": {
     "base_uri": "https://localhost:8080/"
    },
    "executionInfo": {
     "elapsed": 1096,
     "status": "ok",
     "timestamp": 1619462302450,
     "user": {
      "displayName": "김세진",
      "photoUrl": "",
      "userId": "11422203094477185698"
     },
     "user_tz": -540
    },
    "id": "I1XDqsFxOMvA",
    "outputId": "b1b5c2ff-84b0-4a30-ea9a-d1d8e776c34a"
   },
   "outputs": [
    {
     "name": "stdout",
     "output_type": "stream",
     "text": [
      "[[False False False]\n",
      " [False  True  True]\n",
      " [False  True  True]]\n",
      "True\n",
      "[False  True  True]\n",
      "[False  True  True]\n"
     ]
    }
   ],
   "source": [
    "a2 = np.array([[False, False, False],\n",
    "              [False, True, True],\n",
    "              [False, True, True]])\n",
    "print(a2)\n",
    "print(np.any(a2))\n",
    "print(np.any(a2, axis=0))\n",
    "print(np.any(a2, axis=1))"
   ]
  },
  {
   "cell_type": "markdown",
   "metadata": {
    "id": "Uw-wjYgyONBZ"
   },
   "source": [
    "#### all()"
   ]
  },
  {
   "cell_type": "code",
   "execution_count": 105,
   "metadata": {
    "colab": {
     "base_uri": "https://localhost:8080/"
    },
    "executionInfo": {
     "elapsed": 586,
     "status": "ok",
     "timestamp": 1619462331244,
     "user": {
      "displayName": "김세진",
      "photoUrl": "",
      "userId": "11422203094477185698"
     },
     "user_tz": -540
    },
    "id": "sXi2AHOHONYq",
    "outputId": "f3b28593-bb63-485d-dee4-95f542878768"
   },
   "outputs": [
    {
     "name": "stdout",
     "output_type": "stream",
     "text": [
      "[[False False  True]\n",
      " [ True  True  True]\n",
      " [False  True  True]]\n",
      "False\n",
      "[False False  True]\n",
      "[False  True False]\n"
     ]
    }
   ],
   "source": [
    "a2 = np.array([[False, False, True],\n",
    "              [True, True, True],\n",
    "              [False, True, True]])\n",
    "print(a2)\n",
    "print(np.all(a2))\n",
    "print(np.all(a2, axis=0))\n",
    "print(np.all(a2, axis=1))"
   ]
  },
  {
   "cell_type": "markdown",
   "metadata": {
    "id": "0n7lgzmUwqr1"
   },
   "source": [
    "### 비교 연산(Comparison Operators)\n"
   ]
  },
  {
   "cell_type": "code",
   "execution_count": 106,
   "metadata": {
    "colab": {
     "base_uri": "https://localhost:8080/"
    },
    "executionInfo": {
     "elapsed": 563,
     "status": "ok",
     "timestamp": 1619515155881,
     "user": {
      "displayName": "김세진",
      "photoUrl": "",
      "userId": "11422203094477185698"
     },
     "user_tz": -540
    },
    "id": "E00V-nBTVnCu",
    "outputId": "702ce000-2c31-4127-ae68-c8b52c752e87"
   },
   "outputs": [
    {
     "name": "stdout",
     "output_type": "stream",
     "text": [
      "[1 2 3 4 5 6 7 8 9]\n",
      "[False False False False  True False False False False]\n",
      "[ True  True  True  True False  True  True  True  True]\n",
      "[ True  True  True  True False False False False False]\n",
      "[ True  True  True  True  True False False False False]\n",
      "[False False False False False  True  True  True  True]\n",
      "[False False False False  True  True  True  True  True]\n"
     ]
    }
   ],
   "source": [
    "a1 = np.arange(1, 10)\n",
    "print(a1)\n",
    "print(a1 == 5)\n",
    "print(a1 != 5)\n",
    "print(a1 < 5)\n",
    "print(a1 <= 5)\n",
    "print(a1 > 5)\n",
    "print(a1 >= 5)"
   ]
  },
  {
   "cell_type": "code",
   "execution_count": 107,
   "metadata": {
    "colab": {
     "base_uri": "https://localhost:8080/"
    },
    "executionInfo": {
     "elapsed": 585,
     "status": "ok",
     "timestamp": 1619515463021,
     "user": {
      "displayName": "김세진",
      "photoUrl": "",
      "userId": "11422203094477185698"
     },
     "user_tz": -540
    },
    "id": "3MwV1CU1WsWS",
    "outputId": "43e6d847-ae63-4750-cebd-7051a1b889df"
   },
   "outputs": [
    {
     "name": "stdout",
     "output_type": "stream",
     "text": [
      "[[1 2 3]\n",
      " [4 5 6]\n",
      " [7 8 9]]\n",
      "45\n",
      "4\n",
      "4\n",
      "[1 1 2]\n",
      "[0 1 3]\n",
      "True\n",
      "[ True  True  True]\n",
      "[False  True  True]\n",
      "[False False False]\n",
      "[False False  True]\n"
     ]
    }
   ],
   "source": [
    "a2 = np.arange(1, 10).reshape(3,3)\n",
    "print(a2)\n",
    "print(np.sum(a2))\n",
    "print(np.count_nonzero(a2 > 5))\n",
    "print(np.sum(a2 > 5))\n",
    "print(np.sum(a2 > 5, axis=0))\n",
    "print(np.sum(a2 > 5, axis=1))\n",
    "print(np.any(a2 > 5))\n",
    "print(np.any(a2 > 5, axis=0))\n",
    "print(np.any(a2 > 5, axis=1))\n",
    "print(np.all(a2 > 5, axis=0))\n",
    "print(np.all(a2 > 5, axis=1))"
   ]
  },
  {
   "cell_type": "markdown",
   "metadata": {
    "id": "Mvkr51QfpXEg"
   },
   "source": [
    "|비교 범용 함수|설명|\n",
    "|--|--|\n",
    "|``np.isclose``|배열 두개가 (z*1e+02)% 내외로 가까우면 True, 아니면 False|\n",
    "|``np.isinf``|배열이 inf이면 True, 아니면 False|\n",
    "|``np.isfinite``|배열이 inf, nan이면 False, 아니면 True|\n",
    "|``np.isnan``|배열이 nan이면 True, 아니면 False|"
   ]
  },
  {
   "cell_type": "code",
   "execution_count": 108,
   "metadata": {
    "colab": {
     "base_uri": "https://localhost:8080/"
    },
    "executionInfo": {
     "elapsed": 679,
     "status": "ok",
     "timestamp": 1619515657669,
     "user": {
      "displayName": "김세진",
      "photoUrl": "",
      "userId": "11422203094477185698"
     },
     "user_tz": -540
    },
    "id": "D4cuMoyEPn8R",
    "outputId": "23799591-b6d6-48d5-ac4b-d96f17b36eb8"
   },
   "outputs": [
    {
     "name": "stdout",
     "output_type": "stream",
     "text": [
      "[1 2 3 4 5]\n",
      "[ True  True  True False False]\n"
     ]
    }
   ],
   "source": [
    "a1 = np.array([1, 2, 3, 4, 5])\n",
    "print(a1)\n",
    "b1 = np.array([1, 2, 3, 3, 4])\n",
    "print(np.isclose(a1, b1))"
   ]
  },
  {
   "cell_type": "code",
   "execution_count": 109,
   "metadata": {
    "colab": {
     "base_uri": "https://localhost:8080/"
    },
    "executionInfo": {
     "elapsed": 587,
     "status": "ok",
     "timestamp": 1619515730607,
     "user": {
      "displayName": "김세진",
      "photoUrl": "",
      "userId": "11422203094477185698"
     },
     "user_tz": -540
    },
    "id": "af9VSc6FyMBh",
    "outputId": "5bd07a7d-374f-4645-e8ff-52731efd5cda"
   },
   "outputs": [
    {
     "name": "stdout",
     "output_type": "stream",
     "text": [
      "[ nan   2.  inf   4. -inf]\n",
      "[ True False False False False]\n",
      "[False False  True False  True]\n",
      "[False  True False  True False]\n"
     ]
    }
   ],
   "source": [
    "a1 = np.array([np.nan, 2, np.inf, 4, np.NINF])\n",
    "print(a1)\n",
    "print(np.isnan(a1))\n",
    "print(np.isinf(a1))\n",
    "print(np.isfinite(a1))"
   ]
  },
  {
   "cell_type": "markdown",
   "metadata": {
    "id": "4BHMetMlYmt-"
   },
   "source": [
    "#### 불리언 연산자(Boolean Operators)\n",
    "\n",
    "|연산자|비교 범용 함수|\n",
    "|--|--|\n",
    "|``&``|np.bitwise_and|\n",
    "|``\\|``|np.bitwise_or|\n",
    "|``^``|np.bitwise_xor|\n",
    "|``~``|np.bitwise_not|"
   ]
  },
  {
   "cell_type": "code",
   "execution_count": 110,
   "metadata": {
    "colab": {
     "base_uri": "https://localhost:8080/"
    },
    "executionInfo": {
     "elapsed": 589,
     "status": "ok",
     "timestamp": 1619515930905,
     "user": {
      "displayName": "김세진",
      "photoUrl": "",
      "userId": "11422203094477185698"
     },
     "user_tz": -540
    },
    "id": "ZV1-8DkUHOZq",
    "outputId": "66239101-16a5-4a21-902c-ea5adcb79b1b"
   },
   "outputs": [
    {
     "name": "stdout",
     "output_type": "stream",
     "text": [
      "[[1 2 3]\n",
      " [4 5 6]\n",
      " [7 8 9]]\n",
      "[[False False False]\n",
      " [False False  True]\n",
      " [ True False False]]\n",
      "[6 7]\n",
      "[[ True  True  True]\n",
      " [ True  True  True]\n",
      " [ True  True  True]]\n",
      "[1 2 3 4 5 6 7 8 9]\n",
      "[[ True  True  True]\n",
      " [ True  True False]\n",
      " [False  True  True]]\n",
      "[1 2 3 4 5 8 9]\n",
      "[[ True  True  True]\n",
      " [ True  True False]\n",
      " [False False False]]\n",
      "[1 2 3 4 5]\n"
     ]
    }
   ],
   "source": [
    "a2 = np.arange(1, 10).reshape(3 ,3)\n",
    "print(a2)\n",
    "\n",
    "print((a2 > 5) & (a2 < 8))\n",
    "print(a2[(a2 > 5) & (a2 < 8)])\n",
    "\n",
    "print((a2 > 5) | (a2 < 8))\n",
    "print(a2[(a2 > 5) | (a2 < 8)])\n",
    "\n",
    "print((a2 > 5) ^ (a2 < 8))\n",
    "print(a2[(a2 > 5) ^ (a2 < 8)])\n",
    "\n",
    "print(~(a2 > 5))\n",
    "print(a2[~(a2 > 5)])"
   ]
  },
  {
   "cell_type": "markdown",
   "metadata": {
    "id": "FlQJVeGBxIFw"
   },
   "source": [
    "### 배열 정렬"
   ]
  },
  {
   "cell_type": "code",
   "execution_count": 111,
   "metadata": {
    "colab": {
     "base_uri": "https://localhost:8080/"
    },
    "executionInfo": {
     "elapsed": 586,
     "status": "ok",
     "timestamp": 1619516154760,
     "user": {
      "displayName": "김세진",
      "photoUrl": "",
      "userId": "11422203094477185698"
     },
     "user_tz": -540
    },
    "id": "x0sodUMqLU37",
    "outputId": "b9036f44-25b7-45c0-b14e-3e97e15d7f14"
   },
   "outputs": [
    {
     "name": "stdout",
     "output_type": "stream",
     "text": [
      "[7 1 4 4 1 4 9 2 1 1]\n",
      "[1 1 1 1 2 4 4 4 7 9]\n",
      "[7 1 4 4 1 4 9 2 1 1]\n",
      "[1 4 8 9 7 2 3 5 0 6]\n",
      "[7 1 4 4 1 4 9 2 1 1]\n",
      "None\n",
      "[1 1 1 1 2 4 4 4 7 9]\n"
     ]
    }
   ],
   "source": [
    "a1 = np.random.randint(1, 10, size=10)\n",
    "print(a1)\n",
    "print(np.sort(a1))\n",
    "print(a1)\n",
    "print(np.argsort(a1))\n",
    "print(a1)\n",
    "print(a1.sort())\n",
    "print(a1)"
   ]
  },
  {
   "cell_type": "code",
   "execution_count": 112,
   "metadata": {
    "colab": {
     "base_uri": "https://localhost:8080/"
    },
    "executionInfo": {
     "elapsed": 566,
     "status": "ok",
     "timestamp": 1619516206029,
     "user": {
      "displayName": "김세진",
      "photoUrl": "",
      "userId": "11422203094477185698"
     },
     "user_tz": -540
    },
    "id": "9JQlCL9crN8I",
    "outputId": "1e9e841a-70d5-4c0a-bc51-0ce1f52c99a8"
   },
   "outputs": [
    {
     "name": "stdout",
     "output_type": "stream",
     "text": [
      "[[5 8 3]\n",
      " [4 9 7]\n",
      " [2 5 5]]\n",
      "[[2 5 3]\n",
      " [4 8 5]\n",
      " [5 9 7]]\n",
      "[[3 5 8]\n",
      " [4 7 9]\n",
      " [2 5 5]]\n"
     ]
    }
   ],
   "source": [
    "a2 = np.random.randint(1, 10, size=(3, 3))\n",
    "print(a2)\n",
    "print(np.sort(a2, axis=0))\n",
    "print(np.sort(a2, axis=1))"
   ]
  },
  {
   "cell_type": "markdown",
   "metadata": {
    "id": "yYSItPz_00sZ"
   },
   "source": [
    "#### 부분 정렬\n",
    "\n",
    "* `partition()`: 배열에서 k개의 작은 값을 반환"
   ]
  },
  {
   "cell_type": "code",
   "execution_count": 113,
   "metadata": {
    "colab": {
     "base_uri": "https://localhost:8080/"
    },
    "executionInfo": {
     "elapsed": 356,
     "status": "ok",
     "timestamp": 1619516260434,
     "user": {
      "displayName": "김세진",
      "photoUrl": "",
      "userId": "11422203094477185698"
     },
     "user_tz": -540
    },
    "id": "QQwov4N00YFP",
    "outputId": "2c37aeb8-3c61-4bda-8754-36a0271e87b4"
   },
   "outputs": [
    {
     "name": "stdout",
     "output_type": "stream",
     "text": [
      "[8 1 8 9 7 4 1 6 2 1]\n",
      "[1 1 1 2 6 4 7 9 8 8]\n"
     ]
    }
   ],
   "source": [
    "a1 = np.random.randint(1, 10, size=10)\n",
    "print(a1)\n",
    "print(np.partition(a1,3))"
   ]
  },
  {
   "cell_type": "code",
   "execution_count": 114,
   "metadata": {
    "colab": {
     "base_uri": "https://localhost:8080/"
    },
    "executionInfo": {
     "elapsed": 672,
     "status": "ok",
     "timestamp": 1619516448063,
     "user": {
      "displayName": "김세진",
      "photoUrl": "",
      "userId": "11422203094477185698"
     },
     "user_tz": -540
    },
    "id": "VdsISGUtsoWg",
    "outputId": "4f88947a-66ef-491d-dc9f-214592329a25"
   },
   "outputs": [
    {
     "name": "stdout",
     "output_type": "stream",
     "text": [
      "[[8 1 9 9 9]\n",
      " [3 9 1 1 9]\n",
      " [9 8 9 7 1]\n",
      " [5 3 1 1 9]\n",
      " [1 7 8 1 2]]\n",
      "[[1 8 9 9 9]\n",
      " [1 1 3 9 9]\n",
      " [7 1 8 9 9]\n",
      " [1 1 3 5 9]\n",
      " [1 1 2 7 8]]\n",
      "[[5 3 1 1 1]\n",
      " [1 1 8 1 2]\n",
      " [3 7 1 1 9]\n",
      " [8 8 9 7 9]\n",
      " [9 9 9 9 9]]\n",
      "[[1 8 9 9 9]\n",
      " [1 1 3 9 9]\n",
      " [7 1 8 9 9]\n",
      " [1 1 3 5 9]\n",
      " [1 1 2 7 8]]\n"
     ]
    }
   ],
   "source": [
    "a2 = np.random.randint(1, 10, size=(5, 5))\n",
    "print(a2)\n",
    "print(np.partition(a2, 3))\n",
    "print(np.partition(a2, 3, axis=0))\n",
    "print(np.partition(a2, 3, axis=1))"
   ]
  },
  {
   "cell_type": "markdown",
   "metadata": {
    "id": "77DSA72ML5cI"
   },
   "source": [
    "## 배열 입출력\n",
    "\n",
    "|함수|설명|파일종류|\n",
    "|--|--|--|\n",
    "|``np.save()``|Numpy 배열 객체 1개를 파일에 저장|바이너리|\n",
    "|``np.savez()``|Numpy 배열 객체 여러개를 파일에 저장|바이너리|\n",
    "|``np.load()``|Numpy 배ㅑ열 저장 파일로부터 객체 로딩|파이너리\n",
    "|``np.loadtxt()``|텍트스 파일로부터 배열로딩|텍스트\n",
    "|``np.savetxt()``|텍스트 파일에 Numpy 배열 객체 저장|텍스트|"
   ]
  },
  {
   "cell_type": "code",
   "execution_count": 115,
   "metadata": {
    "colab": {
     "base_uri": "https://localhost:8080/"
    },
    "executionInfo": {
     "elapsed": 569,
     "status": "ok",
     "timestamp": 1619520476515,
     "user": {
      "displayName": "김세진",
      "photoUrl": "",
      "userId": "11422203094477185698"
     },
     "user_tz": -540
    },
    "id": "da-Mm_gzIs7U",
    "outputId": "e16d18f5-f631-4106-9d0a-07c5c19f04af"
   },
   "outputs": [
    {
     "name": "stdout",
     "output_type": "stream",
     "text": [
      "[[7 2 7 9 3]\n",
      " [4 4 7 7 5]\n",
      " [5 7 3 1 8]\n",
      " [3 7 5 7 7]\n",
      " [6 8 3 3 1]]\n"
     ]
    }
   ],
   "source": [
    "a2 = np.random.randint(1, 10, size=(5, 5))\n",
    "print(a2)\n",
    "np.save(\"a\", a2)"
   ]
  },
  {
   "cell_type": "code",
   "execution_count": 116,
   "metadata": {
    "colab": {
     "base_uri": "https://localhost:8080/"
    },
    "executionInfo": {
     "elapsed": 559,
     "status": "ok",
     "timestamp": 1619520656298,
     "user": {
      "displayName": "김세진",
      "photoUrl": "",
      "userId": "11422203094477185698"
     },
     "user_tz": -540
    },
    "id": "Hvb_ilyisoIV",
    "outputId": "d0bc375e-7fa4-48ba-e3bf-7d9129725e43"
   },
   "outputs": [
    {
     "name": "stdout",
     "output_type": "stream",
     "text": [
      "[[1 2 8 8 5]\n",
      " [6 3 1 3 7]\n",
      " [4 5 9 2 5]\n",
      " [9 5 2 2 2]\n",
      " [2 5 1 3 1]]\n"
     ]
    }
   ],
   "source": [
    "b2 = np.random.randint(1, 10, size=(5, 5))\n",
    "print(b2)\n",
    "np.savez(\"ab\", a2, b2)"
   ]
  },
  {
   "cell_type": "code",
   "execution_count": 117,
   "metadata": {
    "colab": {
     "base_uri": "https://localhost:8080/"
    },
    "executionInfo": {
     "elapsed": 573,
     "status": "ok",
     "timestamp": 1619520680523,
     "user": {
      "displayName": "김세진",
      "photoUrl": "",
      "userId": "11422203094477185698"
     },
     "user_tz": -540
    },
    "id": "che4cEJEs2Tr",
    "outputId": "0d691505-3552-4d7c-955a-954f24a01b23"
   },
   "outputs": [
    {
     "name": "stdout",
     "output_type": "stream",
     "text": [
      "[[7 2 7 9 3]\n",
      " [4 4 7 7 5]\n",
      " [5 7 3 1 8]\n",
      " [3 7 5 7 7]\n",
      " [6 8 3 3 1]]\n"
     ]
    }
   ],
   "source": [
    "npy = np.load(\"a.npy\")\n",
    "print(npy)"
   ]
  },
  {
   "cell_type": "code",
   "execution_count": 118,
   "metadata": {
    "colab": {
     "base_uri": "https://localhost:8080/"
    },
    "executionInfo": {
     "elapsed": 794,
     "status": "ok",
     "timestamp": 1619520718725,
     "user": {
      "displayName": "김세진",
      "photoUrl": "",
      "userId": "11422203094477185698"
     },
     "user_tz": -540
    },
    "id": "X2yIUsYvtMj6",
    "outputId": "deac96fa-3618-43c5-a148-43b24611c29e"
   },
   "outputs": [
    {
     "name": "stdout",
     "output_type": "stream",
     "text": [
      "['arr_0', 'arr_1']\n",
      "[[7 2 7 9 3]\n",
      " [4 4 7 7 5]\n",
      " [5 7 3 1 8]\n",
      " [3 7 5 7 7]\n",
      " [6 8 3 3 1]]\n",
      "[[1 2 8 8 5]\n",
      " [6 3 1 3 7]\n",
      " [4 5 9 2 5]\n",
      " [9 5 2 2 2]\n",
      " [2 5 1 3 1]]\n"
     ]
    }
   ],
   "source": [
    "npz = np.load(\"ab.npz\")\n",
    "print(npz.files)\n",
    "print(npz['arr_0'])\n",
    "print(npz['arr_1'])"
   ]
  },
  {
   "cell_type": "code",
   "execution_count": 119,
   "metadata": {
    "colab": {
     "base_uri": "https://localhost:8080/"
    },
    "executionInfo": {
     "elapsed": 745,
     "status": "ok",
     "timestamp": 1619520773217,
     "user": {
      "displayName": "김세진",
      "photoUrl": "",
      "userId": "11422203094477185698"
     },
     "user_tz": -540
    },
    "id": "Yj5ec-CYtaH1",
    "outputId": "71f575e5-7d35-45b3-c231-0c47c7f0b50d"
   },
   "outputs": [
    {
     "name": "stdout",
     "output_type": "stream",
     "text": [
      "[[7 2 7 9 3]\n",
      " [4 4 7 7 5]\n",
      " [5 7 3 1 8]\n",
      " [3 7 5 7 7]\n",
      " [6 8 3 3 1]]\n"
     ]
    }
   ],
   "source": [
    "print(a2)\n",
    "np.savetxt(\"a.csv\", a2, delimiter=',')"
   ]
  },
  {
   "cell_type": "code",
   "execution_count": 120,
   "metadata": {
    "colab": {
     "base_uri": "https://localhost:8080/"
    },
    "executionInfo": {
     "elapsed": 581,
     "status": "ok",
     "timestamp": 1619520826039,
     "user": {
      "displayName": "김세진",
      "photoUrl": "",
      "userId": "11422203094477185698"
     },
     "user_tz": -540
    },
    "id": "FeB2p4azuTDv",
    "outputId": "cec8ec3b-935c-4536-922d-09993c89fb75"
   },
   "outputs": [
    {
     "name": "stdout",
     "output_type": "stream",
     "text": [
      "[[7. 2. 7. 9. 3.]\n",
      " [4. 4. 7. 7. 5.]\n",
      " [5. 7. 3. 1. 8.]\n",
      " [3. 7. 5. 7. 7.]\n",
      " [6. 8. 3. 3. 1.]]\n"
     ]
    }
   ],
   "source": [
    "csv = np.loadtxt(\"a.csv\", delimiter=',')\n",
    "print(csv)"
   ]
  },
  {
   "cell_type": "code",
   "execution_count": 121,
   "metadata": {
    "colab": {
     "base_uri": "https://localhost:8080/"
    },
    "executionInfo": {
     "elapsed": 899,
     "status": "ok",
     "timestamp": 1619520888594,
     "user": {
      "displayName": "김세진",
      "photoUrl": "",
      "userId": "11422203094477185698"
     },
     "user_tz": -540
    },
    "id": "IUg8Vg4fuxR5",
    "outputId": "fa7c9244-d257-4002-94fe-4d37113addc6"
   },
   "outputs": [
    {
     "name": "stdout",
     "output_type": "stream",
     "text": [
      "[[1 2 8 8 5]\n",
      " [6 3 1 3 7]\n",
      " [4 5 9 2 5]\n",
      " [9 5 2 2 2]\n",
      " [2 5 1 3 1]]\n"
     ]
    }
   ],
   "source": [
    "print((b2))\n",
    "np.savetxt(\"b.csv\", b2, delimiter=',',fmt='%.2e', header='c1, c2, c3, c4, c5')"
   ]
  },
  {
   "cell_type": "code",
   "execution_count": 122,
   "metadata": {
    "colab": {
     "base_uri": "https://localhost:8080/"
    },
    "executionInfo": {
     "elapsed": 967,
     "status": "ok",
     "timestamp": 1619520916258,
     "user": {
      "displayName": "김세진",
      "photoUrl": "",
      "userId": "11422203094477185698"
     },
     "user_tz": -540
    },
    "id": "l4O-gVxdv8-d",
    "outputId": "098dfbbe-6f63-40cd-dc09-59bed37b5dc7"
   },
   "outputs": [
    {
     "name": "stdout",
     "output_type": "stream",
     "text": [
      "[[1. 2. 8. 8. 5.]\n",
      " [6. 3. 1. 3. 7.]\n",
      " [4. 5. 9. 2. 5.]\n",
      " [9. 5. 2. 2. 2.]\n",
      " [2. 5. 1. 3. 1.]]\n"
     ]
    }
   ],
   "source": [
    "csv = np.loadtxt(\"b.csv\", delimiter=',')\n",
    "print(csv)"
   ]
  },
  {
   "cell_type": "markdown",
   "metadata": {
    "id": "JM2Ghx2NGloN"
   },
   "source": [
    "\n",
    "\n",
    "---\n",
    "\n"
   ]
  }
 ],
 "metadata": {
  "colab": {
   "collapsed_sections": [],
   "name": "_NumPy 한번에 제대로 배우기.ipynb",
   "provenance": [
    {
     "file_id": "1qEBbLwNJ0FZA6h1BWHm5wu4mrJhbg3ty",
     "timestamp": 1610693413255
    }
   ],
   "toc_visible": true
  },
  "jupytext": {
   "encoding": "# -*- coding: utf-8 -*-"
  },
  "kernelspec": {
   "display_name": "Python 3",
   "language": "python",
   "name": "python3"
  },
  "language_info": {
   "codemirror_mode": {
    "name": "ipython",
    "version": 3
   },
   "file_extension": ".py",
   "mimetype": "text/x-python",
   "name": "python",
   "nbconvert_exporter": "python",
   "pygments_lexer": "ipython3",
   "version": "3.8.5"
  }
 },
 "nbformat": 4,
 "nbformat_minor": 4
}
