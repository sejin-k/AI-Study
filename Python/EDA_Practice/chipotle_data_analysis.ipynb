{
  "nbformat": 4,
  "nbformat_minor": 0,
  "metadata": {
    "colab": {
      "name": "chipotle_data_analysis.ipynb",
      "provenance": [],
      "collapsed_sections": []
    },
    "kernelspec": {
      "display_name": "Python 3",
      "name": "python3"
    },
    "language_info": {
      "name": "python"
    }
  },
  "cells": [
    {
      "cell_type": "code",
      "metadata": {
        "colab": {
          "base_uri": "https://localhost:8080/"
        },
        "id": "ULLeBzy-teAA",
        "outputId": "7918f815-975b-46c4-fe57-f4d6b4363ee2"
      },
      "source": [
        "import numpy as np\n",
        "import pandas as pd\n",
        "np.__version__, pd.__version__"
      ],
      "execution_count": 1,
      "outputs": [
        {
          "output_type": "execute_result",
          "data": {
            "text/plain": [
              "('1.19.5', '1.1.5')"
            ]
          },
          "metadata": {
            "tags": []
          },
          "execution_count": 1
        }
      ]
    },
    {
      "cell_type": "markdown",
      "metadata": {
        "id": "ypvmCvmkV3Z6"
      },
      "source": [
        "# Chipotle Data (식당 데이터) 분석\n",
        "> 참고 블로그 : https://tjansry354.tistory.com/6\n",
        "\n",
        "* order_id : 주문번호\n",
        "\n",
        "* quantity : 주문 개수\n",
        "\n",
        "* item_name : 음식 이름\n",
        "\n",
        "* choice_description : 선택 옵션 (소스는 무엇인지 재료는 어떤 걸 골랐는지)\n",
        "\n",
        "* item_price : 음식 가격"
      ]
    },
    {
      "cell_type": "code",
      "metadata": {
        "colab": {
          "base_uri": "https://localhost:8080/",
          "height": 402
        },
        "id": "f22DNyiKVzGd",
        "outputId": "ee36977e-9a62-47e4-ea83-eec359e4f0f1"
      },
      "source": [
        "# data 불러오기\n",
        "data = pd.read_csv('drive/MyDrive/Deeplearning/Python/chipotle.csv')\n",
        "data"
      ],
      "execution_count": 2,
      "outputs": [
        {
          "output_type": "execute_result",
          "data": {
            "text/html": [
              "<div>\n",
              "<style scoped>\n",
              "    .dataframe tbody tr th:only-of-type {\n",
              "        vertical-align: middle;\n",
              "    }\n",
              "\n",
              "    .dataframe tbody tr th {\n",
              "        vertical-align: top;\n",
              "    }\n",
              "\n",
              "    .dataframe thead th {\n",
              "        text-align: right;\n",
              "    }\n",
              "</style>\n",
              "<table border=\"1\" class=\"dataframe\">\n",
              "  <thead>\n",
              "    <tr style=\"text-align: right;\">\n",
              "      <th></th>\n",
              "      <th>order_id</th>\n",
              "      <th>quantity</th>\n",
              "      <th>item_name</th>\n",
              "      <th>choice_description</th>\n",
              "      <th>item_price</th>\n",
              "    </tr>\n",
              "  </thead>\n",
              "  <tbody>\n",
              "    <tr>\n",
              "      <th>0</th>\n",
              "      <td>1</td>\n",
              "      <td>1</td>\n",
              "      <td>Chips and Fresh Tomato Salsa</td>\n",
              "      <td>NaN</td>\n",
              "      <td>$2.39</td>\n",
              "    </tr>\n",
              "    <tr>\n",
              "      <th>1</th>\n",
              "      <td>1</td>\n",
              "      <td>1</td>\n",
              "      <td>Izze</td>\n",
              "      <td>[Clementine]</td>\n",
              "      <td>$3.39</td>\n",
              "    </tr>\n",
              "    <tr>\n",
              "      <th>2</th>\n",
              "      <td>1</td>\n",
              "      <td>1</td>\n",
              "      <td>Nantucket Nectar</td>\n",
              "      <td>[Apple]</td>\n",
              "      <td>$3.39</td>\n",
              "    </tr>\n",
              "    <tr>\n",
              "      <th>3</th>\n",
              "      <td>1</td>\n",
              "      <td>1</td>\n",
              "      <td>Chips and Tomatillo-Green Chili Salsa</td>\n",
              "      <td>NaN</td>\n",
              "      <td>$2.39</td>\n",
              "    </tr>\n",
              "    <tr>\n",
              "      <th>4</th>\n",
              "      <td>2</td>\n",
              "      <td>2</td>\n",
              "      <td>Chicken Bowl</td>\n",
              "      <td>[Tomatillo-Red Chili Salsa (Hot), [Black Beans...</td>\n",
              "      <td>$16.98</td>\n",
              "    </tr>\n",
              "    <tr>\n",
              "      <th>...</th>\n",
              "      <td>...</td>\n",
              "      <td>...</td>\n",
              "      <td>...</td>\n",
              "      <td>...</td>\n",
              "      <td>...</td>\n",
              "    </tr>\n",
              "    <tr>\n",
              "      <th>4617</th>\n",
              "      <td>1833</td>\n",
              "      <td>1</td>\n",
              "      <td>Steak Burrito</td>\n",
              "      <td>[Fresh Tomato Salsa, [Rice, Black Beans, Sour ...</td>\n",
              "      <td>$11.75</td>\n",
              "    </tr>\n",
              "    <tr>\n",
              "      <th>4618</th>\n",
              "      <td>1833</td>\n",
              "      <td>1</td>\n",
              "      <td>Steak Burrito</td>\n",
              "      <td>[Fresh Tomato Salsa, [Rice, Sour Cream, Cheese...</td>\n",
              "      <td>$11.75</td>\n",
              "    </tr>\n",
              "    <tr>\n",
              "      <th>4619</th>\n",
              "      <td>1834</td>\n",
              "      <td>1</td>\n",
              "      <td>Chicken Salad Bowl</td>\n",
              "      <td>[Fresh Tomato Salsa, [Fajita Vegetables, Pinto...</td>\n",
              "      <td>$11.25</td>\n",
              "    </tr>\n",
              "    <tr>\n",
              "      <th>4620</th>\n",
              "      <td>1834</td>\n",
              "      <td>1</td>\n",
              "      <td>Chicken Salad Bowl</td>\n",
              "      <td>[Fresh Tomato Salsa, [Fajita Vegetables, Lettu...</td>\n",
              "      <td>$8.75</td>\n",
              "    </tr>\n",
              "    <tr>\n",
              "      <th>4621</th>\n",
              "      <td>1834</td>\n",
              "      <td>1</td>\n",
              "      <td>Chicken Salad Bowl</td>\n",
              "      <td>[Fresh Tomato Salsa, [Fajita Vegetables, Pinto...</td>\n",
              "      <td>$8.75</td>\n",
              "    </tr>\n",
              "  </tbody>\n",
              "</table>\n",
              "<p>4622 rows × 5 columns</p>\n",
              "</div>"
            ],
            "text/plain": [
              "      order_id  ...  item_price\n",
              "0            1  ...      $2.39 \n",
              "1            1  ...      $3.39 \n",
              "2            1  ...      $3.39 \n",
              "3            1  ...      $2.39 \n",
              "4            2  ...     $16.98 \n",
              "...        ...  ...         ...\n",
              "4617      1833  ...     $11.75 \n",
              "4618      1833  ...     $11.75 \n",
              "4619      1834  ...     $11.25 \n",
              "4620      1834  ...      $8.75 \n",
              "4621      1834  ...      $8.75 \n",
              "\n",
              "[4622 rows x 5 columns]"
            ]
          },
          "metadata": {
            "tags": []
          },
          "execution_count": 2
        }
      ]
    },
    {
      "cell_type": "code",
      "metadata": {
        "colab": {
          "base_uri": "https://localhost:8080/"
        },
        "id": "2i9YayC1WSiw",
        "outputId": "5961ae0e-ff0a-4f17-cff3-b6bc46c9b5e3"
      },
      "source": [
        "data.info()\n",
        "# choice_description 컬럼에 nan값 존재"
      ],
      "execution_count": 3,
      "outputs": [
        {
          "output_type": "stream",
          "text": [
            "<class 'pandas.core.frame.DataFrame'>\n",
            "RangeIndex: 4622 entries, 0 to 4621\n",
            "Data columns (total 5 columns):\n",
            " #   Column              Non-Null Count  Dtype \n",
            "---  ------              --------------  ----- \n",
            " 0   order_id            4622 non-null   int64 \n",
            " 1   quantity            4622 non-null   int64 \n",
            " 2   item_name           4622 non-null   object\n",
            " 3   choice_description  3376 non-null   object\n",
            " 4   item_price          4622 non-null   object\n",
            "dtypes: int64(2), object(3)\n",
            "memory usage: 180.7+ KB\n"
          ],
          "name": "stdout"
        }
      ]
    },
    {
      "cell_type": "markdown",
      "metadata": {
        "id": "Ds81ujXYYsq1"
      },
      "source": [
        "## 문제 1"
      ]
    },
    {
      "cell_type": "markdown",
      "metadata": {
        "id": "bDF0gi8UYwAT"
      },
      "source": [
        "### 1. 음식 메뉴는 총 몇가지 일까?"
      ]
    },
    {
      "cell_type": "code",
      "metadata": {
        "colab": {
          "base_uri": "https://localhost:8080/"
        },
        "id": "kgR-QijtY7Ud",
        "outputId": "60381e64-5b1b-48df-94bb-0c504be5ed7c"
      },
      "source": [
        "# unique() : 중복을 제거한 값들을 보여줌\n",
        "items = data.item_name.unique()\n",
        "\n",
        "print(\"음식 메뉴는 총 {}개 이다\".format(len(items)))"
      ],
      "execution_count": 4,
      "outputs": [
        {
          "output_type": "stream",
          "text": [
            "음식 메뉴는 총 50개 이다\n"
          ],
          "name": "stdout"
        }
      ]
    },
    {
      "cell_type": "markdown",
      "metadata": {
        "id": "v_tavbh6Yya3"
      },
      "source": [
        "### 메뉴 당 가격은 얼마일까? 뭐가 제일 비싸지?"
      ]
    },
    {
      "cell_type": "code",
      "metadata": {
        "colab": {
          "base_uri": "https://localhost:8080/",
          "height": 402
        },
        "id": "xTthLn2iZpUL",
        "outputId": "31e79f05-af5e-4200-e3a8-c6458afe6c45"
      },
      "source": [
        "data['item_price'] = data['item_price'].str.lstrip('$').astype(float)\n",
        "# pd.to_numeric()사용하는 방법\n",
        "# data['item_price'] = pd.to_numeric(data['item_price'].str.lstrip('$'))\n",
        "# column 이름 바꾸기\n",
        "data.rename(columns={'item_price':'item_price($)'}, inplace=True)\n",
        "data"
      ],
      "execution_count": 5,
      "outputs": [
        {
          "output_type": "execute_result",
          "data": {
            "text/html": [
              "<div>\n",
              "<style scoped>\n",
              "    .dataframe tbody tr th:only-of-type {\n",
              "        vertical-align: middle;\n",
              "    }\n",
              "\n",
              "    .dataframe tbody tr th {\n",
              "        vertical-align: top;\n",
              "    }\n",
              "\n",
              "    .dataframe thead th {\n",
              "        text-align: right;\n",
              "    }\n",
              "</style>\n",
              "<table border=\"1\" class=\"dataframe\">\n",
              "  <thead>\n",
              "    <tr style=\"text-align: right;\">\n",
              "      <th></th>\n",
              "      <th>order_id</th>\n",
              "      <th>quantity</th>\n",
              "      <th>item_name</th>\n",
              "      <th>choice_description</th>\n",
              "      <th>item_price($)</th>\n",
              "    </tr>\n",
              "  </thead>\n",
              "  <tbody>\n",
              "    <tr>\n",
              "      <th>0</th>\n",
              "      <td>1</td>\n",
              "      <td>1</td>\n",
              "      <td>Chips and Fresh Tomato Salsa</td>\n",
              "      <td>NaN</td>\n",
              "      <td>2.39</td>\n",
              "    </tr>\n",
              "    <tr>\n",
              "      <th>1</th>\n",
              "      <td>1</td>\n",
              "      <td>1</td>\n",
              "      <td>Izze</td>\n",
              "      <td>[Clementine]</td>\n",
              "      <td>3.39</td>\n",
              "    </tr>\n",
              "    <tr>\n",
              "      <th>2</th>\n",
              "      <td>1</td>\n",
              "      <td>1</td>\n",
              "      <td>Nantucket Nectar</td>\n",
              "      <td>[Apple]</td>\n",
              "      <td>3.39</td>\n",
              "    </tr>\n",
              "    <tr>\n",
              "      <th>3</th>\n",
              "      <td>1</td>\n",
              "      <td>1</td>\n",
              "      <td>Chips and Tomatillo-Green Chili Salsa</td>\n",
              "      <td>NaN</td>\n",
              "      <td>2.39</td>\n",
              "    </tr>\n",
              "    <tr>\n",
              "      <th>4</th>\n",
              "      <td>2</td>\n",
              "      <td>2</td>\n",
              "      <td>Chicken Bowl</td>\n",
              "      <td>[Tomatillo-Red Chili Salsa (Hot), [Black Beans...</td>\n",
              "      <td>16.98</td>\n",
              "    </tr>\n",
              "    <tr>\n",
              "      <th>...</th>\n",
              "      <td>...</td>\n",
              "      <td>...</td>\n",
              "      <td>...</td>\n",
              "      <td>...</td>\n",
              "      <td>...</td>\n",
              "    </tr>\n",
              "    <tr>\n",
              "      <th>4617</th>\n",
              "      <td>1833</td>\n",
              "      <td>1</td>\n",
              "      <td>Steak Burrito</td>\n",
              "      <td>[Fresh Tomato Salsa, [Rice, Black Beans, Sour ...</td>\n",
              "      <td>11.75</td>\n",
              "    </tr>\n",
              "    <tr>\n",
              "      <th>4618</th>\n",
              "      <td>1833</td>\n",
              "      <td>1</td>\n",
              "      <td>Steak Burrito</td>\n",
              "      <td>[Fresh Tomato Salsa, [Rice, Sour Cream, Cheese...</td>\n",
              "      <td>11.75</td>\n",
              "    </tr>\n",
              "    <tr>\n",
              "      <th>4619</th>\n",
              "      <td>1834</td>\n",
              "      <td>1</td>\n",
              "      <td>Chicken Salad Bowl</td>\n",
              "      <td>[Fresh Tomato Salsa, [Fajita Vegetables, Pinto...</td>\n",
              "      <td>11.25</td>\n",
              "    </tr>\n",
              "    <tr>\n",
              "      <th>4620</th>\n",
              "      <td>1834</td>\n",
              "      <td>1</td>\n",
              "      <td>Chicken Salad Bowl</td>\n",
              "      <td>[Fresh Tomato Salsa, [Fajita Vegetables, Lettu...</td>\n",
              "      <td>8.75</td>\n",
              "    </tr>\n",
              "    <tr>\n",
              "      <th>4621</th>\n",
              "      <td>1834</td>\n",
              "      <td>1</td>\n",
              "      <td>Chicken Salad Bowl</td>\n",
              "      <td>[Fresh Tomato Salsa, [Fajita Vegetables, Pinto...</td>\n",
              "      <td>8.75</td>\n",
              "    </tr>\n",
              "  </tbody>\n",
              "</table>\n",
              "<p>4622 rows × 5 columns</p>\n",
              "</div>"
            ],
            "text/plain": [
              "      order_id  ...  item_price($)\n",
              "0            1  ...           2.39\n",
              "1            1  ...           3.39\n",
              "2            1  ...           3.39\n",
              "3            1  ...           2.39\n",
              "4            2  ...          16.98\n",
              "...        ...  ...            ...\n",
              "4617      1833  ...          11.75\n",
              "4618      1833  ...          11.75\n",
              "4619      1834  ...          11.25\n",
              "4620      1834  ...           8.75\n",
              "4621      1834  ...           8.75\n",
              "\n",
              "[4622 rows x 5 columns]"
            ]
          },
          "metadata": {
            "tags": []
          },
          "execution_count": 5
        }
      ]
    },
    {
      "cell_type": "code",
      "metadata": {
        "colab": {
          "base_uri": "https://localhost:8080/"
        },
        "id": "g5cWK38mhA8d",
        "outputId": "01e5f768-3309-4c3d-e930-e212eb8422d7"
      },
      "source": [
        "price_rank = data.groupby('item_name').mean()['item_price($)'].sort_values(ascending=False)\n",
        "print(price_rank)\n",
        "print(\"가장 비싼 음식은 {}로 {}이다\".format(price_rank.iloc[0], price_rank.index[0]))"
      ],
      "execution_count": 6,
      "outputs": [
        {
          "output_type": "stream",
          "text": [
            "item_name\n",
            "Bowl                                     14.800000\n",
            "Steak Salad Bowl                         11.847931\n",
            "Chicken Salad Bowl                       11.170455\n",
            "Carnitas Crispy Tacos                    11.137143\n",
            "Carnitas Salad Bowl                      11.056667\n",
            "Barbacoa Crispy Tacos                    10.928182\n",
            "Carnitas Bowl                            10.833971\n",
            "Steak Bowl                               10.711801\n",
            "Barbacoa Salad Bowl                      10.640000\n",
            "Veggie Soft Tacos                        10.565714\n",
            "Steak Burrito                            10.465842\n",
            "Veggie Bowl                              10.211647\n",
            "Steak Crispy Tacos                       10.209714\n",
            "Barbacoa Bowl                            10.187273\n",
            "Veggie Salad Bowl                        10.138889\n",
            "Carnitas Burrito                         10.132712\n",
            "Chicken Bowl                             10.113953\n",
            "Chicken Burrito                          10.082857\n",
            "Chicken Crispy Tacos                     10.045319\n",
            "Barbacoa Soft Tacos                      10.018400\n",
            "Veggie Burrito                            9.839684\n",
            "Barbacoa Burrito                          9.832418\n",
            "Steak Soft Tacos                          9.746364\n",
            "Chicken Soft Tacos                        9.635565\n",
            "Carnitas Soft Tacos                       9.398500\n",
            "Chicken Salad                             9.010000\n",
            "Carnitas Salad                            8.990000\n",
            "Steak Salad                               8.915000\n",
            "Veggie Crispy Tacos                       8.490000\n",
            "Veggie Salad                              8.490000\n",
            "Salad                                     7.400000\n",
            "Crispy Tacos                              7.400000\n",
            "Burrito                                   7.400000\n",
            "6 Pack Soft Drink                         6.610185\n",
            "Chips and Guacamole                       4.595073\n",
            "Nantucket Nectar                          3.641111\n",
            "Izze                                      3.390000\n",
            "Chips and Fresh Tomato Salsa              3.285091\n",
            "Chips and Tomatillo Green Chili Salsa     3.087209\n",
            "Chips and Roasted Chili Corn Salsa        3.084091\n",
            "Chips and Tomatillo Red Chili Salsa       3.072917\n",
            "Chips and Mild Fresh Tomato Salsa         3.000000\n",
            "Chips and Tomatillo-Red Chili Salsa       2.987500\n",
            "Chips and Tomatillo-Green Chili Salsa     2.544194\n",
            "Chips and Roasted Chili-Corn Salsa        2.390000\n",
            "Chips                                     2.342844\n",
            "Bottled Water                             1.867654\n",
            "Side of Chips                             1.840594\n",
            "Canned Soft Drink                         1.457641\n",
            "Canned Soda                               1.320577\n",
            "Name: item_price($), dtype: float64\n",
            "가장 비싼 음식은 14.8로 Bowl이다\n"
          ],
          "name": "stdout"
        }
      ]
    },
    {
      "cell_type": "markdown",
      "metadata": {
        "id": "ABTbOL7lYyeu"
      },
      "source": [
        "### 3. 어떤 음식 조합이 제일 선호될까?"
      ]
    },
    {
      "cell_type": "code",
      "metadata": {
        "colab": {
          "base_uri": "https://localhost:8080/",
          "height": 402
        },
        "id": "54MdTWttYqxL",
        "outputId": "e27326ef-4e1c-4e4e-a35e-441b65b38c48"
      },
      "source": [
        "# 필요없는 column 삭제\n",
        "data_t3 = data.drop(['order_id', 'item_price($)'], axis='columns')\n",
        "data_t3"
      ],
      "execution_count": 7,
      "outputs": [
        {
          "output_type": "execute_result",
          "data": {
            "text/html": [
              "<div>\n",
              "<style scoped>\n",
              "    .dataframe tbody tr th:only-of-type {\n",
              "        vertical-align: middle;\n",
              "    }\n",
              "\n",
              "    .dataframe tbody tr th {\n",
              "        vertical-align: top;\n",
              "    }\n",
              "\n",
              "    .dataframe thead th {\n",
              "        text-align: right;\n",
              "    }\n",
              "</style>\n",
              "<table border=\"1\" class=\"dataframe\">\n",
              "  <thead>\n",
              "    <tr style=\"text-align: right;\">\n",
              "      <th></th>\n",
              "      <th>quantity</th>\n",
              "      <th>item_name</th>\n",
              "      <th>choice_description</th>\n",
              "    </tr>\n",
              "  </thead>\n",
              "  <tbody>\n",
              "    <tr>\n",
              "      <th>0</th>\n",
              "      <td>1</td>\n",
              "      <td>Chips and Fresh Tomato Salsa</td>\n",
              "      <td>NaN</td>\n",
              "    </tr>\n",
              "    <tr>\n",
              "      <th>1</th>\n",
              "      <td>1</td>\n",
              "      <td>Izze</td>\n",
              "      <td>[Clementine]</td>\n",
              "    </tr>\n",
              "    <tr>\n",
              "      <th>2</th>\n",
              "      <td>1</td>\n",
              "      <td>Nantucket Nectar</td>\n",
              "      <td>[Apple]</td>\n",
              "    </tr>\n",
              "    <tr>\n",
              "      <th>3</th>\n",
              "      <td>1</td>\n",
              "      <td>Chips and Tomatillo-Green Chili Salsa</td>\n",
              "      <td>NaN</td>\n",
              "    </tr>\n",
              "    <tr>\n",
              "      <th>4</th>\n",
              "      <td>2</td>\n",
              "      <td>Chicken Bowl</td>\n",
              "      <td>[Tomatillo-Red Chili Salsa (Hot), [Black Beans...</td>\n",
              "    </tr>\n",
              "    <tr>\n",
              "      <th>...</th>\n",
              "      <td>...</td>\n",
              "      <td>...</td>\n",
              "      <td>...</td>\n",
              "    </tr>\n",
              "    <tr>\n",
              "      <th>4617</th>\n",
              "      <td>1</td>\n",
              "      <td>Steak Burrito</td>\n",
              "      <td>[Fresh Tomato Salsa, [Rice, Black Beans, Sour ...</td>\n",
              "    </tr>\n",
              "    <tr>\n",
              "      <th>4618</th>\n",
              "      <td>1</td>\n",
              "      <td>Steak Burrito</td>\n",
              "      <td>[Fresh Tomato Salsa, [Rice, Sour Cream, Cheese...</td>\n",
              "    </tr>\n",
              "    <tr>\n",
              "      <th>4619</th>\n",
              "      <td>1</td>\n",
              "      <td>Chicken Salad Bowl</td>\n",
              "      <td>[Fresh Tomato Salsa, [Fajita Vegetables, Pinto...</td>\n",
              "    </tr>\n",
              "    <tr>\n",
              "      <th>4620</th>\n",
              "      <td>1</td>\n",
              "      <td>Chicken Salad Bowl</td>\n",
              "      <td>[Fresh Tomato Salsa, [Fajita Vegetables, Lettu...</td>\n",
              "    </tr>\n",
              "    <tr>\n",
              "      <th>4621</th>\n",
              "      <td>1</td>\n",
              "      <td>Chicken Salad Bowl</td>\n",
              "      <td>[Fresh Tomato Salsa, [Fajita Vegetables, Pinto...</td>\n",
              "    </tr>\n",
              "  </tbody>\n",
              "</table>\n",
              "<p>4622 rows × 3 columns</p>\n",
              "</div>"
            ],
            "text/plain": [
              "      quantity  ...                                 choice_description\n",
              "0            1  ...                                                NaN\n",
              "1            1  ...                                       [Clementine]\n",
              "2            1  ...                                            [Apple]\n",
              "3            1  ...                                                NaN\n",
              "4            2  ...  [Tomatillo-Red Chili Salsa (Hot), [Black Beans...\n",
              "...        ...  ...                                                ...\n",
              "4617         1  ...  [Fresh Tomato Salsa, [Rice, Black Beans, Sour ...\n",
              "4618         1  ...  [Fresh Tomato Salsa, [Rice, Sour Cream, Cheese...\n",
              "4619         1  ...  [Fresh Tomato Salsa, [Fajita Vegetables, Pinto...\n",
              "4620         1  ...  [Fresh Tomato Salsa, [Fajita Vegetables, Lettu...\n",
              "4621         1  ...  [Fresh Tomato Salsa, [Fajita Vegetables, Pinto...\n",
              "\n",
              "[4622 rows x 3 columns]"
            ]
          },
          "metadata": {
            "tags": []
          },
          "execution_count": 7
        }
      ]
    },
    {
      "cell_type": "code",
      "metadata": {
        "colab": {
          "base_uri": "https://localhost:8080/",
          "height": 402
        },
        "id": "varWxLN5i43w",
        "outputId": "a075e645-ac9a-4aaa-c1a4-908baf6e4219"
      },
      "source": [
        "# choice_description 데이터 정제(결측값, 소스, 재료가 합쳐져있어서 구분해준다)\n",
        "# choice_description에서 결측값(NaN)을 origin으로 설정한다\n",
        "data_t3.fillna('Origin', inplace=True)\n",
        "data_t3"
      ],
      "execution_count": 8,
      "outputs": [
        {
          "output_type": "execute_result",
          "data": {
            "text/html": [
              "<div>\n",
              "<style scoped>\n",
              "    .dataframe tbody tr th:only-of-type {\n",
              "        vertical-align: middle;\n",
              "    }\n",
              "\n",
              "    .dataframe tbody tr th {\n",
              "        vertical-align: top;\n",
              "    }\n",
              "\n",
              "    .dataframe thead th {\n",
              "        text-align: right;\n",
              "    }\n",
              "</style>\n",
              "<table border=\"1\" class=\"dataframe\">\n",
              "  <thead>\n",
              "    <tr style=\"text-align: right;\">\n",
              "      <th></th>\n",
              "      <th>quantity</th>\n",
              "      <th>item_name</th>\n",
              "      <th>choice_description</th>\n",
              "    </tr>\n",
              "  </thead>\n",
              "  <tbody>\n",
              "    <tr>\n",
              "      <th>0</th>\n",
              "      <td>1</td>\n",
              "      <td>Chips and Fresh Tomato Salsa</td>\n",
              "      <td>Origin</td>\n",
              "    </tr>\n",
              "    <tr>\n",
              "      <th>1</th>\n",
              "      <td>1</td>\n",
              "      <td>Izze</td>\n",
              "      <td>[Clementine]</td>\n",
              "    </tr>\n",
              "    <tr>\n",
              "      <th>2</th>\n",
              "      <td>1</td>\n",
              "      <td>Nantucket Nectar</td>\n",
              "      <td>[Apple]</td>\n",
              "    </tr>\n",
              "    <tr>\n",
              "      <th>3</th>\n",
              "      <td>1</td>\n",
              "      <td>Chips and Tomatillo-Green Chili Salsa</td>\n",
              "      <td>Origin</td>\n",
              "    </tr>\n",
              "    <tr>\n",
              "      <th>4</th>\n",
              "      <td>2</td>\n",
              "      <td>Chicken Bowl</td>\n",
              "      <td>[Tomatillo-Red Chili Salsa (Hot), [Black Beans...</td>\n",
              "    </tr>\n",
              "    <tr>\n",
              "      <th>...</th>\n",
              "      <td>...</td>\n",
              "      <td>...</td>\n",
              "      <td>...</td>\n",
              "    </tr>\n",
              "    <tr>\n",
              "      <th>4617</th>\n",
              "      <td>1</td>\n",
              "      <td>Steak Burrito</td>\n",
              "      <td>[Fresh Tomato Salsa, [Rice, Black Beans, Sour ...</td>\n",
              "    </tr>\n",
              "    <tr>\n",
              "      <th>4618</th>\n",
              "      <td>1</td>\n",
              "      <td>Steak Burrito</td>\n",
              "      <td>[Fresh Tomato Salsa, [Rice, Sour Cream, Cheese...</td>\n",
              "    </tr>\n",
              "    <tr>\n",
              "      <th>4619</th>\n",
              "      <td>1</td>\n",
              "      <td>Chicken Salad Bowl</td>\n",
              "      <td>[Fresh Tomato Salsa, [Fajita Vegetables, Pinto...</td>\n",
              "    </tr>\n",
              "    <tr>\n",
              "      <th>4620</th>\n",
              "      <td>1</td>\n",
              "      <td>Chicken Salad Bowl</td>\n",
              "      <td>[Fresh Tomato Salsa, [Fajita Vegetables, Lettu...</td>\n",
              "    </tr>\n",
              "    <tr>\n",
              "      <th>4621</th>\n",
              "      <td>1</td>\n",
              "      <td>Chicken Salad Bowl</td>\n",
              "      <td>[Fresh Tomato Salsa, [Fajita Vegetables, Pinto...</td>\n",
              "    </tr>\n",
              "  </tbody>\n",
              "</table>\n",
              "<p>4622 rows × 3 columns</p>\n",
              "</div>"
            ],
            "text/plain": [
              "      quantity  ...                                 choice_description\n",
              "0            1  ...                                             Origin\n",
              "1            1  ...                                       [Clementine]\n",
              "2            1  ...                                            [Apple]\n",
              "3            1  ...                                             Origin\n",
              "4            2  ...  [Tomatillo-Red Chili Salsa (Hot), [Black Beans...\n",
              "...        ...  ...                                                ...\n",
              "4617         1  ...  [Fresh Tomato Salsa, [Rice, Black Beans, Sour ...\n",
              "4618         1  ...  [Fresh Tomato Salsa, [Rice, Sour Cream, Cheese...\n",
              "4619         1  ...  [Fresh Tomato Salsa, [Fajita Vegetables, Pinto...\n",
              "4620         1  ...  [Fresh Tomato Salsa, [Fajita Vegetables, Lettu...\n",
              "4621         1  ...  [Fresh Tomato Salsa, [Fajita Vegetables, Pinto...\n",
              "\n",
              "[4622 rows x 3 columns]"
            ]
          },
          "metadata": {
            "tags": []
          },
          "execution_count": 8
        }
      ]
    },
    {
      "cell_type": "code",
      "metadata": {
        "colab": {
          "base_uri": "https://localhost:8080/"
        },
        "id": "BbkBku0TmX8R",
        "outputId": "2b6b9964-16a2-4124-bacd-5f3af2eaaabb"
      },
      "source": [
        "# choice_description 은 [소스, [재료]] 형식으로 되어있음\n",
        "data_t3.choice_description.unique()[:7]"
      ],
      "execution_count": 9,
      "outputs": [
        {
          "output_type": "execute_result",
          "data": {
            "text/plain": [
              "array(['Origin', '[Clementine]', '[Apple]',\n",
              "       '[Tomatillo-Red Chili Salsa (Hot), [Black Beans, Rice, Cheese, Sour Cream]]',\n",
              "       '[Fresh Tomato Salsa (Mild), [Rice, Cheese, Sour Cream, Guacamole, Lettuce]]',\n",
              "       '[Tomatillo Red Chili Salsa, [Fajita Vegetables, Black Beans, Pinto Beans, Cheese, Sour Cream, Guacamole, Lettuce]]',\n",
              "       '[Tomatillo Green Chili Salsa, [Pinto Beans, Cheese, Sour Cream, Lettuce]]'],\n",
              "      dtype=object)"
            ]
          },
          "metadata": {
            "tags": []
          },
          "execution_count": 9
        }
      ]
    },
    {
      "cell_type": "code",
      "metadata": {
        "colab": {
          "base_uri": "https://localhost:8080/"
        },
        "id": "t11ftvG-e9PO",
        "outputId": "4f79fd5b-4fe7-4db3-8142-e3b0291ac390"
      },
      "source": [
        "l = '[Tomatillo Red Chili Salsa, ]'\n",
        "a = l.strip('[], ').split(',')\n",
        "a"
      ],
      "execution_count": 10,
      "outputs": [
        {
          "output_type": "execute_result",
          "data": {
            "text/plain": [
              "['Tomatillo Red Chili Salsa']"
            ]
          },
          "metadata": {
            "tags": []
          },
          "execution_count": 10
        }
      ]
    },
    {
      "cell_type": "code",
      "metadata": {
        "colab": {
          "base_uri": "https://localhost:8080/"
        },
        "id": "2EivV3VUnH2_",
        "outputId": "3ffc18b8-eb9f-4fb2-b436-63ac275aabc0"
      },
      "source": [
        "import re\n",
        "p = re.compile('\\[[^\\[\\]]*\\]')\n",
        "\n",
        "def saurce_ingredient(mix):\n",
        "  if mix != 'Origin':\n",
        "    ingredient_li = p.findall(mix)\n",
        "    ingredient_li = ingredient_li[0][1:-1].split(',')\n",
        "    ingredient_li = [s.strip() for s in ingredient_li]\n",
        "    ingredient = \",\".join(ingredient_li)\n",
        "    if ingredient == '': ingredient = 'Origin'\n",
        "\n",
        "    saurce = p.sub('', mix)\n",
        "    saurce = saurce.strip('[], ')\n",
        "    saurce_li = saurce.split(',')\n",
        "    saurce_li = [s.strip() for s in saurce_li if s != '']\n",
        "    saurce = \",\".join(saurce_li)\n",
        "    if saurce == '': saurce = 'Origin'\n",
        "\n",
        "    return saurce, ingredient\n",
        "  else : return 'Origin', 'Origin'\n",
        "\n",
        "tt = '[Tomatillo Red Chili Salsa, [Fajita Vegetables, Black Beans, Pinto Beans, Cheese, Sour Cream, Guacamole, Lettuce]]'\n",
        "saurce_ingredient(tt)"
      ],
      "execution_count": 11,
      "outputs": [
        {
          "output_type": "execute_result",
          "data": {
            "text/plain": [
              "('Tomatillo Red Chili Salsa',\n",
              " 'Fajita Vegetables,Black Beans,Pinto Beans,Cheese,Sour Cream,Guacamole,Lettuce')"
            ]
          },
          "metadata": {
            "tags": []
          },
          "execution_count": 11
        }
      ]
    },
    {
      "cell_type": "code",
      "metadata": {
        "colab": {
          "base_uri": "https://localhost:8080/",
          "height": 402
        },
        "id": "royA6h4irfcO",
        "outputId": "f2e961ab-c40b-4833-8976-67c8b43e8f1d"
      },
      "source": [
        "data_t3['saurce'] = data_t3['choice_description'].map(lambda x : saurce_ingredient(x)[0])\n",
        "data_t3['ingredient'] = data_t3['choice_description'].map(lambda x : saurce_ingredient(x)[1])\n",
        "data_result = data_t3.drop(['choice_description'], axis=1)\n",
        "data_result"
      ],
      "execution_count": 12,
      "outputs": [
        {
          "output_type": "execute_result",
          "data": {
            "text/html": [
              "<div>\n",
              "<style scoped>\n",
              "    .dataframe tbody tr th:only-of-type {\n",
              "        vertical-align: middle;\n",
              "    }\n",
              "\n",
              "    .dataframe tbody tr th {\n",
              "        vertical-align: top;\n",
              "    }\n",
              "\n",
              "    .dataframe thead th {\n",
              "        text-align: right;\n",
              "    }\n",
              "</style>\n",
              "<table border=\"1\" class=\"dataframe\">\n",
              "  <thead>\n",
              "    <tr style=\"text-align: right;\">\n",
              "      <th></th>\n",
              "      <th>quantity</th>\n",
              "      <th>item_name</th>\n",
              "      <th>saurce</th>\n",
              "      <th>ingredient</th>\n",
              "    </tr>\n",
              "  </thead>\n",
              "  <tbody>\n",
              "    <tr>\n",
              "      <th>0</th>\n",
              "      <td>1</td>\n",
              "      <td>Chips and Fresh Tomato Salsa</td>\n",
              "      <td>Origin</td>\n",
              "      <td>Origin</td>\n",
              "    </tr>\n",
              "    <tr>\n",
              "      <th>1</th>\n",
              "      <td>1</td>\n",
              "      <td>Izze</td>\n",
              "      <td>Origin</td>\n",
              "      <td>Clementine</td>\n",
              "    </tr>\n",
              "    <tr>\n",
              "      <th>2</th>\n",
              "      <td>1</td>\n",
              "      <td>Nantucket Nectar</td>\n",
              "      <td>Origin</td>\n",
              "      <td>Apple</td>\n",
              "    </tr>\n",
              "    <tr>\n",
              "      <th>3</th>\n",
              "      <td>1</td>\n",
              "      <td>Chips and Tomatillo-Green Chili Salsa</td>\n",
              "      <td>Origin</td>\n",
              "      <td>Origin</td>\n",
              "    </tr>\n",
              "    <tr>\n",
              "      <th>4</th>\n",
              "      <td>2</td>\n",
              "      <td>Chicken Bowl</td>\n",
              "      <td>Tomatillo-Red Chili Salsa (Hot)</td>\n",
              "      <td>Black Beans,Rice,Cheese,Sour Cream</td>\n",
              "    </tr>\n",
              "    <tr>\n",
              "      <th>...</th>\n",
              "      <td>...</td>\n",
              "      <td>...</td>\n",
              "      <td>...</td>\n",
              "      <td>...</td>\n",
              "    </tr>\n",
              "    <tr>\n",
              "      <th>4617</th>\n",
              "      <td>1</td>\n",
              "      <td>Steak Burrito</td>\n",
              "      <td>Fresh Tomato Salsa</td>\n",
              "      <td>Rice,Black Beans,Sour Cream,Cheese,Lettuce,Gua...</td>\n",
              "    </tr>\n",
              "    <tr>\n",
              "      <th>4618</th>\n",
              "      <td>1</td>\n",
              "      <td>Steak Burrito</td>\n",
              "      <td>Fresh Tomato Salsa</td>\n",
              "      <td>Rice,Sour Cream,Cheese,Lettuce,Guacamole</td>\n",
              "    </tr>\n",
              "    <tr>\n",
              "      <th>4619</th>\n",
              "      <td>1</td>\n",
              "      <td>Chicken Salad Bowl</td>\n",
              "      <td>Fresh Tomato Salsa</td>\n",
              "      <td>Fajita Vegetables,Pinto Beans,Guacamole,Lettuce</td>\n",
              "    </tr>\n",
              "    <tr>\n",
              "      <th>4620</th>\n",
              "      <td>1</td>\n",
              "      <td>Chicken Salad Bowl</td>\n",
              "      <td>Fresh Tomato Salsa</td>\n",
              "      <td>Fajita Vegetables,Lettuce</td>\n",
              "    </tr>\n",
              "    <tr>\n",
              "      <th>4621</th>\n",
              "      <td>1</td>\n",
              "      <td>Chicken Salad Bowl</td>\n",
              "      <td>Fresh Tomato Salsa</td>\n",
              "      <td>Fajita Vegetables,Pinto Beans,Lettuce</td>\n",
              "    </tr>\n",
              "  </tbody>\n",
              "</table>\n",
              "<p>4622 rows × 4 columns</p>\n",
              "</div>"
            ],
            "text/plain": [
              "      quantity  ...                                         ingredient\n",
              "0            1  ...                                             Origin\n",
              "1            1  ...                                         Clementine\n",
              "2            1  ...                                              Apple\n",
              "3            1  ...                                             Origin\n",
              "4            2  ...                 Black Beans,Rice,Cheese,Sour Cream\n",
              "...        ...  ...                                                ...\n",
              "4617         1  ...  Rice,Black Beans,Sour Cream,Cheese,Lettuce,Gua...\n",
              "4618         1  ...           Rice,Sour Cream,Cheese,Lettuce,Guacamole\n",
              "4619         1  ...    Fajita Vegetables,Pinto Beans,Guacamole,Lettuce\n",
              "4620         1  ...                          Fajita Vegetables,Lettuce\n",
              "4621         1  ...              Fajita Vegetables,Pinto Beans,Lettuce\n",
              "\n",
              "[4622 rows x 4 columns]"
            ]
          },
          "metadata": {
            "tags": []
          },
          "execution_count": 12
        }
      ]
    },
    {
      "cell_type": "code",
      "metadata": {
        "colab": {
          "base_uri": "https://localhost:8080/"
        },
        "id": "aa63bEYOv_9d",
        "outputId": "b662f5c5-35a1-41f5-8149-0abfc42d1dda"
      },
      "source": [
        "total_num = len(data_result)\n",
        "duplicated_num = len(data_result.drop_duplicates(['item_name', 'saurce', 'ingredient'], ignore_index=True))\n",
        "print('중복 제거 전 : {}\\n중복 제거 후 : {}'.format(total_num, duplicated_num))"
      ],
      "execution_count": 13,
      "outputs": [
        {
          "output_type": "stream",
          "text": [
            "중복 제거 전 : 4622\n",
            "중복 제거 후 : 1796\n"
          ],
          "name": "stdout"
        }
      ]
    },
    {
      "cell_type": "code",
      "metadata": {
        "colab": {
          "base_uri": "https://localhost:8080/",
          "height": 431
        },
        "id": "kIKwPIgMx_Gz",
        "outputId": "92e84e74-6a45-4350-afae-f72b4f51853e"
      },
      "source": [
        "result_tmp=data_result.groupby(['item_name','saurce'])['ingredient'].value_counts()\n",
        "result_tmp=result_tmp.to_frame()\n",
        "result_tmp"
      ],
      "execution_count": 14,
      "outputs": [
        {
          "output_type": "execute_result",
          "data": {
            "text/html": [
              "<div>\n",
              "<style scoped>\n",
              "    .dataframe tbody tr th:only-of-type {\n",
              "        vertical-align: middle;\n",
              "    }\n",
              "\n",
              "    .dataframe tbody tr th {\n",
              "        vertical-align: top;\n",
              "    }\n",
              "\n",
              "    .dataframe thead th {\n",
              "        text-align: right;\n",
              "    }\n",
              "</style>\n",
              "<table border=\"1\" class=\"dataframe\">\n",
              "  <thead>\n",
              "    <tr style=\"text-align: right;\">\n",
              "      <th></th>\n",
              "      <th></th>\n",
              "      <th></th>\n",
              "      <th>ingredient</th>\n",
              "    </tr>\n",
              "    <tr>\n",
              "      <th>item_name</th>\n",
              "      <th>saurce</th>\n",
              "      <th>ingredient</th>\n",
              "      <th></th>\n",
              "    </tr>\n",
              "  </thead>\n",
              "  <tbody>\n",
              "    <tr>\n",
              "      <th rowspan=\"5\" valign=\"top\">6 Pack Soft Drink</th>\n",
              "      <th rowspan=\"5\" valign=\"top\">Origin</th>\n",
              "      <th>Diet Coke</th>\n",
              "      <td>24</td>\n",
              "    </tr>\n",
              "    <tr>\n",
              "      <th>Coke</th>\n",
              "      <td>21</td>\n",
              "    </tr>\n",
              "    <tr>\n",
              "      <th>Sprite</th>\n",
              "      <td>5</td>\n",
              "    </tr>\n",
              "    <tr>\n",
              "      <th>Lemonade</th>\n",
              "      <td>2</td>\n",
              "    </tr>\n",
              "    <tr>\n",
              "      <th>Nestea</th>\n",
              "      <td>2</td>\n",
              "    </tr>\n",
              "    <tr>\n",
              "      <th>...</th>\n",
              "      <th>...</th>\n",
              "      <th>...</th>\n",
              "      <td>...</td>\n",
              "    </tr>\n",
              "    <tr>\n",
              "      <th rowspan=\"5\" valign=\"top\">Veggie Soft Tacos</th>\n",
              "      <th rowspan=\"2\" valign=\"top\">Fresh Tomato Salsa (Mild)</th>\n",
              "      <th>Black Beans,Rice,Cheese,Lettuce</th>\n",
              "      <td>1</td>\n",
              "    </tr>\n",
              "    <tr>\n",
              "      <th>Pinto Beans,Rice,Cheese,Sour Cream</th>\n",
              "      <td>1</td>\n",
              "    </tr>\n",
              "    <tr>\n",
              "      <th>Roasted Chili Corn Salsa</th>\n",
              "      <th>Fajita Vegetables,Black Beans,Pinto Beans,Cheese,Lettuce</th>\n",
              "      <td>1</td>\n",
              "    </tr>\n",
              "    <tr>\n",
              "      <th>Roasted Chili Corn Salsa (Medium)</th>\n",
              "      <th>Black Beans,Fajita Veggies,Cheese,Sour Cream,Lettuce</th>\n",
              "      <td>1</td>\n",
              "    </tr>\n",
              "    <tr>\n",
              "      <th>Tomatillo Red Chili Salsa</th>\n",
              "      <th>Fajita Vegetables,Rice,Black Beans,Cheese,Guacamole,Lettuce</th>\n",
              "      <td>1</td>\n",
              "    </tr>\n",
              "  </tbody>\n",
              "</table>\n",
              "<p>1796 rows × 1 columns</p>\n",
              "</div>"
            ],
            "text/plain": [
              "                                                                                                        ingredient\n",
              "item_name         saurce                            ingredient                                                    \n",
              "6 Pack Soft Drink Origin                            Diet Coke                                                   24\n",
              "                                                    Coke                                                        21\n",
              "                                                    Sprite                                                       5\n",
              "                                                    Lemonade                                                     2\n",
              "                                                    Nestea                                                       2\n",
              "...                                                                                                            ...\n",
              "Veggie Soft Tacos Fresh Tomato Salsa (Mild)         Black Beans,Rice,Cheese,Lettuce                              1\n",
              "                                                    Pinto Beans,Rice,Cheese,Sour Cream                           1\n",
              "                  Roasted Chili Corn Salsa          Fajita Vegetables,Black Beans,Pinto Beans,Chees...           1\n",
              "                  Roasted Chili Corn Salsa (Medium) Black Beans,Fajita Veggies,Cheese,Sour Cream,Le...           1\n",
              "                  Tomatillo Red Chili Salsa         Fajita Vegetables,Rice,Black Beans,Cheese,Guaca...           1\n",
              "\n",
              "[1796 rows x 1 columns]"
            ]
          },
          "metadata": {
            "tags": []
          },
          "execution_count": 14
        }
      ]
    }
  ]
}