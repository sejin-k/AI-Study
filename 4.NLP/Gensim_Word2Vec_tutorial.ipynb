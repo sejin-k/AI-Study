{
 "cells": [
  {
   "cell_type": "markdown",
   "id": "d308c9f6-0f20-495f-b6c7-6ce651dbbc03",
   "metadata": {},
   "source": [
    "# Gensim Word2Vec Tutorial"
   ]
  },
  {
   "cell_type": "code",
   "execution_count": 1,
   "id": "d6c0209b-349b-4481-b316-a47d3aef3a8f",
   "metadata": {},
   "outputs": [],
   "source": [
    "import re  # For preprocessing\n",
    "import pandas as pd  # For data handling\n",
    "from time import time  # To time our operations\n",
    "from collections import defaultdict  # For word frequency\n",
    "\n",
    "import spacy  # For preprocessing\n",
    "\n",
    "import logging  # Setting up the loggings to monitor gensim\n",
    "logging.basicConfig(format=\"%(levelname)s - %(asctime)s: %(message)s\", datefmt= '%H:%M:%S', level=logging.INFO)"
   ]
  },
  {
   "cell_type": "markdown",
   "id": "d3d79f5c-4473-4f2a-a7a5-f5f50ae98c76",
   "metadata": {},
   "source": [
    "## 데이터 불러오기"
   ]
  },
  {
   "cell_type": "code",
   "execution_count": 2,
   "id": "76165e1c-aaab-461e-a394-042788eaf05b",
   "metadata": {},
   "outputs": [
    {
     "name": "stdout",
     "output_type": "stream",
     "text": [
      "(158314, 2)\n"
     ]
    },
    {
     "data": {
      "text/html": [
       "<div>\n",
       "<style scoped>\n",
       "    .dataframe tbody tr th:only-of-type {\n",
       "        vertical-align: middle;\n",
       "    }\n",
       "\n",
       "    .dataframe tbody tr th {\n",
       "        vertical-align: top;\n",
       "    }\n",
       "\n",
       "    .dataframe thead th {\n",
       "        text-align: right;\n",
       "    }\n",
       "</style>\n",
       "<table border=\"1\" class=\"dataframe\">\n",
       "  <thead>\n",
       "    <tr style=\"text-align: right;\">\n",
       "      <th></th>\n",
       "      <th>raw_character_text</th>\n",
       "      <th>spoken_words</th>\n",
       "    </tr>\n",
       "  </thead>\n",
       "  <tbody>\n",
       "    <tr>\n",
       "      <th>0</th>\n",
       "      <td>Miss Hoover</td>\n",
       "      <td>No, actually, it was a little of both. Sometim...</td>\n",
       "    </tr>\n",
       "    <tr>\n",
       "      <th>1</th>\n",
       "      <td>Lisa Simpson</td>\n",
       "      <td>Where's Mr. Bergstrom?</td>\n",
       "    </tr>\n",
       "    <tr>\n",
       "      <th>2</th>\n",
       "      <td>Miss Hoover</td>\n",
       "      <td>I don't know. Although I'd sure like to talk t...</td>\n",
       "    </tr>\n",
       "    <tr>\n",
       "      <th>3</th>\n",
       "      <td>Lisa Simpson</td>\n",
       "      <td>That life is worth living.</td>\n",
       "    </tr>\n",
       "    <tr>\n",
       "      <th>4</th>\n",
       "      <td>Edna Krabappel-Flanders</td>\n",
       "      <td>The polls will be open from now until the end ...</td>\n",
       "    </tr>\n",
       "  </tbody>\n",
       "</table>\n",
       "</div>"
      ],
      "text/plain": [
       "        raw_character_text                                       spoken_words\n",
       "0              Miss Hoover  No, actually, it was a little of both. Sometim...\n",
       "1             Lisa Simpson                             Where's Mr. Bergstrom?\n",
       "2              Miss Hoover  I don't know. Although I'd sure like to talk t...\n",
       "3             Lisa Simpson                         That life is worth living.\n",
       "4  Edna Krabappel-Flanders  The polls will be open from now until the end ..."
      ]
     },
     "execution_count": 2,
     "metadata": {},
     "output_type": "execute_result"
    }
   ],
   "source": [
    "df = pd.read_csv('data/simpsons/simpsons_dataset.csv')\n",
    "print(df.shape)\n",
    "df.head()"
   ]
  },
  {
   "cell_type": "markdown",
   "id": "c990e32a-b174-4a3c-9c2f-119d56637e28",
   "metadata": {},
   "source": [
    "## 결측치 처리"
   ]
  },
  {
   "cell_type": "code",
   "execution_count": 3,
   "id": "f7daefd2-09de-46c1-accb-c34956abefa7",
   "metadata": {},
   "outputs": [
    {
     "data": {
      "text/plain": [
       "raw_character_text    17814\n",
       "spoken_words          26459\n",
       "dtype: int64"
      ]
     },
     "execution_count": 3,
     "metadata": {},
     "output_type": "execute_result"
    }
   ],
   "source": [
    "df.isnull().sum()"
   ]
  },
  {
   "cell_type": "code",
   "execution_count": 4,
   "id": "4d06c082-2fda-4d1c-9286-9eace481a439",
   "metadata": {},
   "outputs": [
    {
     "data": {
      "text/plain": [
       "raw_character_text    0\n",
       "spoken_words          0\n",
       "dtype: int64"
      ]
     },
     "execution_count": 4,
     "metadata": {},
     "output_type": "execute_result"
    }
   ],
   "source": [
    "df = df.dropna().reset_index(drop=True)\n",
    "df.isnull().sum()"
   ]
  },
  {
   "cell_type": "markdown",
   "id": "724d180d-5e4c-43a2-9239-7513c4c268b6",
   "metadata": {},
   "source": [
    "## 불용어 제거"
   ]
  },
  {
   "cell_type": "code",
   "execution_count": 5,
   "id": "8965367f-c8bd-4057-8088-e68bea44404d",
   "metadata": {},
   "outputs": [],
   "source": [
    "nlp = spacy.load('en', disable=['ner', 'parser']) # disabling Named Entity Recognition for speed\n",
    "\n",
    "def cleaning(doc):\n",
    "    # Lemmatizes and removes stopwords\n",
    "    # doc needs to be a spacy Doc object\n",
    "    txt = [token.lemma_ for token in doc if not token.is_stop]\n",
    "    # Word2Vec uses context words to learn the vector representation of a target word,\n",
    "    # if a sentence is only one or two words long,\n",
    "    # the benefit for the training is very small\n",
    "    if len(txt) > 2:\n",
    "        return ' '.join(txt)"
   ]
  },
  {
   "cell_type": "code",
   "execution_count": 6,
   "id": "9b6d8eae-ce47-415e-889c-c1d9ea603faf",
   "metadata": {},
   "outputs": [],
   "source": [
    "brief_cleaning = (re.sub(\"[^A-Za-z']+\", ' ', str(row)).lower() for row in df['spoken_words'])"
   ]
  },
  {
   "cell_type": "code",
   "execution_count": 7,
   "id": "44719d19-4c59-4948-bbb1-ec41b690c354",
   "metadata": {},
   "outputs": [
    {
     "name": "stdout",
     "output_type": "stream",
     "text": [
      "Time to clean up everything: 0.79 mins\n"
     ]
    }
   ],
   "source": [
    "t = time()\n",
    "\n",
    "txt = [cleaning(doc) for doc in nlp.pipe(brief_cleaning, batch_size=5000, n_threads=-1)]\n",
    "\n",
    "print('Time to clean up everything: {} mins'.format(round((time() - t) / 60, 2)))"
   ]
  },
  {
   "cell_type": "code",
   "execution_count": 8,
   "id": "378f053c-c76e-4feb-8bec-1ed662aa5c6c",
   "metadata": {},
   "outputs": [
    {
     "data": {
      "text/plain": [
       "(85954, 1)"
      ]
     },
     "execution_count": 8,
     "metadata": {},
     "output_type": "execute_result"
    }
   ],
   "source": [
    "df_clean = pd.DataFrame({'clean': txt})\n",
    "df_clean = df_clean.dropna().drop_duplicates()\n",
    "df_clean.shape"
   ]
  },
  {
   "cell_type": "markdown",
   "id": "ffce1135-ca9e-4989-9a91-8073bce4fb09",
   "metadata": {},
   "source": [
    "## Bigrams"
   ]
  },
  {
   "cell_type": "code",
   "execution_count": 9,
   "id": "c3a42033-0750-4fc4-9462-7bdfff880081",
   "metadata": {},
   "outputs": [],
   "source": [
    "from gensim.models.phrases import Phrases, Phraser"
   ]
  },
  {
   "cell_type": "code",
   "execution_count": 10,
   "id": "efde2ce1-174e-40d5-943d-507984a0d822",
   "metadata": {},
   "outputs": [],
   "source": [
    "sent = [row.split() for row in df_clean['clean']]"
   ]
  },
  {
   "cell_type": "code",
   "execution_count": 11,
   "id": "750a25ba-8780-4486-94c3-f281f8460762",
   "metadata": {},
   "outputs": [
    {
     "name": "stderr",
     "output_type": "stream",
     "text": [
      "INFO - 15:07:12: collecting all words and their counts\n",
      "INFO - 15:07:12: PROGRESS: at sentence #0, processed 0 words and 0 word types\n",
      "INFO - 15:07:12: PROGRESS: at sentence #10000, processed 63557 words and 52796 word types\n",
      "INFO - 15:07:12: PROGRESS: at sentence #20000, processed 130938 words and 99801 word types\n",
      "INFO - 15:07:12: PROGRESS: at sentence #30000, processed 192959 words and 138413 word types\n",
      "INFO - 15:07:12: PROGRESS: at sentence #40000, processed 249832 words and 172509 word types\n",
      "INFO - 15:07:12: PROGRESS: at sentence #50000, processed 311271 words and 208406 word types\n",
      "INFO - 15:07:13: PROGRESS: at sentence #60000, processed 373576 words and 243519 word types\n",
      "INFO - 15:07:13: PROGRESS: at sentence #70000, processed 436427 words and 278547 word types\n",
      "INFO - 15:07:13: PROGRESS: at sentence #80000, processed 497891 words and 311704 word types\n",
      "INFO - 15:07:13: collected 330480 word types from a corpus of 537095 words (unigram + bigrams) and 85954 sentences\n",
      "INFO - 15:07:13: using 330480 counts as vocab in Phrases<0 vocab, min_count=30, threshold=10.0, max_vocab_size=40000000>\n"
     ]
    }
   ],
   "source": [
    "phrases = Phrases(sent, min_count=30, progress_per=10000)"
   ]
  },
  {
   "cell_type": "code",
   "execution_count": 12,
   "id": "36316314-c18e-47e3-bcc9-48ee32d3f528",
   "metadata": {},
   "outputs": [
    {
     "name": "stderr",
     "output_type": "stream",
     "text": [
      "INFO - 15:07:13: source_vocab length 330480\n",
      "INFO - 15:07:15: Phraser built with 127 phrasegrams\n"
     ]
    }
   ],
   "source": [
    "bigram = Phraser(phrases)"
   ]
  },
  {
   "cell_type": "code",
   "execution_count": 13,
   "id": "44cac53c-2aa4-4165-b374-533077aa3367",
   "metadata": {},
   "outputs": [],
   "source": [
    "sentences = bigram[sent]"
   ]
  },
  {
   "cell_type": "code",
   "execution_count": 14,
   "id": "5f8a08e5-c239-4178-b558-2667a3c43777",
   "metadata": {},
   "outputs": [
    {
     "data": {
      "text/plain": [
       "30242"
      ]
     },
     "execution_count": 14,
     "metadata": {},
     "output_type": "execute_result"
    }
   ],
   "source": [
    "word_freq = defaultdict(int)\n",
    "for sent in sentences:\n",
    "    for i in sent:\n",
    "        word_freq[i] += 1\n",
    "len(word_freq)"
   ]
  },
  {
   "cell_type": "code",
   "execution_count": 15,
   "id": "24a5d5d3-a19a-4616-8fc3-8b92e09a44cf",
   "metadata": {},
   "outputs": [
    {
     "data": {
      "text/plain": [
       "['oh', 'like', 'know', 'get', 'hey', 'think', 'come', 'right', 'look', 'want']"
      ]
     },
     "execution_count": 15,
     "metadata": {},
     "output_type": "execute_result"
    }
   ],
   "source": [
    "sorted(word_freq, key=word_freq.get, reverse=True)[:10]"
   ]
  },
  {
   "cell_type": "markdown",
   "id": "7ee459a1-1616-437f-a765-9312224fd324",
   "metadata": {},
   "source": [
    "## Training the model"
   ]
  },
  {
   "cell_type": "code",
   "execution_count": 16,
   "id": "f4b8f55b-d9dd-41f9-b113-fec21600580e",
   "metadata": {},
   "outputs": [],
   "source": [
    "import multiprocessing\n",
    "\n",
    "from gensim.models import Word2Vec"
   ]
  },
  {
   "cell_type": "code",
   "execution_count": 17,
   "id": "5ceafeec-a405-4929-b361-d5d54852f090",
   "metadata": {},
   "outputs": [
    {
     "data": {
      "text/plain": [
       "16"
      ]
     },
     "execution_count": 17,
     "metadata": {},
     "output_type": "execute_result"
    }
   ],
   "source": [
    "cores = multiprocessing.cpu_count() # Count the number of cores in a computer\n",
    "cores"
   ]
  },
  {
   "cell_type": "code",
   "execution_count": 18,
   "id": "f11b156f-8b9b-4dac-af1e-c9281293ffb7",
   "metadata": {},
   "outputs": [],
   "source": [
    "w2v_model = Word2Vec(min_count=20, # 단어로 사용하기 단어가 나오는 위해 최소 빈도수\n",
    "                     window=2,     # word2vec의 window 값\n",
    "                     size=300,     # 단어의 차원수 ex (10, 100) 1100개의 feature를가진 0개의 단어\n",
    "                     sample=6e-5,  # \n",
    "                     alpha=0.03,   # 초기 학습률\n",
    "                     min_alpha=0.0007,  # 초기학습률부터 최소학습률까지 선형적으로 감소\n",
    "                     negative=20,  # negative sampling 할 때 추출한 0label의 단어 개수\n",
    "                     workers=cores-1) # 멀티 프로세싱하기위한 cpu core 수"
   ]
  },
  {
   "cell_type": "code",
   "execution_count": 19,
   "id": "b6e4a326-43a4-4ec7-9b7e-35df7f4deb27",
   "metadata": {},
   "outputs": [
    {
     "name": "stderr",
     "output_type": "stream",
     "text": [
      "INFO - 15:07:16: collecting all words and their counts\n",
      "INFO - 15:07:16: PROGRESS: at sentence #0, processed 0 words, keeping 0 word types\n",
      "INFO - 15:07:16: PROGRESS: at sentence #10000, processed 61710 words, keeping 9572 word types\n",
      "INFO - 15:07:17: PROGRESS: at sentence #20000, processed 127345 words, keeping 14535 word types\n",
      "INFO - 15:07:17: PROGRESS: at sentence #30000, processed 187806 words, keeping 17660 word types\n",
      "INFO - 15:07:17: PROGRESS: at sentence #40000, processed 243314 words, keeping 20424 word types\n",
      "INFO - 15:07:17: PROGRESS: at sentence #50000, processed 303176 words, keeping 22934 word types\n",
      "INFO - 15:07:17: PROGRESS: at sentence #60000, processed 363916 words, keeping 25246 word types\n",
      "INFO - 15:07:17: PROGRESS: at sentence #70000, processed 425379 words, keeping 27467 word types\n",
      "INFO - 15:07:17: PROGRESS: at sentence #80000, processed 485507 words, keeping 29350 word types\n",
      "INFO - 15:07:17: collected 30242 word types from a corpus of 523616 raw words and 85954 sentences\n",
      "INFO - 15:07:17: Loading a fresh vocabulary\n",
      "INFO - 15:07:17: effective_min_count=20 retains 3309 unique words (10% of original 30242, drops 26933)\n",
      "INFO - 15:07:17: effective_min_count=20 leaves 437086 word corpus (83% of original 523616, drops 86530)\n",
      "INFO - 15:07:17: deleting the raw counts dictionary of 30242 items\n",
      "INFO - 15:07:17: sample=6e-05 downsamples 1199 most-common words\n",
      "INFO - 15:07:17: downsampling leaves estimated 198624 word corpus (45.4% of prior 437086)\n",
      "INFO - 15:07:17: estimated required memory for 3309 words and 300 dimensions: 9596100 bytes\n",
      "INFO - 15:07:17: resetting layer weights\n"
     ]
    },
    {
     "name": "stdout",
     "output_type": "stream",
     "text": [
      "Time to build vocab: 0.03 mins\n"
     ]
    }
   ],
   "source": [
    "t = time()\n",
    "\n",
    "w2v_model.build_vocab(sentences, progress_per=10000)\n",
    "\n",
    "print('Time to build vocab: {} mins'.format(round((time() - t) / 60, 2)))"
   ]
  },
  {
   "cell_type": "code",
   "execution_count": 20,
   "id": "411c2d2c-0311-40d3-8b37-e08debcc98c7",
   "metadata": {
    "scrolled": true,
    "tags": []
   },
   "outputs": [
    {
     "name": "stderr",
     "output_type": "stream",
     "text": [
      "INFO - 15:07:18: training model with 15 workers on 3309 vocabulary and 300 features, using sg=0 hs=0 sample=6e-05 negative=20 window=2\n",
      "INFO - 15:07:19: EPOCH 1 - PROGRESS: at 20.14% examples, 35037 words/s, in_qsize 23, out_qsize 0\n",
      "INFO - 15:07:19: worker thread finished; awaiting finish of 14 more threads\n",
      "INFO - 15:07:19: worker thread finished; awaiting finish of 13 more threads\n",
      "INFO - 15:07:19: worker thread finished; awaiting finish of 12 more threads\n",
      "INFO - 15:07:19: worker thread finished; awaiting finish of 11 more threads\n",
      "INFO - 15:07:19: worker thread finished; awaiting finish of 10 more threads\n",
      "INFO - 15:07:19: worker thread finished; awaiting finish of 9 more threads\n",
      "INFO - 15:07:19: worker thread finished; awaiting finish of 8 more threads\n",
      "INFO - 15:07:19: worker thread finished; awaiting finish of 7 more threads\n",
      "INFO - 15:07:19: worker thread finished; awaiting finish of 6 more threads\n",
      "INFO - 15:07:19: worker thread finished; awaiting finish of 5 more threads\n",
      "INFO - 15:07:19: worker thread finished; awaiting finish of 4 more threads\n",
      "INFO - 15:07:19: worker thread finished; awaiting finish of 3 more threads\n",
      "INFO - 15:07:19: worker thread finished; awaiting finish of 2 more threads\n",
      "INFO - 15:07:19: worker thread finished; awaiting finish of 1 more threads\n",
      "INFO - 15:07:19: worker thread finished; awaiting finish of 0 more threads\n",
      "INFO - 15:07:19: EPOCH - 1 : training on 523616 raw words (198652 effective words) took 1.4s, 141686 effective words/s\n",
      "INFO - 15:07:21: EPOCH 2 - PROGRESS: at 11.22% examples, 18730 words/s, in_qsize 29, out_qsize 0\n",
      "INFO - 15:07:21: worker thread finished; awaiting finish of 14 more threads\n",
      "INFO - 15:07:21: worker thread finished; awaiting finish of 13 more threads\n",
      "INFO - 15:07:21: worker thread finished; awaiting finish of 12 more threads\n",
      "INFO - 15:07:21: worker thread finished; awaiting finish of 11 more threads\n",
      "INFO - 15:07:21: worker thread finished; awaiting finish of 10 more threads\n",
      "INFO - 15:07:21: worker thread finished; awaiting finish of 9 more threads\n",
      "INFO - 15:07:21: worker thread finished; awaiting finish of 8 more threads\n",
      "INFO - 15:07:21: worker thread finished; awaiting finish of 7 more threads\n",
      "INFO - 15:07:21: worker thread finished; awaiting finish of 6 more threads\n",
      "INFO - 15:07:21: worker thread finished; awaiting finish of 5 more threads\n",
      "INFO - 15:07:21: worker thread finished; awaiting finish of 4 more threads\n",
      "INFO - 15:07:21: worker thread finished; awaiting finish of 3 more threads\n",
      "INFO - 15:07:21: worker thread finished; awaiting finish of 2 more threads\n",
      "INFO - 15:07:21: worker thread finished; awaiting finish of 1 more threads\n",
      "INFO - 15:07:21: worker thread finished; awaiting finish of 0 more threads\n",
      "INFO - 15:07:21: EPOCH - 2 : training on 523616 raw words (198598 effective words) took 1.4s, 145797 effective words/s\n",
      "INFO - 15:07:22: EPOCH 3 - PROGRESS: at 20.45% examples, 36886 words/s, in_qsize 29, out_qsize 0\n",
      "INFO - 15:07:22: worker thread finished; awaiting finish of 14 more threads\n",
      "INFO - 15:07:22: worker thread finished; awaiting finish of 13 more threads\n",
      "INFO - 15:07:22: worker thread finished; awaiting finish of 12 more threads\n",
      "INFO - 15:07:22: worker thread finished; awaiting finish of 11 more threads\n",
      "INFO - 15:07:22: worker thread finished; awaiting finish of 10 more threads\n",
      "INFO - 15:07:22: worker thread finished; awaiting finish of 9 more threads\n",
      "INFO - 15:07:22: worker thread finished; awaiting finish of 8 more threads\n",
      "INFO - 15:07:22: worker thread finished; awaiting finish of 7 more threads\n",
      "INFO - 15:07:22: worker thread finished; awaiting finish of 6 more threads\n",
      "INFO - 15:07:22: worker thread finished; awaiting finish of 5 more threads\n",
      "INFO - 15:07:22: worker thread finished; awaiting finish of 4 more threads\n",
      "INFO - 15:07:22: worker thread finished; awaiting finish of 3 more threads\n",
      "INFO - 15:07:22: worker thread finished; awaiting finish of 2 more threads\n",
      "INFO - 15:07:22: worker thread finished; awaiting finish of 1 more threads\n",
      "INFO - 15:07:22: worker thread finished; awaiting finish of 0 more threads\n",
      "INFO - 15:07:22: EPOCH - 3 : training on 523616 raw words (198756 effective words) took 1.3s, 155803 effective words/s\n",
      "INFO - 15:07:23: EPOCH 4 - PROGRESS: at 9.28% examples, 17341 words/s, in_qsize 26, out_qsize 0\n",
      "INFO - 15:07:23: worker thread finished; awaiting finish of 14 more threads\n",
      "INFO - 15:07:23: worker thread finished; awaiting finish of 13 more threads\n",
      "INFO - 15:07:23: worker thread finished; awaiting finish of 12 more threads\n",
      "INFO - 15:07:23: worker thread finished; awaiting finish of 11 more threads\n",
      "INFO - 15:07:23: worker thread finished; awaiting finish of 10 more threads\n",
      "INFO - 15:07:23: worker thread finished; awaiting finish of 9 more threads\n",
      "INFO - 15:07:23: worker thread finished; awaiting finish of 8 more threads\n",
      "INFO - 15:07:23: worker thread finished; awaiting finish of 7 more threads\n",
      "INFO - 15:07:23: worker thread finished; awaiting finish of 6 more threads\n",
      "INFO - 15:07:23: worker thread finished; awaiting finish of 5 more threads\n",
      "INFO - 15:07:23: worker thread finished; awaiting finish of 4 more threads\n",
      "INFO - 15:07:23: worker thread finished; awaiting finish of 3 more threads\n",
      "INFO - 15:07:23: worker thread finished; awaiting finish of 2 more threads\n",
      "INFO - 15:07:23: worker thread finished; awaiting finish of 1 more threads\n",
      "INFO - 15:07:23: worker thread finished; awaiting finish of 0 more threads\n",
      "INFO - 15:07:23: EPOCH - 4 : training on 523616 raw words (198632 effective words) took 1.4s, 145741 effective words/s\n",
      "INFO - 15:07:24: EPOCH 5 - PROGRESS: at 11.23% examples, 22355 words/s, in_qsize 22, out_qsize 0\n",
      "INFO - 15:07:25: worker thread finished; awaiting finish of 14 more threads\n",
      "INFO - 15:07:25: worker thread finished; awaiting finish of 13 more threads\n",
      "INFO - 15:07:25: worker thread finished; awaiting finish of 12 more threads\n",
      "INFO - 15:07:25: worker thread finished; awaiting finish of 11 more threads\n",
      "INFO - 15:07:25: worker thread finished; awaiting finish of 10 more threads\n",
      "INFO - 15:07:25: worker thread finished; awaiting finish of 9 more threads\n",
      "INFO - 15:07:25: worker thread finished; awaiting finish of 8 more threads\n",
      "INFO - 15:07:25: worker thread finished; awaiting finish of 7 more threads\n",
      "INFO - 15:07:25: worker thread finished; awaiting finish of 6 more threads\n",
      "INFO - 15:07:25: worker thread finished; awaiting finish of 5 more threads\n",
      "INFO - 15:07:25: worker thread finished; awaiting finish of 4 more threads\n",
      "INFO - 15:07:25: worker thread finished; awaiting finish of 3 more threads\n",
      "INFO - 15:07:25: worker thread finished; awaiting finish of 2 more threads\n",
      "INFO - 15:07:25: worker thread finished; awaiting finish of 1 more threads\n",
      "INFO - 15:07:25: worker thread finished; awaiting finish of 0 more threads\n",
      "INFO - 15:07:25: EPOCH - 5 : training on 523616 raw words (198432 effective words) took 1.3s, 147752 effective words/s\n",
      "INFO - 15:07:26: EPOCH 6 - PROGRESS: at 11.10% examples, 20707 words/s, in_qsize 25, out_qsize 0\n",
      "INFO - 15:07:26: worker thread finished; awaiting finish of 14 more threads\n",
      "INFO - 15:07:26: worker thread finished; awaiting finish of 13 more threads\n",
      "INFO - 15:07:26: worker thread finished; awaiting finish of 12 more threads\n",
      "INFO - 15:07:26: worker thread finished; awaiting finish of 11 more threads\n",
      "INFO - 15:07:26: worker thread finished; awaiting finish of 10 more threads\n",
      "INFO - 15:07:26: worker thread finished; awaiting finish of 9 more threads\n",
      "INFO - 15:07:26: worker thread finished; awaiting finish of 8 more threads\n",
      "INFO - 15:07:26: worker thread finished; awaiting finish of 7 more threads\n",
      "INFO - 15:07:26: worker thread finished; awaiting finish of 6 more threads\n",
      "INFO - 15:07:26: worker thread finished; awaiting finish of 5 more threads\n",
      "INFO - 15:07:26: worker thread finished; awaiting finish of 4 more threads\n",
      "INFO - 15:07:26: worker thread finished; awaiting finish of 3 more threads\n",
      "INFO - 15:07:26: worker thread finished; awaiting finish of 2 more threads\n",
      "INFO - 15:07:26: worker thread finished; awaiting finish of 1 more threads\n",
      "INFO - 15:07:26: worker thread finished; awaiting finish of 0 more threads\n",
      "INFO - 15:07:26: EPOCH - 6 : training on 523616 raw words (198590 effective words) took 1.4s, 146841 effective words/s\n",
      "INFO - 15:07:27: EPOCH 7 - PROGRESS: at 16.76% examples, 30284 words/s, in_qsize 24, out_qsize 0\n",
      "INFO - 15:07:27: worker thread finished; awaiting finish of 14 more threads\n",
      "INFO - 15:07:27: worker thread finished; awaiting finish of 13 more threads\n",
      "INFO - 15:07:27: worker thread finished; awaiting finish of 12 more threads\n",
      "INFO - 15:07:27: worker thread finished; awaiting finish of 11 more threads\n",
      "INFO - 15:07:27: worker thread finished; awaiting finish of 10 more threads\n",
      "INFO - 15:07:27: worker thread finished; awaiting finish of 9 more threads\n",
      "INFO - 15:07:27: worker thread finished; awaiting finish of 8 more threads\n",
      "INFO - 15:07:27: worker thread finished; awaiting finish of 7 more threads\n",
      "INFO - 15:07:27: worker thread finished; awaiting finish of 6 more threads\n",
      "INFO - 15:07:27: worker thread finished; awaiting finish of 5 more threads\n",
      "INFO - 15:07:27: worker thread finished; awaiting finish of 4 more threads\n",
      "INFO - 15:07:27: worker thread finished; awaiting finish of 3 more threads\n",
      "INFO - 15:07:27: worker thread finished; awaiting finish of 2 more threads\n",
      "INFO - 15:07:27: worker thread finished; awaiting finish of 1 more threads\n",
      "INFO - 15:07:27: worker thread finished; awaiting finish of 0 more threads\n",
      "INFO - 15:07:27: EPOCH - 7 : training on 523616 raw words (198620 effective words) took 1.3s, 148480 effective words/s\n",
      "INFO - 15:07:29: EPOCH 8 - PROGRESS: at 14.75% examples, 27565 words/s, in_qsize 25, out_qsize 0\n",
      "INFO - 15:07:29: worker thread finished; awaiting finish of 14 more threads\n",
      "INFO - 15:07:29: worker thread finished; awaiting finish of 13 more threads\n",
      "INFO - 15:07:29: worker thread finished; awaiting finish of 12 more threads\n",
      "INFO - 15:07:29: worker thread finished; awaiting finish of 11 more threads\n",
      "INFO - 15:07:29: worker thread finished; awaiting finish of 10 more threads\n",
      "INFO - 15:07:29: worker thread finished; awaiting finish of 9 more threads\n",
      "INFO - 15:07:29: worker thread finished; awaiting finish of 8 more threads\n",
      "INFO - 15:07:29: worker thread finished; awaiting finish of 7 more threads\n",
      "INFO - 15:07:29: worker thread finished; awaiting finish of 6 more threads\n",
      "INFO - 15:07:29: worker thread finished; awaiting finish of 5 more threads\n",
      "INFO - 15:07:29: worker thread finished; awaiting finish of 4 more threads\n",
      "INFO - 15:07:29: worker thread finished; awaiting finish of 3 more threads\n",
      "INFO - 15:07:29: worker thread finished; awaiting finish of 2 more threads\n",
      "INFO - 15:07:29: worker thread finished; awaiting finish of 1 more threads\n",
      "INFO - 15:07:29: worker thread finished; awaiting finish of 0 more threads\n",
      "INFO - 15:07:29: EPOCH - 8 : training on 523616 raw words (198601 effective words) took 1.3s, 148381 effective words/s\n",
      "INFO - 15:07:30: EPOCH 9 - PROGRESS: at 14.72% examples, 30087 words/s, in_qsize 20, out_qsize 0\n",
      "INFO - 15:07:30: worker thread finished; awaiting finish of 14 more threads\n",
      "INFO - 15:07:30: worker thread finished; awaiting finish of 13 more threads\n",
      "INFO - 15:07:30: worker thread finished; awaiting finish of 12 more threads\n",
      "INFO - 15:07:30: worker thread finished; awaiting finish of 11 more threads\n",
      "INFO - 15:07:30: worker thread finished; awaiting finish of 10 more threads\n",
      "INFO - 15:07:30: worker thread finished; awaiting finish of 9 more threads\n",
      "INFO - 15:07:30: worker thread finished; awaiting finish of 8 more threads\n",
      "INFO - 15:07:30: worker thread finished; awaiting finish of 7 more threads\n",
      "INFO - 15:07:30: worker thread finished; awaiting finish of 6 more threads\n",
      "INFO - 15:07:30: worker thread finished; awaiting finish of 5 more threads\n",
      "INFO - 15:07:30: worker thread finished; awaiting finish of 4 more threads\n",
      "INFO - 15:07:30: worker thread finished; awaiting finish of 3 more threads\n",
      "INFO - 15:07:30: worker thread finished; awaiting finish of 2 more threads\n",
      "INFO - 15:07:30: worker thread finished; awaiting finish of 1 more threads\n",
      "INFO - 15:07:30: worker thread finished; awaiting finish of 0 more threads\n",
      "INFO - 15:07:30: EPOCH - 9 : training on 523616 raw words (198843 effective words) took 1.3s, 147986 effective words/s\n",
      "INFO - 15:07:31: EPOCH 10 - PROGRESS: at 14.87% examples, 28741 words/s, in_qsize 22, out_qsize 0\n",
      "INFO - 15:07:32: worker thread finished; awaiting finish of 14 more threads\n",
      "INFO - 15:07:32: worker thread finished; awaiting finish of 13 more threads\n",
      "INFO - 15:07:32: worker thread finished; awaiting finish of 12 more threads\n",
      "INFO - 15:07:32: worker thread finished; awaiting finish of 11 more threads\n",
      "INFO - 15:07:32: worker thread finished; awaiting finish of 10 more threads\n",
      "INFO - 15:07:32: worker thread finished; awaiting finish of 9 more threads\n",
      "INFO - 15:07:32: worker thread finished; awaiting finish of 8 more threads\n",
      "INFO - 15:07:32: worker thread finished; awaiting finish of 7 more threads\n",
      "INFO - 15:07:32: worker thread finished; awaiting finish of 6 more threads\n",
      "INFO - 15:07:32: worker thread finished; awaiting finish of 5 more threads\n",
      "INFO - 15:07:32: worker thread finished; awaiting finish of 4 more threads\n",
      "INFO - 15:07:32: worker thread finished; awaiting finish of 3 more threads\n",
      "INFO - 15:07:32: worker thread finished; awaiting finish of 2 more threads\n",
      "INFO - 15:07:32: worker thread finished; awaiting finish of 1 more threads\n",
      "INFO - 15:07:32: worker thread finished; awaiting finish of 0 more threads\n",
      "INFO - 15:07:32: EPOCH - 10 : training on 523616 raw words (198836 effective words) took 1.3s, 148383 effective words/s\n",
      "INFO - 15:07:33: EPOCH 11 - PROGRESS: at 13.10% examples, 26021 words/s, in_qsize 26, out_qsize 0\n",
      "INFO - 15:07:33: worker thread finished; awaiting finish of 14 more threads\n",
      "INFO - 15:07:33: worker thread finished; awaiting finish of 13 more threads\n",
      "INFO - 15:07:33: worker thread finished; awaiting finish of 12 more threads\n",
      "INFO - 15:07:33: worker thread finished; awaiting finish of 11 more threads\n",
      "INFO - 15:07:33: worker thread finished; awaiting finish of 10 more threads\n",
      "INFO - 15:07:33: worker thread finished; awaiting finish of 9 more threads\n",
      "INFO - 15:07:33: worker thread finished; awaiting finish of 8 more threads\n",
      "INFO - 15:07:33: worker thread finished; awaiting finish of 7 more threads\n",
      "INFO - 15:07:33: worker thread finished; awaiting finish of 6 more threads\n",
      "INFO - 15:07:33: worker thread finished; awaiting finish of 5 more threads\n",
      "INFO - 15:07:33: worker thread finished; awaiting finish of 4 more threads\n",
      "INFO - 15:07:33: worker thread finished; awaiting finish of 3 more threads\n",
      "INFO - 15:07:33: worker thread finished; awaiting finish of 2 more threads\n",
      "INFO - 15:07:33: worker thread finished; awaiting finish of 1 more threads\n",
      "INFO - 15:07:33: worker thread finished; awaiting finish of 0 more threads\n",
      "INFO - 15:07:33: EPOCH - 11 : training on 523616 raw words (198916 effective words) took 1.3s, 149032 effective words/s\n",
      "INFO - 15:07:34: EPOCH 12 - PROGRESS: at 12.97% examples, 25536 words/s, in_qsize 26, out_qsize 0\n",
      "INFO - 15:07:34: worker thread finished; awaiting finish of 14 more threads\n",
      "INFO - 15:07:34: worker thread finished; awaiting finish of 13 more threads\n",
      "INFO - 15:07:34: worker thread finished; awaiting finish of 12 more threads\n",
      "INFO - 15:07:34: worker thread finished; awaiting finish of 11 more threads\n",
      "INFO - 15:07:34: worker thread finished; awaiting finish of 10 more threads\n",
      "INFO - 15:07:34: worker thread finished; awaiting finish of 9 more threads\n",
      "INFO - 15:07:34: worker thread finished; awaiting finish of 8 more threads\n",
      "INFO - 15:07:34: worker thread finished; awaiting finish of 7 more threads\n",
      "INFO - 15:07:34: worker thread finished; awaiting finish of 6 more threads\n",
      "INFO - 15:07:34: worker thread finished; awaiting finish of 5 more threads\n",
      "INFO - 15:07:34: worker thread finished; awaiting finish of 4 more threads\n",
      "INFO - 15:07:34: worker thread finished; awaiting finish of 3 more threads\n",
      "INFO - 15:07:34: worker thread finished; awaiting finish of 2 more threads\n",
      "INFO - 15:07:34: worker thread finished; awaiting finish of 1 more threads\n",
      "INFO - 15:07:34: worker thread finished; awaiting finish of 0 more threads\n",
      "INFO - 15:07:34: EPOCH - 12 : training on 523616 raw words (199087 effective words) took 1.3s, 156892 effective words/s\n",
      "INFO - 15:07:35: EPOCH 13 - PROGRESS: at 11.23% examples, 19989 words/s, in_qsize 29, out_qsize 0\n",
      "INFO - 15:07:36: worker thread finished; awaiting finish of 14 more threads\n",
      "INFO - 15:07:36: worker thread finished; awaiting finish of 13 more threads\n",
      "INFO - 15:07:36: worker thread finished; awaiting finish of 12 more threads\n",
      "INFO - 15:07:36: worker thread finished; awaiting finish of 11 more threads\n",
      "INFO - 15:07:36: worker thread finished; awaiting finish of 10 more threads\n",
      "INFO - 15:07:36: worker thread finished; awaiting finish of 9 more threads\n",
      "INFO - 15:07:36: worker thread finished; awaiting finish of 8 more threads\n",
      "INFO - 15:07:36: worker thread finished; awaiting finish of 7 more threads\n",
      "INFO - 15:07:36: worker thread finished; awaiting finish of 6 more threads\n",
      "INFO - 15:07:36: worker thread finished; awaiting finish of 5 more threads\n",
      "INFO - 15:07:36: worker thread finished; awaiting finish of 4 more threads\n",
      "INFO - 15:07:36: worker thread finished; awaiting finish of 3 more threads\n",
      "INFO - 15:07:36: worker thread finished; awaiting finish of 2 more threads\n",
      "INFO - 15:07:36: worker thread finished; awaiting finish of 1 more threads\n",
      "INFO - 15:07:36: worker thread finished; awaiting finish of 0 more threads\n",
      "INFO - 15:07:36: EPOCH - 13 : training on 523616 raw words (198274 effective words) took 1.3s, 147396 effective words/s\n",
      "INFO - 15:07:37: EPOCH 14 - PROGRESS: at 11.20% examples, 19381 words/s, in_qsize 29, out_qsize 1\n",
      "INFO - 15:07:37: worker thread finished; awaiting finish of 14 more threads\n",
      "INFO - 15:07:37: worker thread finished; awaiting finish of 13 more threads\n",
      "INFO - 15:07:37: worker thread finished; awaiting finish of 12 more threads\n",
      "INFO - 15:07:37: worker thread finished; awaiting finish of 11 more threads\n",
      "INFO - 15:07:37: worker thread finished; awaiting finish of 10 more threads\n",
      "INFO - 15:07:37: worker thread finished; awaiting finish of 9 more threads\n",
      "INFO - 15:07:37: worker thread finished; awaiting finish of 8 more threads\n",
      "INFO - 15:07:37: worker thread finished; awaiting finish of 7 more threads\n",
      "INFO - 15:07:37: worker thread finished; awaiting finish of 6 more threads\n",
      "INFO - 15:07:37: worker thread finished; awaiting finish of 5 more threads\n",
      "INFO - 15:07:37: worker thread finished; awaiting finish of 4 more threads\n",
      "INFO - 15:07:37: worker thread finished; awaiting finish of 3 more threads\n",
      "INFO - 15:07:37: worker thread finished; awaiting finish of 2 more threads\n",
      "INFO - 15:07:37: worker thread finished; awaiting finish of 1 more threads\n",
      "INFO - 15:07:37: worker thread finished; awaiting finish of 0 more threads\n",
      "INFO - 15:07:37: EPOCH - 14 : training on 523616 raw words (198965 effective words) took 1.3s, 148774 effective words/s\n",
      "INFO - 15:07:38: EPOCH 15 - PROGRESS: at 20.32% examples, 38644 words/s, in_qsize 20, out_qsize 0\n",
      "INFO - 15:07:38: worker thread finished; awaiting finish of 14 more threads\n",
      "INFO - 15:07:38: worker thread finished; awaiting finish of 13 more threads\n",
      "INFO - 15:07:38: worker thread finished; awaiting finish of 12 more threads\n",
      "INFO - 15:07:38: worker thread finished; awaiting finish of 11 more threads\n",
      "INFO - 15:07:38: worker thread finished; awaiting finish of 10 more threads\n",
      "INFO - 15:07:38: worker thread finished; awaiting finish of 9 more threads\n",
      "INFO - 15:07:38: worker thread finished; awaiting finish of 8 more threads\n",
      "INFO - 15:07:38: worker thread finished; awaiting finish of 7 more threads\n",
      "INFO - 15:07:38: worker thread finished; awaiting finish of 6 more threads\n",
      "INFO - 15:07:38: worker thread finished; awaiting finish of 5 more threads\n",
      "INFO - 15:07:38: worker thread finished; awaiting finish of 4 more threads\n",
      "INFO - 15:07:38: worker thread finished; awaiting finish of 3 more threads\n",
      "INFO - 15:07:38: worker thread finished; awaiting finish of 2 more threads\n",
      "INFO - 15:07:38: worker thread finished; awaiting finish of 1 more threads\n",
      "INFO - 15:07:38: worker thread finished; awaiting finish of 0 more threads\n",
      "INFO - 15:07:38: EPOCH - 15 : training on 523616 raw words (198421 effective words) took 1.3s, 148628 effective words/s\n",
      "INFO - 15:07:39: EPOCH 16 - PROGRESS: at 16.71% examples, 31681 words/s, in_qsize 22, out_qsize 0\n",
      "INFO - 15:07:40: worker thread finished; awaiting finish of 14 more threads\n",
      "INFO - 15:07:40: worker thread finished; awaiting finish of 13 more threads\n",
      "INFO - 15:07:40: worker thread finished; awaiting finish of 12 more threads\n",
      "INFO - 15:07:40: worker thread finished; awaiting finish of 11 more threads\n",
      "INFO - 15:07:40: worker thread finished; awaiting finish of 10 more threads\n",
      "INFO - 15:07:40: worker thread finished; awaiting finish of 9 more threads\n",
      "INFO - 15:07:40: worker thread finished; awaiting finish of 8 more threads\n",
      "INFO - 15:07:40: worker thread finished; awaiting finish of 7 more threads\n",
      "INFO - 15:07:40: worker thread finished; awaiting finish of 6 more threads\n",
      "INFO - 15:07:40: worker thread finished; awaiting finish of 5 more threads\n",
      "INFO - 15:07:40: worker thread finished; awaiting finish of 4 more threads\n",
      "INFO - 15:07:40: worker thread finished; awaiting finish of 3 more threads\n",
      "INFO - 15:07:40: worker thread finished; awaiting finish of 2 more threads\n",
      "INFO - 15:07:40: worker thread finished; awaiting finish of 1 more threads\n",
      "INFO - 15:07:40: worker thread finished; awaiting finish of 0 more threads\n",
      "INFO - 15:07:40: EPOCH - 16 : training on 523616 raw words (198586 effective words) took 1.3s, 147902 effective words/s\n",
      "INFO - 15:07:41: EPOCH 17 - PROGRESS: at 14.57% examples, 28452 words/s, in_qsize 21, out_qsize 1\n",
      "INFO - 15:07:41: worker thread finished; awaiting finish of 14 more threads\n",
      "INFO - 15:07:41: worker thread finished; awaiting finish of 13 more threads\n",
      "INFO - 15:07:41: worker thread finished; awaiting finish of 12 more threads\n",
      "INFO - 15:07:41: worker thread finished; awaiting finish of 11 more threads\n",
      "INFO - 15:07:41: worker thread finished; awaiting finish of 10 more threads\n",
      "INFO - 15:07:41: worker thread finished; awaiting finish of 9 more threads\n",
      "INFO - 15:07:41: worker thread finished; awaiting finish of 8 more threads\n",
      "INFO - 15:07:41: worker thread finished; awaiting finish of 7 more threads\n",
      "INFO - 15:07:41: worker thread finished; awaiting finish of 6 more threads\n",
      "INFO - 15:07:41: worker thread finished; awaiting finish of 5 more threads\n",
      "INFO - 15:07:41: worker thread finished; awaiting finish of 4 more threads\n",
      "INFO - 15:07:41: worker thread finished; awaiting finish of 3 more threads\n",
      "INFO - 15:07:41: worker thread finished; awaiting finish of 2 more threads\n",
      "INFO - 15:07:41: worker thread finished; awaiting finish of 1 more threads\n",
      "INFO - 15:07:41: worker thread finished; awaiting finish of 0 more threads\n",
      "INFO - 15:07:41: EPOCH - 17 : training on 523616 raw words (199204 effective words) took 1.4s, 147305 effective words/s\n",
      "INFO - 15:07:42: EPOCH 18 - PROGRESS: at 20.14% examples, 39365 words/s, in_qsize 20, out_qsize 0\n",
      "INFO - 15:07:42: worker thread finished; awaiting finish of 14 more threads\n",
      "INFO - 15:07:42: worker thread finished; awaiting finish of 13 more threads\n",
      "INFO - 15:07:42: worker thread finished; awaiting finish of 12 more threads\n",
      "INFO - 15:07:42: worker thread finished; awaiting finish of 11 more threads\n",
      "INFO - 15:07:42: worker thread finished; awaiting finish of 10 more threads\n",
      "INFO - 15:07:42: worker thread finished; awaiting finish of 9 more threads\n",
      "INFO - 15:07:42: worker thread finished; awaiting finish of 8 more threads\n",
      "INFO - 15:07:42: worker thread finished; awaiting finish of 7 more threads\n",
      "INFO - 15:07:42: worker thread finished; awaiting finish of 6 more threads\n",
      "INFO - 15:07:42: worker thread finished; awaiting finish of 5 more threads\n",
      "INFO - 15:07:42: worker thread finished; awaiting finish of 4 more threads\n",
      "INFO - 15:07:42: worker thread finished; awaiting finish of 3 more threads\n",
      "INFO - 15:07:42: worker thread finished; awaiting finish of 2 more threads\n",
      "INFO - 15:07:42: worker thread finished; awaiting finish of 1 more threads\n",
      "INFO - 15:07:42: worker thread finished; awaiting finish of 0 more threads\n",
      "INFO - 15:07:42: EPOCH - 18 : training on 523616 raw words (198869 effective words) took 1.3s, 150065 effective words/s\n",
      "INFO - 15:07:43: EPOCH 19 - PROGRESS: at 13.09% examples, 22581 words/s, in_qsize 29, out_qsize 0\n",
      "INFO - 15:07:44: worker thread finished; awaiting finish of 14 more threads\n",
      "INFO - 15:07:44: worker thread finished; awaiting finish of 13 more threads\n",
      "INFO - 15:07:44: worker thread finished; awaiting finish of 12 more threads\n",
      "INFO - 15:07:44: worker thread finished; awaiting finish of 11 more threads\n",
      "INFO - 15:07:44: worker thread finished; awaiting finish of 10 more threads\n",
      "INFO - 15:07:44: worker thread finished; awaiting finish of 9 more threads\n",
      "INFO - 15:07:44: worker thread finished; awaiting finish of 8 more threads\n",
      "INFO - 15:07:44: worker thread finished; awaiting finish of 7 more threads\n",
      "INFO - 15:07:44: worker thread finished; awaiting finish of 6 more threads\n",
      "INFO - 15:07:44: worker thread finished; awaiting finish of 5 more threads\n",
      "INFO - 15:07:44: worker thread finished; awaiting finish of 4 more threads\n",
      "INFO - 15:07:44: worker thread finished; awaiting finish of 3 more threads\n",
      "INFO - 15:07:44: worker thread finished; awaiting finish of 2 more threads\n",
      "INFO - 15:07:44: worker thread finished; awaiting finish of 1 more threads\n",
      "INFO - 15:07:44: worker thread finished; awaiting finish of 0 more threads\n",
      "INFO - 15:07:44: EPOCH - 19 : training on 523616 raw words (198423 effective words) took 1.3s, 147757 effective words/s\n",
      "INFO - 15:07:45: EPOCH 20 - PROGRESS: at 37.58% examples, 67130 words/s, in_qsize 16, out_qsize 0\n",
      "INFO - 15:07:45: worker thread finished; awaiting finish of 14 more threads\n",
      "INFO - 15:07:45: worker thread finished; awaiting finish of 13 more threads\n",
      "INFO - 15:07:45: worker thread finished; awaiting finish of 12 more threads\n",
      "INFO - 15:07:45: worker thread finished; awaiting finish of 11 more threads\n",
      "INFO - 15:07:45: worker thread finished; awaiting finish of 10 more threads\n",
      "INFO - 15:07:45: worker thread finished; awaiting finish of 9 more threads\n",
      "INFO - 15:07:45: worker thread finished; awaiting finish of 8 more threads\n",
      "INFO - 15:07:45: worker thread finished; awaiting finish of 7 more threads\n",
      "INFO - 15:07:45: worker thread finished; awaiting finish of 6 more threads\n",
      "INFO - 15:07:45: worker thread finished; awaiting finish of 5 more threads\n",
      "INFO - 15:07:45: worker thread finished; awaiting finish of 4 more threads\n",
      "INFO - 15:07:45: worker thread finished; awaiting finish of 3 more threads\n",
      "INFO - 15:07:45: worker thread finished; awaiting finish of 2 more threads\n",
      "INFO - 15:07:45: worker thread finished; awaiting finish of 1 more threads\n",
      "INFO - 15:07:45: worker thread finished; awaiting finish of 0 more threads\n",
      "INFO - 15:07:45: EPOCH - 20 : training on 523616 raw words (198593 effective words) took 1.3s, 148972 effective words/s\n",
      "INFO - 15:07:46: EPOCH 21 - PROGRESS: at 20.32% examples, 38936 words/s, in_qsize 24, out_qsize 0\n",
      "INFO - 15:07:46: worker thread finished; awaiting finish of 14 more threads\n",
      "INFO - 15:07:46: worker thread finished; awaiting finish of 13 more threads\n",
      "INFO - 15:07:46: worker thread finished; awaiting finish of 12 more threads\n",
      "INFO - 15:07:46: worker thread finished; awaiting finish of 11 more threads\n",
      "INFO - 15:07:46: worker thread finished; awaiting finish of 10 more threads\n",
      "INFO - 15:07:46: worker thread finished; awaiting finish of 9 more threads\n",
      "INFO - 15:07:46: worker thread finished; awaiting finish of 8 more threads\n",
      "INFO - 15:07:46: worker thread finished; awaiting finish of 7 more threads\n",
      "INFO - 15:07:46: worker thread finished; awaiting finish of 6 more threads\n",
      "INFO - 15:07:46: worker thread finished; awaiting finish of 5 more threads\n",
      "INFO - 15:07:46: worker thread finished; awaiting finish of 4 more threads\n",
      "INFO - 15:07:46: worker thread finished; awaiting finish of 3 more threads\n",
      "INFO - 15:07:46: worker thread finished; awaiting finish of 2 more threads\n",
      "INFO - 15:07:46: worker thread finished; awaiting finish of 1 more threads\n",
      "INFO - 15:07:46: worker thread finished; awaiting finish of 0 more threads\n",
      "INFO - 15:07:46: EPOCH - 21 : training on 523616 raw words (198618 effective words) took 1.3s, 156995 effective words/s\n",
      "INFO - 15:07:47: EPOCH 22 - PROGRESS: at 13.15% examples, 25477 words/s, in_qsize 23, out_qsize 0\n",
      "INFO - 15:07:48: worker thread finished; awaiting finish of 14 more threads\n",
      "INFO - 15:07:48: worker thread finished; awaiting finish of 13 more threads\n",
      "INFO - 15:07:48: worker thread finished; awaiting finish of 12 more threads\n",
      "INFO - 15:07:48: worker thread finished; awaiting finish of 11 more threads\n",
      "INFO - 15:07:48: worker thread finished; awaiting finish of 10 more threads\n",
      "INFO - 15:07:48: worker thread finished; awaiting finish of 9 more threads\n",
      "INFO - 15:07:48: worker thread finished; awaiting finish of 8 more threads\n",
      "INFO - 15:07:48: worker thread finished; awaiting finish of 7 more threads\n",
      "INFO - 15:07:48: worker thread finished; awaiting finish of 6 more threads\n",
      "INFO - 15:07:48: worker thread finished; awaiting finish of 5 more threads\n",
      "INFO - 15:07:48: worker thread finished; awaiting finish of 4 more threads\n",
      "INFO - 15:07:48: worker thread finished; awaiting finish of 3 more threads\n",
      "INFO - 15:07:48: worker thread finished; awaiting finish of 2 more threads\n",
      "INFO - 15:07:48: worker thread finished; awaiting finish of 1 more threads\n",
      "INFO - 15:07:48: worker thread finished; awaiting finish of 0 more threads\n",
      "INFO - 15:07:48: EPOCH - 22 : training on 523616 raw words (199019 effective words) took 1.3s, 148590 effective words/s\n",
      "INFO - 15:07:49: EPOCH 23 - PROGRESS: at 35.43% examples, 62468 words/s, in_qsize 15, out_qsize 0\n",
      "INFO - 15:07:49: worker thread finished; awaiting finish of 14 more threads\n",
      "INFO - 15:07:49: worker thread finished; awaiting finish of 13 more threads\n",
      "INFO - 15:07:49: worker thread finished; awaiting finish of 12 more threads\n",
      "INFO - 15:07:49: worker thread finished; awaiting finish of 11 more threads\n",
      "INFO - 15:07:49: worker thread finished; awaiting finish of 10 more threads\n",
      "INFO - 15:07:49: worker thread finished; awaiting finish of 9 more threads\n",
      "INFO - 15:07:49: worker thread finished; awaiting finish of 8 more threads\n",
      "INFO - 15:07:49: worker thread finished; awaiting finish of 7 more threads\n",
      "INFO - 15:07:49: worker thread finished; awaiting finish of 6 more threads\n",
      "INFO - 15:07:49: worker thread finished; awaiting finish of 5 more threads\n",
      "INFO - 15:07:49: worker thread finished; awaiting finish of 4 more threads\n",
      "INFO - 15:07:49: worker thread finished; awaiting finish of 3 more threads\n",
      "INFO - 15:07:49: worker thread finished; awaiting finish of 2 more threads\n",
      "INFO - 15:07:49: worker thread finished; awaiting finish of 1 more threads\n",
      "INFO - 15:07:49: worker thread finished; awaiting finish of 0 more threads\n",
      "INFO - 15:07:49: EPOCH - 23 : training on 523616 raw words (198455 effective words) took 1.3s, 150198 effective words/s\n",
      "INFO - 15:07:50: EPOCH 24 - PROGRESS: at 12.68% examples, 24913 words/s, in_qsize 23, out_qsize 0\n",
      "INFO - 15:07:50: worker thread finished; awaiting finish of 14 more threads\n",
      "INFO - 15:07:50: worker thread finished; awaiting finish of 13 more threads\n",
      "INFO - 15:07:50: worker thread finished; awaiting finish of 12 more threads\n",
      "INFO - 15:07:50: worker thread finished; awaiting finish of 11 more threads\n",
      "INFO - 15:07:50: worker thread finished; awaiting finish of 10 more threads\n",
      "INFO - 15:07:50: worker thread finished; awaiting finish of 9 more threads\n",
      "INFO - 15:07:50: worker thread finished; awaiting finish of 8 more threads\n",
      "INFO - 15:07:50: worker thread finished; awaiting finish of 7 more threads\n",
      "INFO - 15:07:50: worker thread finished; awaiting finish of 6 more threads\n",
      "INFO - 15:07:50: worker thread finished; awaiting finish of 5 more threads\n",
      "INFO - 15:07:50: worker thread finished; awaiting finish of 4 more threads\n",
      "INFO - 15:07:50: worker thread finished; awaiting finish of 3 more threads\n",
      "INFO - 15:07:50: worker thread finished; awaiting finish of 2 more threads\n",
      "INFO - 15:07:50: worker thread finished; awaiting finish of 1 more threads\n",
      "INFO - 15:07:50: worker thread finished; awaiting finish of 0 more threads\n",
      "INFO - 15:07:50: EPOCH - 24 : training on 523616 raw words (198546 effective words) took 1.3s, 148695 effective words/s\n",
      "INFO - 15:07:51: EPOCH 25 - PROGRESS: at 14.66% examples, 29201 words/s, in_qsize 21, out_qsize 0\n",
      "INFO - 15:07:52: worker thread finished; awaiting finish of 14 more threads\n",
      "INFO - 15:07:52: worker thread finished; awaiting finish of 13 more threads\n",
      "INFO - 15:07:52: worker thread finished; awaiting finish of 12 more threads\n",
      "INFO - 15:07:52: worker thread finished; awaiting finish of 11 more threads\n",
      "INFO - 15:07:52: worker thread finished; awaiting finish of 10 more threads\n",
      "INFO - 15:07:52: worker thread finished; awaiting finish of 9 more threads\n",
      "INFO - 15:07:52: worker thread finished; awaiting finish of 8 more threads\n",
      "INFO - 15:07:52: worker thread finished; awaiting finish of 7 more threads\n",
      "INFO - 15:07:52: worker thread finished; awaiting finish of 6 more threads\n",
      "INFO - 15:07:52: worker thread finished; awaiting finish of 5 more threads\n",
      "INFO - 15:07:52: worker thread finished; awaiting finish of 4 more threads\n",
      "INFO - 15:07:52: worker thread finished; awaiting finish of 3 more threads\n",
      "INFO - 15:07:52: worker thread finished; awaiting finish of 2 more threads\n",
      "INFO - 15:07:52: worker thread finished; awaiting finish of 1 more threads\n",
      "INFO - 15:07:52: worker thread finished; awaiting finish of 0 more threads\n",
      "INFO - 15:07:52: EPOCH - 25 : training on 523616 raw words (198643 effective words) took 1.3s, 148883 effective words/s\n",
      "INFO - 15:07:53: EPOCH 26 - PROGRESS: at 12.80% examples, 21668 words/s, in_qsize 29, out_qsize 0\n",
      "INFO - 15:07:53: worker thread finished; awaiting finish of 14 more threads\n",
      "INFO - 15:07:53: worker thread finished; awaiting finish of 13 more threads\n",
      "INFO - 15:07:53: worker thread finished; awaiting finish of 12 more threads\n",
      "INFO - 15:07:53: worker thread finished; awaiting finish of 11 more threads\n",
      "INFO - 15:07:53: worker thread finished; awaiting finish of 10 more threads\n",
      "INFO - 15:07:53: worker thread finished; awaiting finish of 9 more threads\n",
      "INFO - 15:07:53: worker thread finished; awaiting finish of 8 more threads\n",
      "INFO - 15:07:53: worker thread finished; awaiting finish of 7 more threads\n",
      "INFO - 15:07:53: worker thread finished; awaiting finish of 6 more threads\n",
      "INFO - 15:07:53: worker thread finished; awaiting finish of 5 more threads\n",
      "INFO - 15:07:53: worker thread finished; awaiting finish of 4 more threads\n",
      "INFO - 15:07:53: worker thread finished; awaiting finish of 3 more threads\n",
      "INFO - 15:07:53: worker thread finished; awaiting finish of 2 more threads\n",
      "INFO - 15:07:53: worker thread finished; awaiting finish of 1 more threads\n",
      "INFO - 15:07:53: worker thread finished; awaiting finish of 0 more threads\n",
      "INFO - 15:07:53: EPOCH - 26 : training on 523616 raw words (198532 effective words) took 1.3s, 148482 effective words/s\n",
      "INFO - 15:07:54: EPOCH 27 - PROGRESS: at 14.47% examples, 26870 words/s, in_qsize 22, out_qsize 2\n",
      "INFO - 15:07:54: worker thread finished; awaiting finish of 14 more threads\n",
      "INFO - 15:07:54: worker thread finished; awaiting finish of 13 more threads\n",
      "INFO - 15:07:54: worker thread finished; awaiting finish of 12 more threads\n",
      "INFO - 15:07:54: worker thread finished; awaiting finish of 11 more threads\n",
      "INFO - 15:07:54: worker thread finished; awaiting finish of 10 more threads\n",
      "INFO - 15:07:54: worker thread finished; awaiting finish of 9 more threads\n",
      "INFO - 15:07:54: worker thread finished; awaiting finish of 8 more threads\n",
      "INFO - 15:07:54: worker thread finished; awaiting finish of 7 more threads\n",
      "INFO - 15:07:54: worker thread finished; awaiting finish of 6 more threads\n",
      "INFO - 15:07:54: worker thread finished; awaiting finish of 5 more threads\n",
      "INFO - 15:07:54: worker thread finished; awaiting finish of 4 more threads\n",
      "INFO - 15:07:54: worker thread finished; awaiting finish of 3 more threads\n",
      "INFO - 15:07:54: worker thread finished; awaiting finish of 2 more threads\n",
      "INFO - 15:07:54: worker thread finished; awaiting finish of 1 more threads\n",
      "INFO - 15:07:54: worker thread finished; awaiting finish of 0 more threads\n",
      "INFO - 15:07:54: EPOCH - 27 : training on 523616 raw words (198788 effective words) took 1.4s, 146208 effective words/s\n",
      "INFO - 15:07:56: EPOCH 28 - PROGRESS: at 20.30% examples, 36816 words/s, in_qsize 21, out_qsize 1\n",
      "INFO - 15:07:56: worker thread finished; awaiting finish of 14 more threads\n",
      "INFO - 15:07:56: worker thread finished; awaiting finish of 13 more threads\n",
      "INFO - 15:07:56: worker thread finished; awaiting finish of 12 more threads\n",
      "INFO - 15:07:56: worker thread finished; awaiting finish of 11 more threads\n",
      "INFO - 15:07:56: worker thread finished; awaiting finish of 10 more threads\n",
      "INFO - 15:07:56: worker thread finished; awaiting finish of 9 more threads\n",
      "INFO - 15:07:56: worker thread finished; awaiting finish of 8 more threads\n",
      "INFO - 15:07:56: worker thread finished; awaiting finish of 7 more threads\n",
      "INFO - 15:07:56: worker thread finished; awaiting finish of 6 more threads\n",
      "INFO - 15:07:56: worker thread finished; awaiting finish of 5 more threads\n",
      "INFO - 15:07:56: worker thread finished; awaiting finish of 4 more threads\n",
      "INFO - 15:07:56: worker thread finished; awaiting finish of 3 more threads\n",
      "INFO - 15:07:56: worker thread finished; awaiting finish of 2 more threads\n",
      "INFO - 15:07:56: worker thread finished; awaiting finish of 1 more threads\n",
      "INFO - 15:07:56: worker thread finished; awaiting finish of 0 more threads\n",
      "INFO - 15:07:56: EPOCH - 28 : training on 523616 raw words (199205 effective words) took 1.3s, 148408 effective words/s\n",
      "INFO - 15:07:57: EPOCH 29 - PROGRESS: at 16.50% examples, 32250 words/s, in_qsize 25, out_qsize 0\n",
      "INFO - 15:07:57: worker thread finished; awaiting finish of 14 more threads\n",
      "INFO - 15:07:57: worker thread finished; awaiting finish of 13 more threads\n",
      "INFO - 15:07:57: worker thread finished; awaiting finish of 12 more threads\n",
      "INFO - 15:07:57: worker thread finished; awaiting finish of 11 more threads\n",
      "INFO - 15:07:57: worker thread finished; awaiting finish of 10 more threads\n",
      "INFO - 15:07:57: worker thread finished; awaiting finish of 9 more threads\n",
      "INFO - 15:07:57: worker thread finished; awaiting finish of 8 more threads\n",
      "INFO - 15:07:57: worker thread finished; awaiting finish of 7 more threads\n",
      "INFO - 15:07:57: worker thread finished; awaiting finish of 6 more threads\n",
      "INFO - 15:07:57: worker thread finished; awaiting finish of 5 more threads\n",
      "INFO - 15:07:57: worker thread finished; awaiting finish of 4 more threads\n",
      "INFO - 15:07:57: worker thread finished; awaiting finish of 3 more threads\n",
      "INFO - 15:07:57: worker thread finished; awaiting finish of 2 more threads\n",
      "INFO - 15:07:57: worker thread finished; awaiting finish of 1 more threads\n",
      "INFO - 15:07:57: worker thread finished; awaiting finish of 0 more threads\n",
      "INFO - 15:07:57: EPOCH - 29 : training on 523616 raw words (198682 effective words) took 1.3s, 156409 effective words/s\n",
      "INFO - 15:07:58: EPOCH 30 - PROGRESS: at 13.07% examples, 25034 words/s, in_qsize 24, out_qsize 0\n",
      "INFO - 15:07:58: worker thread finished; awaiting finish of 14 more threads\n",
      "INFO - 15:07:58: worker thread finished; awaiting finish of 13 more threads\n",
      "INFO - 15:07:58: worker thread finished; awaiting finish of 12 more threads\n",
      "INFO - 15:07:58: worker thread finished; awaiting finish of 11 more threads\n",
      "INFO - 15:07:58: worker thread finished; awaiting finish of 10 more threads\n",
      "INFO - 15:07:58: worker thread finished; awaiting finish of 9 more threads\n",
      "INFO - 15:07:58: worker thread finished; awaiting finish of 8 more threads\n",
      "INFO - 15:07:58: worker thread finished; awaiting finish of 7 more threads\n",
      "INFO - 15:07:58: worker thread finished; awaiting finish of 6 more threads\n",
      "INFO - 15:07:58: worker thread finished; awaiting finish of 5 more threads\n",
      "INFO - 15:07:58: worker thread finished; awaiting finish of 4 more threads\n",
      "INFO - 15:07:58: worker thread finished; awaiting finish of 3 more threads\n",
      "INFO - 15:07:58: worker thread finished; awaiting finish of 2 more threads\n",
      "INFO - 15:07:58: worker thread finished; awaiting finish of 1 more threads\n",
      "INFO - 15:07:58: worker thread finished; awaiting finish of 0 more threads\n",
      "INFO - 15:07:58: EPOCH - 30 : training on 523616 raw words (198791 effective words) took 1.3s, 148015 effective words/s\n",
      "INFO - 15:07:58: training on a 15708480 raw words (5961177 effective words) took 40.5s, 147253 effective words/s\n"
     ]
    },
    {
     "name": "stdout",
     "output_type": "stream",
     "text": [
      "Time to train the model: 0.67 mins\n"
     ]
    }
   ],
   "source": [
    "t = time()\n",
    "\n",
    "w2v_model.train(sentences, total_examples=w2v_model.corpus_count, epochs=30, report_delay=1)\n",
    "\n",
    "print('Time to train the model: {} mins'.format(round((time() - t) / 60, 2)))"
   ]
  },
  {
   "cell_type": "code",
   "execution_count": 21,
   "id": "7ae7d3de-5fa6-4e9b-9f1a-9edaee7f797b",
   "metadata": {},
   "outputs": [
    {
     "name": "stderr",
     "output_type": "stream",
     "text": [
      "INFO - 15:07:58: precomputing L2-norms of word weight vectors\n"
     ]
    }
   ],
   "source": [
    "w2v_model.init_sims(replace=True)"
   ]
  },
  {
   "cell_type": "markdown",
   "id": "f7b6715d-9afa-4fb6-aa0e-2d07c8b3481f",
   "metadata": {},
   "source": [
    "## Exploring the model"
   ]
  },
  {
   "cell_type": "code",
   "execution_count": 22,
   "id": "43f37180-fef8-44c6-a813-df4a451d43d5",
   "metadata": {},
   "outputs": [
    {
     "data": {
      "text/plain": [
       "[('gee', 0.7733991146087646),\n",
       " ('sweetheart', 0.7711714506149292),\n",
       " ('marge', 0.7584361433982849),\n",
       " ('snuggle', 0.7435159683227539),\n",
       " ('rude', 0.7412682175636292),\n",
       " ('fault', 0.7373032569885254),\n",
       " ('carefully', 0.7333784699440002),\n",
       " ('ask', 0.7307949066162109),\n",
       " ('creepy', 0.7307645082473755),\n",
       " ('happen', 0.7302831411361694)]"
      ]
     },
     "execution_count": 22,
     "metadata": {},
     "output_type": "execute_result"
    }
   ],
   "source": [
    "w2v_model.wv.most_similar(positive=[\"homer\"])"
   ]
  },
  {
   "cell_type": "code",
   "execution_count": 23,
   "id": "08b8a74d-0c45-407d-92ef-7bab1e1ccbde",
   "metadata": {},
   "outputs": [
    {
     "data": {
      "text/plain": [
       "[('congratulation', 0.8011293411254883),\n",
       " ('council', 0.7793276906013489),\n",
       " ('select', 0.7510597705841064),\n",
       " ('recent', 0.7402850389480591),\n",
       " ('fellow', 0.7390292882919312),\n",
       " ('request', 0.7316831350326538),\n",
       " ('united_states', 0.7310537695884705),\n",
       " ('springfielder', 0.727884829044342),\n",
       " ('montgomery_burns', 0.7273439764976501),\n",
       " ('threat', 0.7253726720809937)]"
      ]
     },
     "execution_count": 23,
     "metadata": {},
     "output_type": "execute_result"
    }
   ],
   "source": [
    "w2v_model.wv.most_similar(positive=[\"homer_simpson\"])"
   ]
  },
  {
   "cell_type": "code",
   "execution_count": 24,
   "id": "e9af43c2-8d6f-4888-8960-32df6fb52720",
   "metadata": {},
   "outputs": [
    {
     "data": {
      "text/plain": [
       "[('hammock', 0.7847882509231567),\n",
       " ('grownup', 0.7714762091636658),\n",
       " ('becky', 0.7648746371269226),\n",
       " ('humiliate', 0.7590140104293823),\n",
       " ('sweetheart', 0.7587919235229492),\n",
       " ('homer', 0.7584362030029297),\n",
       " ('rude', 0.7558637857437134),\n",
       " ('creepy', 0.7557446956634521),\n",
       " ('terrific', 0.7467159032821655),\n",
       " ('fault', 0.7440350651741028)]"
      ]
     },
     "execution_count": 24,
     "metadata": {},
     "output_type": "execute_result"
    }
   ],
   "source": [
    "w2v_model.wv.most_similar(positive=[\"marge\"])"
   ]
  },
  {
   "cell_type": "code",
   "execution_count": 25,
   "id": "5754ec0f-5be4-4b56-9f99-9bb1d81f794f",
   "metadata": {},
   "outputs": [
    {
     "data": {
      "text/plain": [
       "[('lisa', 0.8782081007957458),\n",
       " ('mom', 0.7994480133056641),\n",
       " ('milhouse', 0.7867234945297241),\n",
       " ('ralphie', 0.7761790752410889),\n",
       " ('substitute', 0.7729514837265015),\n",
       " ('surprised', 0.7679237127304077),\n",
       " ('mom_dad', 0.7677178978919983),\n",
       " ('pay_attention', 0.7666963338851929),\n",
       " ('strangle', 0.7641452550888062),\n",
       " ('selfish', 0.7547661662101746)]"
      ]
     },
     "execution_count": 25,
     "metadata": {},
     "output_type": "execute_result"
    }
   ],
   "source": [
    "w2v_model.wv.most_similar(positive=[\"bart\"])"
   ]
  },
  {
   "cell_type": "code",
   "execution_count": 26,
   "id": "46a91f23-1ad7-43df-a200-e5c896deb83b",
   "metadata": {},
   "outputs": [
    {
     "data": {
      "text/plain": [
       "0.8748673"
      ]
     },
     "execution_count": 26,
     "metadata": {},
     "output_type": "execute_result"
    }
   ],
   "source": [
    "w2v_model.wv.similarity(\"moe\", 'tavern')"
   ]
  },
  {
   "cell_type": "code",
   "execution_count": 27,
   "id": "b0a350db-5bba-46eb-9807-8b3d3208dc10",
   "metadata": {},
   "outputs": [
    {
     "data": {
      "text/plain": [
       "0.67886305"
      ]
     },
     "execution_count": 27,
     "metadata": {},
     "output_type": "execute_result"
    }
   ],
   "source": [
    "w2v_model.wv.similarity('maggie', 'baby')"
   ]
  },
  {
   "cell_type": "code",
   "execution_count": 28,
   "id": "31674c07-3ffb-4734-8d28-225cfe22f803",
   "metadata": {},
   "outputs": [
    {
     "data": {
      "text/plain": [
       "0.5961273"
      ]
     },
     "execution_count": 28,
     "metadata": {},
     "output_type": "execute_result"
    }
   ],
   "source": [
    "w2v_model.wv.similarity('bart', 'nelson')"
   ]
  },
  {
   "cell_type": "markdown",
   "id": "50387509-c788-4589-9b64-2aa3b27672f9",
   "metadata": {},
   "source": [
    "## Odd-One-Out"
   ]
  },
  {
   "cell_type": "code",
   "execution_count": 29,
   "id": "1b92ad28-3394-4c20-aefe-8adbbbda689e",
   "metadata": {},
   "outputs": [
    {
     "name": "stderr",
     "output_type": "stream",
     "text": [
      "WARNING - 15:07:59: vectors for words {'kearney'} are not present in the model, ignoring these words\n",
      "C:\\Users\\saeji\\anaconda3\\envs\\tensorflow2.3\\lib\\site-packages\\gensim\\models\\keyedvectors.py:877: FutureWarning: arrays to stack must be passed as a \"sequence\" type such as list or tuple. Support for non-sequence iterables such as generators is deprecated as of NumPy 1.16 and will raise an error in the future.\n",
      "  vectors = vstack(self.word_vec(word, use_norm=True) for word in used_words).astype(REAL)\n"
     ]
    },
    {
     "data": {
      "text/plain": [
       "'jimbo'"
      ]
     },
     "execution_count": 29,
     "metadata": {},
     "output_type": "execute_result"
    }
   ],
   "source": [
    "w2v_model.wv.doesnt_match(['jimbo', 'milhouse', 'kearney'])"
   ]
  },
  {
   "cell_type": "code",
   "execution_count": 30,
   "id": "ef42f47b-c960-438d-a3f6-923e6267eb6d",
   "metadata": {},
   "outputs": [
    {
     "data": {
      "text/plain": [
       "'nelson'"
      ]
     },
     "execution_count": 30,
     "metadata": {},
     "output_type": "execute_result"
    }
   ],
   "source": [
    "w2v_model.wv.doesnt_match([\"nelson\", \"bart\", \"milhouse\"])"
   ]
  },
  {
   "cell_type": "code",
   "execution_count": 31,
   "id": "00f06310-9477-4375-a340-b94bc5b51c4e",
   "metadata": {},
   "outputs": [
    {
     "data": {
      "text/plain": [
       "'homer'"
      ]
     },
     "execution_count": 31,
     "metadata": {},
     "output_type": "execute_result"
    }
   ],
   "source": [
    "w2v_model.wv.doesnt_match(['homer', 'patty', 'selma'])"
   ]
  },
  {
   "cell_type": "markdown",
   "id": "79f25b9e-ef5e-4c6d-b414-569ba0fafe92",
   "metadata": {},
   "source": [
    "## Analogy difference"
   ]
  },
  {
   "cell_type": "code",
   "execution_count": 32,
   "id": "3f0b21f7-5034-495b-861e-d807e37d0882",
   "metadata": {},
   "outputs": [
    {
     "data": {
      "text/plain": [
       "[('marry', 0.6566294431686401),\n",
       " ('adopt', 0.6175602078437805),\n",
       " ('married', 0.5929787158966064)]"
      ]
     },
     "execution_count": 32,
     "metadata": {},
     "output_type": "execute_result"
    }
   ],
   "source": [
    "w2v_model.wv.most_similar(positive=[\"woman\", \"homer\"], negative=[\"marge\"], topn=3)"
   ]
  },
  {
   "cell_type": "code",
   "execution_count": 33,
   "id": "84ec2ee1-ddfe-4a10-862d-39c8d20cd135",
   "metadata": {},
   "outputs": [
    {
     "data": {
      "text/plain": [
       "[('lisa', 0.752126157283783),\n",
       " ('work_hard', 0.7173753380775452),\n",
       " ('parent', 0.717026948928833)]"
      ]
     },
     "execution_count": 33,
     "metadata": {},
     "output_type": "execute_result"
    }
   ],
   "source": [
    "w2v_model.wv.most_similar(positive=[\"woman\", \"bart\"], negative=[\"man\"], topn=3)"
   ]
  },
  {
   "cell_type": "code",
   "execution_count": 34,
   "id": "97860496-a2e3-4ae3-b385-ed263a7d848b",
   "metadata": {},
   "outputs": [],
   "source": [
    "import numpy as np\n",
    "import matplotlib.pyplot as plt\n",
    "%matplotlib inline\n",
    " \n",
    "import seaborn as sns\n",
    "sns.set_style(\"darkgrid\")\n",
    "\n",
    "from sklearn.decomposition import PCA\n",
    "from sklearn.manifold import TSNE"
   ]
  },
  {
   "cell_type": "code",
   "execution_count": 35,
   "id": "fc37455d-e354-4915-86ab-63b8a1fb0019",
   "metadata": {},
   "outputs": [],
   "source": [
    "def tsnescatterplot(model, word, list_names):\n",
    "    \"\"\" Plot in seaborn the results from the t-SNE dimensionality reduction algorithm of the vectors of a query word,\n",
    "    its list of most similar words, and a list of words.\n",
    "    \"\"\"\n",
    "    arrays = np.empty((0, 300), dtype='f')\n",
    "    word_labels = [word]\n",
    "    color_list  = ['red']\n",
    "\n",
    "    # adds the vector of the query word\n",
    "    arrays = np.append(arrays, model.wv.__getitem__([word]), axis=0)\n",
    "    \n",
    "    # gets list of most similar words\n",
    "    close_words = model.wv.most_similar([word])\n",
    "    \n",
    "    # adds the vector for each of the closest words to the array\n",
    "    for wrd_score in close_words:\n",
    "        wrd_vector = model.wv.__getitem__([wrd_score[0]])\n",
    "        word_labels.append(wrd_score[0])\n",
    "        color_list.append('blue')\n",
    "        arrays = np.append(arrays, wrd_vector, axis=0)\n",
    "    \n",
    "    # adds the vector for each of the words from list_names to the array\n",
    "    for wrd in list_names:\n",
    "        wrd_vector = model.wv.__getitem__([wrd])\n",
    "        word_labels.append(wrd)\n",
    "        color_list.append('green')\n",
    "        arrays = np.append(arrays, wrd_vector, axis=0)\n",
    "        \n",
    "    # Reduces the dimensionality from 300 to 50 dimensions with PCA\n",
    "    reduc = PCA(n_components=19).fit_transform(arrays)\n",
    "    \n",
    "    # Finds t-SNE coordinates for 2 dimensions\n",
    "    np.set_printoptions(suppress=True)\n",
    "    \n",
    "    Y = TSNE(n_components=2, random_state=0, perplexity=15).fit_transform(reduc)\n",
    "    \n",
    "    # Sets everything up to plot\n",
    "    df = pd.DataFrame({'x': [x for x in Y[:, 0]],\n",
    "                       'y': [y for y in Y[:, 1]],\n",
    "                       'words': word_labels,\n",
    "                       'color': color_list})\n",
    "    \n",
    "    fig, _ = plt.subplots()\n",
    "    fig.set_size_inches(9, 9)\n",
    "    \n",
    "    # Basic plot\n",
    "    p1 = sns.regplot(data=df,\n",
    "                     x=\"x\",\n",
    "                     y=\"y\",\n",
    "                     fit_reg=False,\n",
    "                     marker=\"o\",\n",
    "                     scatter_kws={'s': 40,\n",
    "                                  'facecolors': df['color']\n",
    "                                 }\n",
    "                    )\n",
    "    \n",
    "    # Adds annotations one by one with a loop\n",
    "    for line in range(0, df.shape[0]):\n",
    "         p1.text(df[\"x\"][line],\n",
    "                 df['y'][line],\n",
    "                 '  ' + df[\"words\"][line].title(),\n",
    "                 horizontalalignment='left',\n",
    "                 verticalalignment='bottom', size='medium',\n",
    "                 color=df['color'][line],\n",
    "                 weight='normal'\n",
    "                ).set_size(15)\n",
    "\n",
    "    \n",
    "    plt.xlim(Y[:, 0].min()-50, Y[:, 0].max()+50)\n",
    "    plt.ylim(Y[:, 1].min()-50, Y[:, 1].max()+50)\n",
    "            \n",
    "    plt.title('t-SNE visualization for {}'.format(word.title()))"
   ]
  },
  {
   "cell_type": "code",
   "execution_count": 36,
   "id": "0c5d5206-72b0-4bee-8110-40451c263c12",
   "metadata": {},
   "outputs": [
    {
     "data": {
      "image/png": "[encoded data removed]",
      "text/plain": [
       "<Figure size 648x648 with 1 Axes>"
      ]
     },
     "metadata": {},
     "output_type": "display_data"
    }
   ],
   "source": [
    "tsnescatterplot(w2v_model, 'homer', ['dog', 'bird', 'ah', 'maude', 'bob', 'mel', 'apu', 'duff'])"
   ]
  },
  {
   "cell_type": "code",
   "execution_count": 37,
   "id": "ac52697f-aaf1-4a04-b27a-88c265f003a5",
   "metadata": {},
   "outputs": [
    {
     "data": {
      "image/png": "[encoded data removed]",
      "text/plain": [
       "<Figure size 648x648 with 1 Axes>"
      ]
     },
     "metadata": {},
     "output_type": "display_data"
    }
   ],
   "source": [
    "tsnescatterplot(w2v_model, 'maggie', [i[0] for i in w2v_model.wv.most_similar(negative=[\"maggie\"])])"
   ]
  },
  {
   "cell_type": "code",
   "execution_count": 41,
   "id": "30f3fe9b-52a1-4456-9770-17dc22777a84",
   "metadata": {},
   "outputs": [
    {
     "data": {
      "image/png": "[encoded data removed]",
      "text/plain": [
       "<Figure size 648x648 with 1 Axes>"
      ]
     },
     "metadata": {},
     "output_type": "display_data"
    }
   ],
   "source": [
    "tsnescatterplot(w2v_model, \"mr_burns\", [t[0] for t in w2v_model.wv.most_similar(positive=[\"mr_burns\"], topn=20)][10:])"
   ]
  }
 ],
 "metadata": {
  "kernelspec": {
   "display_name": "Python 3",
   "language": "python",
   "name": "python3"
  },
  "language_info": {
   "codemirror_mode": {
    "name": "ipython",
    "version": 3
   },
   "file_extension": ".py",
   "mimetype": "text/x-python",
   "name": "python",
   "nbconvert_exporter": "python",
   "pygments_lexer": "ipython3",
   "version": "3.8.10"
  }
 },
 "nbformat": 4,
 "nbformat_minor": 5
}
