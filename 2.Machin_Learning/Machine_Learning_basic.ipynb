{
 "cells": [
  {
   "cell_type": "markdown",
   "id": "80cc4f6e-64d0-4441-96bc-08ebd2035c99",
   "metadata": {
    "tags": []
   },
   "source": [
    "# 실습 1\n",
    "> 파이썬으로 만드는 인공지능 - 오일석 이진선 저"
   ]
  },
  {
   "cell_type": "markdown",
   "id": "bf776383-43c5-467d-ad4b-62fec9233e27",
   "metadata": {},
   "source": [
    "## 1. 프로그램 예제"
   ]
  },
  {
   "cell_type": "code",
   "execution_count": 1,
   "id": "5c60ba60-8ed4-49d3-b2da-c1ae7331624b",
   "metadata": {},
   "outputs": [
    {
     "name": "stdout",
     "output_type": "stream",
     "text": [
      "49\n",
      "python is exciting.\n",
      "14 19 33\n"
     ]
    }
   ],
   "source": [
    "print(12+37)\n",
    "print('python' + ' is exciting.')\n",
    "\n",
    "import random\n",
    "\n",
    "a=random.randint(10,20)\n",
    "b=random.randint(10,20)\n",
    "\n",
    "c = a+b\n",
    "print(a, b, c)"
   ]
  },
  {
   "cell_type": "markdown",
   "id": "8711fd53-20af-4637-b181-5b10ddf480be",
   "metadata": {},
   "source": [
    "### 1.1 인공지는 프로그래밍 예제 1: 셈 지능"
   ]
  },
  {
   "cell_type": "code",
   "execution_count": 2,
   "id": "b02f1093-fdfd-44b1-bace-da7f9c6ddc11",
   "metadata": {},
   "outputs": [
    {
     "name": "stdout",
     "output_type": "stream",
     "text": [
      "1+2+...+100000000= 5000000050000000\n",
      "소요 시간은  16.48725414276123 초입니다\n"
     ]
    }
   ],
   "source": [
    "import time\n",
    "\n",
    "start=time.time()\n",
    "sum=0\n",
    "for i in range(1, 100000001):\n",
    "    sum = sum+i\n",
    "    \n",
    "end = time.time()\n",
    "\n",
    "print(\"1+2+...+100000000=\", sum)\n",
    "print('소요 시간은 ', end - start, '초입니다')"
   ]
  },
  {
   "cell_type": "code",
   "execution_count": 3,
   "id": "f1857a45-9c39-4c07-bbc1-d6583e96a780",
   "metadata": {},
   "outputs": [
    {
     "name": "stdin",
     "output_type": "stream",
     "text": [
      "경기가 열린 곳은?  런던 스타디움\n",
      "경기가 열린 시간은?  8월 6일 오후 7시\n",
      "상대 팀은?  맨체스터 유나이티드\n",
      "손흥민은 몇 골을 넣었나오?  2\n",
      "도움은 몇 개인가요? 1\n",
      "손흥민 팀이 넣은 골 수는?  4\n",
      "상대 팀이 넣은 골 수는?  2\n"
     ]
    },
    {
     "name": "stdout",
     "output_type": "stream",
     "text": [
      "[프리미어 리그 속보(2021-07-14 16:54:34.889891)]\n",
      "손흥민 선수는 런던 스타디움에서 8월 6일 오후 7시에 열린 경기에 출전하였습니다. 상대팀은 맨체스터 유나이티드입니다손흥민 선수의 팀이 4골을 넣어2골을 넣은 상대 팀을 이겼습니다. 손흥민 선수는2골에 도움 1개로 승리를 크게 이끌었습니다. \n"
     ]
    }
   ],
   "source": [
    "from datetime import datetime\n",
    "# 경기 결과 입력 받는 곳\n",
    "place = input(\"경기가 열린 곳은? \")\n",
    "time = input(\"경기가 열린 시간은? \")\n",
    "opponent = input(\"상대 팀은? \")\n",
    "goals = input(\"손흥민은 몇 골을 넣었나오? \")\n",
    "aids = input(\"도움은 몇 개인가요?\")\n",
    "score_me = input(\"손흥민 팀이 넣은 골 수는? \")\n",
    "score_you = input(\"상대 팀이 넣은 골 수는? \")\n",
    "\n",
    "# 기사 작성하는 곳\n",
    "news =\"[프리미어 리그 속보(\"+str(datetime.now())+\")]\\n\"\n",
    "news = news + \"손흥민 선수는 \" + place + \"에서 \" + time + \"에 열린 경기에 출전하였습니다. \"\n",
    "news = news + \"상대팀은 \" + opponent + \"입니다\"\n",
    "\n",
    "if score_me > score_you:\n",
    "    news = news + \"손흥민 선수의 팀이 \" + score_me + \"골을 넣어\" + score_you + \"골을 넣은 상대 팀을 이겼습니다. \"\n",
    "elif score_me < score_you:\n",
    "    news = news + \"손흥민 선수의 팀이 \" + score_me + \"골을 넣어\" + score_you + \"골을 넣은 상대 팀을 졌습니다. \"\n",
    "else:\n",
    "    news = news + \"두 팀이\" + score_me + \"대\" + score_you + \"로 비겼습니다. \"\n",
    "\n",
    "if int(goals) > 0 and int(aids) > 0:\n",
    "    news = news + \"손흥민 선수는\" + goals + \"골에 도움 \" + aids + \"개로 승리를 크게 이끌었습니다. \"\n",
    "elif int(goals) > 0 and int(aids) == 0:\n",
    "    news = news + \"손흥민 선수는\" + goals + \"골로 승리를 이끌었습니다. \"\n",
    "elif int(goals) == 0 and int(aids) > 0:\n",
    "    news = news + \"손흥민 선수는 골은 없지만 도움\" + aids + \"개로 승리하는데 공헌하였습니다. \"\n",
    "else:\n",
    "    news = news + \"아쉽게도 이번 경기에서 손흥민 발끝은 침묵을 지켰습니다. \"\n",
    "    \n",
    "print(news)"
   ]
  },
  {
   "cell_type": "markdown",
   "id": "3ddc3d63-1068-434f-aaf7-ebf5dc69e5f4",
   "metadata": {},
   "source": [
    "# 실습 2"
   ]
  },
  {
   "cell_type": "markdown",
   "id": "888c5aa6-fc72-4c92-b25b-18bce3e7f0b7",
   "metadata": {},
   "source": [
    "## 1. 기계학습 기초"
   ]
  },
  {
   "cell_type": "markdown",
   "id": "a9a95a08-e608-458b-9e32-2019c53beef6",
   "metadata": {},
   "source": [
    "### 1.1. 데이터 셋 읽기"
   ]
  },
  {
   "cell_type": "code",
   "execution_count": 4,
   "id": "d9b9cdfb-bb11-4c41-a1d9-8102ca13a794",
   "metadata": {
    "scrolled": true,
    "tags": []
   },
   "outputs": [
    {
     "name": "stdout",
     "output_type": "stream",
     "text": [
      ".. _iris_dataset:\n",
      "\n",
      "Iris plants dataset\n",
      "--------------------\n",
      "\n",
      "**Data Set Characteristics:**\n",
      "\n",
      "    :Number of Instances: 150 (50 in each of three classes)\n",
      "    :Number of Attributes: 4 numeric, predictive attributes and the class\n",
      "    :Attribute Information:\n",
      "        - sepal length in cm\n",
      "        - sepal width in cm\n",
      "        - petal length in cm\n",
      "        - petal width in cm\n",
      "        - class:\n",
      "                - Iris-Setosa\n",
      "                - Iris-Versicolour\n",
      "                - Iris-Virginica\n",
      "                \n",
      "    :Summary Statistics:\n",
      "\n",
      "    ============== ==== ==== ======= ===== ====================\n",
      "                    Min  Max   Mean    SD   Class Correlation\n",
      "    ============== ==== ==== ======= ===== ====================\n",
      "    sepal length:   4.3  7.9   5.84   0.83    0.7826\n",
      "    sepal width:    2.0  4.4   3.05   0.43   -0.4194\n",
      "    petal length:   1.0  6.9   3.76   1.76    0.9490  (high!)\n",
      "    petal width:    0.1  2.5   1.20   0.76    0.9565  (high!)\n",
      "    ============== ==== ==== ======= ===== ====================\n",
      "\n",
      "    :Missing Attribute Values: None\n",
      "    :Class Distribution: 33.3% for each of 3 classes.\n",
      "    :Creator: R.A. Fisher\n",
      "    :Donor: Michael Marshall (MARSHALL%PLU@io.arc.nasa.gov)\n",
      "    :Date: July, 1988\n",
      "\n",
      "The famous Iris database, first used by Sir R.A. Fisher. The dataset is taken\n",
      "from Fisher's paper. Note that it's the same as in R, but not as in the UCI\n",
      "Machine Learning Repository, which has two wrong data points.\n",
      "\n",
      "This is perhaps the best known database to be found in the\n",
      "pattern recognition literature.  Fisher's paper is a classic in the field and\n",
      "is referenced frequently to this day.  (See Duda & Hart, for example.)  The\n",
      "data set contains 3 classes of 50 instances each, where each class refers to a\n",
      "type of iris plant.  One class is linearly separable from the other 2; the\n",
      "latter are NOT linearly separable from each other.\n",
      "\n",
      ".. topic:: References\n",
      "\n",
      "   - Fisher, R.A. \"The use of multiple measurements in taxonomic problems\"\n",
      "     Annual Eugenics, 7, Part II, 179-188 (1936); also in \"Contributions to\n",
      "     Mathematical Statistics\" (John Wiley, NY, 1950).\n",
      "   - Duda, R.O., & Hart, P.E. (1973) Pattern Classification and Scene Analysis.\n",
      "     (Q327.D83) John Wiley & Sons.  ISBN 0-471-22361-1.  See page 218.\n",
      "   - Dasarathy, B.V. (1980) \"Nosing Around the Neighborhood: A New System\n",
      "     Structure and Classification Rule for Recognition in Partially Exposed\n",
      "     Environments\".  IEEE Transactions on Pattern Analysis and Machine\n",
      "     Intelligence, Vol. PAMI-2, No. 1, 67-71.\n",
      "   - Gates, G.W. (1972) \"The Reduced Nearest Neighbor Rule\".  IEEE Transactions\n",
      "     on Information Theory, May 1972, 431-433.\n",
      "   - See also: 1988 MLC Proceedings, 54-64.  Cheeseman et al\"s AUTOCLASS II\n",
      "     conceptual clustering system finds 3 classes in the data.\n",
      "   - Many, many more ...\n"
     ]
    }
   ],
   "source": [
    "from sklearn import datasets\n",
    "\n",
    "d=datasets.load_iris()\n",
    "print(d.DESCR)"
   ]
  },
  {
   "cell_type": "code",
   "execution_count": 5,
   "id": "33149cd0-0675-4d15-b316-2b961209920f",
   "metadata": {
    "scrolled": true,
    "tags": []
   },
   "outputs": [
    {
     "name": "stdout",
     "output_type": "stream",
     "text": [
      "1 [5.1 3.5 1.4 0.2] 0\n",
      "2 [4.9 3.  1.4 0.2] 0\n",
      "3 [4.7 3.2 1.3 0.2] 0\n",
      "4 [4.6 3.1 1.5 0.2] 0\n",
      "5 [5.  3.6 1.4 0.2] 0\n",
      "6 [5.4 3.9 1.7 0.4] 0\n",
      "7 [4.6 3.4 1.4 0.3] 0\n",
      "8 [5.  3.4 1.5 0.2] 0\n",
      "9 [4.4 2.9 1.4 0.2] 0\n",
      "10 [4.9 3.1 1.5 0.1] 0\n",
      "11 [5.4 3.7 1.5 0.2] 0\n",
      "12 [4.8 3.4 1.6 0.2] 0\n",
      "13 [4.8 3.  1.4 0.1] 0\n",
      "14 [4.3 3.  1.1 0.1] 0\n",
      "15 [5.8 4.  1.2 0.2] 0\n",
      "16 [5.7 4.4 1.5 0.4] 0\n",
      "17 [5.4 3.9 1.3 0.4] 0\n",
      "18 [5.1 3.5 1.4 0.3] 0\n",
      "19 [5.7 3.8 1.7 0.3] 0\n",
      "20 [5.1 3.8 1.5 0.3] 0\n",
      "21 [5.4 3.4 1.7 0.2] 0\n",
      "22 [5.1 3.7 1.5 0.4] 0\n",
      "23 [4.6 3.6 1.  0.2] 0\n",
      "24 [5.1 3.3 1.7 0.5] 0\n",
      "25 [4.8 3.4 1.9 0.2] 0\n",
      "26 [5.  3.  1.6 0.2] 0\n",
      "27 [5.  3.4 1.6 0.4] 0\n",
      "28 [5.2 3.5 1.5 0.2] 0\n",
      "29 [5.2 3.4 1.4 0.2] 0\n",
      "30 [4.7 3.2 1.6 0.2] 0\n",
      "31 [4.8 3.1 1.6 0.2] 0\n",
      "32 [5.4 3.4 1.5 0.4] 0\n",
      "33 [5.2 4.1 1.5 0.1] 0\n",
      "34 [5.5 4.2 1.4 0.2] 0\n",
      "35 [4.9 3.1 1.5 0.2] 0\n",
      "36 [5.  3.2 1.2 0.2] 0\n",
      "37 [5.5 3.5 1.3 0.2] 0\n",
      "38 [4.9 3.6 1.4 0.1] 0\n",
      "39 [4.4 3.  1.3 0.2] 0\n",
      "40 [5.1 3.4 1.5 0.2] 0\n",
      "41 [5.  3.5 1.3 0.3] 0\n",
      "42 [4.5 2.3 1.3 0.3] 0\n",
      "43 [4.4 3.2 1.3 0.2] 0\n",
      "44 [5.  3.5 1.6 0.6] 0\n",
      "45 [5.1 3.8 1.9 0.4] 0\n",
      "46 [4.8 3.  1.4 0.3] 0\n",
      "47 [5.1 3.8 1.6 0.2] 0\n",
      "48 [4.6 3.2 1.4 0.2] 0\n",
      "49 [5.3 3.7 1.5 0.2] 0\n",
      "50 [5.  3.3 1.4 0.2] 0\n",
      "51 [7.  3.2 4.7 1.4] 1\n",
      "52 [6.4 3.2 4.5 1.5] 1\n",
      "53 [6.9 3.1 4.9 1.5] 1\n",
      "54 [5.5 2.3 4.  1.3] 1\n",
      "55 [6.5 2.8 4.6 1.5] 1\n",
      "56 [5.7 2.8 4.5 1.3] 1\n",
      "57 [6.3 3.3 4.7 1.6] 1\n",
      "58 [4.9 2.4 3.3 1. ] 1\n",
      "59 [6.6 2.9 4.6 1.3] 1\n",
      "60 [5.2 2.7 3.9 1.4] 1\n",
      "61 [5.  2.  3.5 1. ] 1\n",
      "62 [5.9 3.  4.2 1.5] 1\n",
      "63 [6.  2.2 4.  1. ] 1\n",
      "64 [6.1 2.9 4.7 1.4] 1\n",
      "65 [5.6 2.9 3.6 1.3] 1\n",
      "66 [6.7 3.1 4.4 1.4] 1\n",
      "67 [5.6 3.  4.5 1.5] 1\n",
      "68 [5.8 2.7 4.1 1. ] 1\n",
      "69 [6.2 2.2 4.5 1.5] 1\n",
      "70 [5.6 2.5 3.9 1.1] 1\n",
      "71 [5.9 3.2 4.8 1.8] 1\n",
      "72 [6.1 2.8 4.  1.3] 1\n",
      "73 [6.3 2.5 4.9 1.5] 1\n",
      "74 [6.1 2.8 4.7 1.2] 1\n",
      "75 [6.4 2.9 4.3 1.3] 1\n",
      "76 [6.6 3.  4.4 1.4] 1\n",
      "77 [6.8 2.8 4.8 1.4] 1\n",
      "78 [6.7 3.  5.  1.7] 1\n",
      "79 [6.  2.9 4.5 1.5] 1\n",
      "80 [5.7 2.6 3.5 1. ] 1\n",
      "81 [5.5 2.4 3.8 1.1] 1\n",
      "82 [5.5 2.4 3.7 1. ] 1\n",
      "83 [5.8 2.7 3.9 1.2] 1\n",
      "84 [6.  2.7 5.1 1.6] 1\n",
      "85 [5.4 3.  4.5 1.5] 1\n",
      "86 [6.  3.4 4.5 1.6] 1\n",
      "87 [6.7 3.1 4.7 1.5] 1\n",
      "88 [6.3 2.3 4.4 1.3] 1\n",
      "89 [5.6 3.  4.1 1.3] 1\n",
      "90 [5.5 2.5 4.  1.3] 1\n",
      "91 [5.5 2.6 4.4 1.2] 1\n",
      "92 [6.1 3.  4.6 1.4] 1\n",
      "93 [5.8 2.6 4.  1.2] 1\n",
      "94 [5.  2.3 3.3 1. ] 1\n",
      "95 [5.6 2.7 4.2 1.3] 1\n",
      "96 [5.7 3.  4.2 1.2] 1\n",
      "97 [5.7 2.9 4.2 1.3] 1\n",
      "98 [6.2 2.9 4.3 1.3] 1\n",
      "99 [5.1 2.5 3.  1.1] 1\n",
      "100 [5.7 2.8 4.1 1.3] 1\n",
      "101 [6.3 3.3 6.  2.5] 2\n",
      "102 [5.8 2.7 5.1 1.9] 2\n",
      "103 [7.1 3.  5.9 2.1] 2\n",
      "104 [6.3 2.9 5.6 1.8] 2\n",
      "105 [6.5 3.  5.8 2.2] 2\n",
      "106 [7.6 3.  6.6 2.1] 2\n",
      "107 [4.9 2.5 4.5 1.7] 2\n",
      "108 [7.3 2.9 6.3 1.8] 2\n",
      "109 [6.7 2.5 5.8 1.8] 2\n",
      "110 [7.2 3.6 6.1 2.5] 2\n",
      "111 [6.5 3.2 5.1 2. ] 2\n",
      "112 [6.4 2.7 5.3 1.9] 2\n",
      "113 [6.8 3.  5.5 2.1] 2\n",
      "114 [5.7 2.5 5.  2. ] 2\n",
      "115 [5.8 2.8 5.1 2.4] 2\n",
      "116 [6.4 3.2 5.3 2.3] 2\n",
      "117 [6.5 3.  5.5 1.8] 2\n",
      "118 [7.7 3.8 6.7 2.2] 2\n",
      "119 [7.7 2.6 6.9 2.3] 2\n",
      "120 [6.  2.2 5.  1.5] 2\n",
      "121 [6.9 3.2 5.7 2.3] 2\n",
      "122 [5.6 2.8 4.9 2. ] 2\n",
      "123 [7.7 2.8 6.7 2. ] 2\n",
      "124 [6.3 2.7 4.9 1.8] 2\n",
      "125 [6.7 3.3 5.7 2.1] 2\n",
      "126 [7.2 3.2 6.  1.8] 2\n",
      "127 [6.2 2.8 4.8 1.8] 2\n",
      "128 [6.1 3.  4.9 1.8] 2\n",
      "129 [6.4 2.8 5.6 2.1] 2\n",
      "130 [7.2 3.  5.8 1.6] 2\n",
      "131 [7.4 2.8 6.1 1.9] 2\n",
      "132 [7.9 3.8 6.4 2. ] 2\n",
      "133 [6.4 2.8 5.6 2.2] 2\n",
      "134 [6.3 2.8 5.1 1.5] 2\n",
      "135 [6.1 2.6 5.6 1.4] 2\n",
      "136 [7.7 3.  6.1 2.3] 2\n",
      "137 [6.3 3.4 5.6 2.4] 2\n",
      "138 [6.4 3.1 5.5 1.8] 2\n",
      "139 [6.  3.  4.8 1.8] 2\n",
      "140 [6.9 3.1 5.4 2.1] 2\n",
      "141 [6.7 3.1 5.6 2.4] 2\n",
      "142 [6.9 3.1 5.1 2.3] 2\n",
      "143 [5.8 2.7 5.1 1.9] 2\n",
      "144 [6.8 3.2 5.9 2.3] 2\n",
      "145 [6.7 3.3 5.7 2.5] 2\n",
      "146 [6.7 3.  5.2 2.3] 2\n",
      "147 [6.3 2.5 5.  1.9] 2\n",
      "148 [6.5 3.  5.2 2. ] 2\n",
      "149 [6.2 3.4 5.4 2.3] 2\n",
      "150 [5.9 3.  5.1 1.8] 2\n"
     ]
    }
   ],
   "source": [
    "for i in range(0, len(d.data)):\n",
    "    print(i+1, d.data[i], d.target[i])"
   ]
  },
  {
   "cell_type": "markdown",
   "id": "778255c3-cc96-4fda-8a12-af313c12dff6",
   "metadata": {},
   "source": [
    "### 1.2. 모델링과 예측"
   ]
  },
  {
   "cell_type": "code",
   "execution_count": 6,
   "id": "760db0f6-842c-4b5c-928a-eb63f3e46eb4",
   "metadata": {
    "tags": []
   },
   "outputs": [
    {
     "name": "stdout",
     "output_type": "stream",
     "text": [
      "새로운 2개 샘플의 부류는 [2 1]\n"
     ]
    }
   ],
   "source": [
    "from sklearn import svm\n",
    "\n",
    "s=svm.SVC(gamma=0.1, C=10)\n",
    "s.fit(d.data,d.target)\n",
    "\n",
    "new_d = [[6.4, 3.2, 6.0, 2.5],[7.1, 3.1, 4.7, 1.35]]\n",
    "\n",
    "res = s.predict(new_d)\n",
    "print(\"새로운 2개 샘플의 부류는\", res)"
   ]
  },
  {
   "cell_type": "markdown",
   "id": "394484a2-54d0-4876-80b9-7fd0905ee205",
   "metadata": {},
   "source": [
    "## 2. 데이터에 대한 이해"
   ]
  },
  {
   "cell_type": "markdown",
   "id": "0be97a44-b0b9-4aff-b957-7b5d661b2b82",
   "metadata": {},
   "source": [
    "### 2.1 특징 공간에서 데이터 분포"
   ]
  },
  {
   "cell_type": "code",
   "execution_count": 7,
   "id": "c9a83495-3651-4200-880d-04592bf0f007",
   "metadata": {},
   "outputs": [],
   "source": [
    "import plotly.express as px\n",
    "\n",
    "df = px.data.iris()\n",
    "fig = px.scatter_3d(df, x='sepal_length', y='sepal_width', z='petal_width', color='species')\n",
    "fig.show(renderer='browser')"
   ]
  },
  {
   "cell_type": "markdown",
   "id": "09f7b334-77fa-4e37-a624-55844367461d",
   "metadata": {},
   "source": [
    "### 2.2 영상 데이터 사례: 필기 숫자"
   ]
  },
  {
   "cell_type": "code",
   "execution_count": 8,
   "id": "03f7e985-a729-457b-bc7e-9d5447135ae5",
   "metadata": {},
   "outputs": [
    {
     "data": {
      "image/png": "[encoded data removed]",
      "text/plain": [
       "<Figure size 360x360 with 1 Axes>"
      ]
     },
     "metadata": {
      "needs_background": "light"
     },
     "output_type": "display_data"
    },
    {
     "name": "stdout",
     "output_type": "stream",
     "text": [
      "[ 0.  0.  5. 13.  9.  1.  0.  0.  0.  0. 13. 15. 10. 15.  5.  0.  0.  3.\n",
      " 15.  2.  0. 11.  8.  0.  0.  4. 12.  0.  0.  8.  8.  0.  0.  5.  8.  0.\n",
      "  0.  9.  8.  0.  0.  4. 11.  0.  1. 12.  7.  0.  0.  2. 14.  5. 10. 12.\n",
      "  0.  0.  0.  0.  6. 13. 10.  0.  0.  0.]\n",
      "이 숫자는  0 입니다.\n"
     ]
    }
   ],
   "source": [
    "from sklearn import datasets\n",
    "import matplotlib.pyplot as plt\n",
    "\n",
    "digit=datasets.load_digits()\n",
    "plt.figure(figsize=(5,5))\n",
    "plt.imshow(digit.images[0], cmap=plt.cm.gray_r, interpolation='nearest')\n",
    "\n",
    "plt.show()\n",
    "print(digit.data[0])\n",
    "print(\"이 숫자는 \",digit.target[0],\"입니다.\")"
   ]
  },
  {
   "cell_type": "markdown",
   "id": "45ad45cf-726b-4c34-b0a8-b4db222d966e",
   "metadata": {},
   "source": [
    "### 2.3 영상 데이터 사례: lfw 얼굴 데이터셋"
   ]
  },
  {
   "cell_type": "code",
   "execution_count": 9,
   "id": "70055de7-4be4-4c4c-8a69-0ce911819d56",
   "metadata": {},
   "outputs": [
    {
     "data": {
      "image/png": "[encoded data removed]",
      "text/plain": [
       "<Figure size 1440x360 with 8 Axes>"
      ]
     },
     "metadata": {
      "needs_background": "light"
     },
     "output_type": "display_data"
    }
   ],
   "source": [
    "lfw=datasets.fetch_lfw_people(min_faces_per_person=70, resize=0.4)\n",
    "\n",
    "plt.figure(figsize=(20, 5))\n",
    "\n",
    "for i in range(8):\n",
    "    plt.subplot(1, 8, i+1)\n",
    "    plt.imshow(lfw.images[i], cmap=plt.cm.bone)\n",
    "    plt.title(lfw.target_names[lfw.target[i]])\n",
    "    \n",
    "plt.show()"
   ]
  },
  {
   "cell_type": "code",
   "execution_count": 10,
   "id": "75917bb9-65a2-4d6d-b1ad-c6eaac505ce1",
   "metadata": {},
   "outputs": [],
   "source": [
    "### 2.4 텍스트 데이터 사례: 20newsgroups"
   ]
  },
  {
   "cell_type": "code",
   "execution_count": 11,
   "id": "5cd640bf-f411-40ce-b3db-6fe9cb5d7a7b",
   "metadata": {},
   "outputs": [
    {
     "name": "stdout",
     "output_type": "stream",
     "text": [
      "*****\n",
      " From: lerxst@wam.umd.edu (where's my thing)\n",
      "Subject: WHAT car is this!?\n",
      "Nntp-Posting-Host: rac3.wam.umd.edu\n",
      "Organization: University of Maryland, College Park\n",
      "Lines: 15\n",
      "\n",
      " I was wondering if anyone out there could enlighten me on this car I saw\n",
      "the other day. It was a 2-door sports car, looked to be from the late 60s/\n",
      "early 70s. It was called a Bricklin. The doors were really small. In addition,\n",
      "the front bumper was separate from the rest of the body. This is \n",
      "all I know. If anyone can tellme a model name, engine specs, years\n",
      "of production, where this car is made, history, or whatever info you\n",
      "have on this funky looking car, please e-mail.\n",
      "\n",
      "Thanks,\n",
      "- IL\n",
      "   ---- brought to you by your neighborhood Lerxst ----\n",
      "\n",
      "\n",
      "\n",
      "\n",
      " *****\n",
      "\n",
      "이 문서의 부류는 < rec.autos > 입니다\n"
     ]
    }
   ],
   "source": [
    "news = datasets.fetch_20newsgroups(subset='train')\n",
    "print(\"*****\\n\", news.data[0], \"*****\\n\")\n",
    "print(\"이 문서의 부류는 <\", news.target_names[news.target[0]], \"> 입니다\")"
   ]
  },
  {
   "cell_type": "markdown",
   "id": "4cb6a7e9-60bc-426f-90ca-c51c38e36004",
   "metadata": {},
   "source": [
    "## 3. 필기 숫자 인식"
   ]
  },
  {
   "cell_type": "code",
   "execution_count": 12,
   "id": "e02ae5cf-75cc-4c0c-abae-c46b1a38b8c9",
   "metadata": {},
   "outputs": [
    {
     "name": "stdout",
     "output_type": "stream",
     "text": [
      "예측값은 [0 1 2]\n",
      "참값은 0 1 2\n",
      "화소 특징을 사용했을 때 정확률= 100.0 %\n"
     ]
    }
   ],
   "source": [
    "from sklearn import datasets\n",
    "from sklearn import svm\n",
    "\n",
    "digit = datasets.load_digits()\n",
    "\n",
    "# svm의 분류기 모델 SC를 학습\n",
    "s = svm.SVC(gamma=0.1, C=10)\n",
    "s.fit(digit.data, digit.target)\n",
    "\n",
    "# 훈련 집합의 앞에 있는 샘플 3개를 새로운 샘플로 간주하고 인식해봄\n",
    "new_d = [digit.data[0], digit.data[1], digit.data[2]]\n",
    "res = s.predict(new_d)\n",
    "print(\"예측값은\", res)\n",
    "print(\"참값은\", digit.target[0], digit.target[1], digit.target[2])\n",
    "\n",
    "# 훈련 집합을 테스트 집합으로 간주하여 인식해보고 정확률을 측정\n",
    "res = s.predict(digit.data)\n",
    "correct = [i for i in range(len(res)) if res[i] == digit.target[i]]\n",
    "accuracy = len(correct)/len(res)\n",
    "print(\"화소 특징을 사용했을 때 정확률=\", accuracy*100, \"%\")"
   ]
  },
  {
   "cell_type": "markdown",
   "id": "603693e1-158d-43c7-a015-d704670fdb6e",
   "metadata": {},
   "source": [
    "## 4. 성능 측정"
   ]
  },
  {
   "cell_type": "markdown",
   "id": "3051a1ea-946b-46f6-bbfe-2d0981c34b0c",
   "metadata": {},
   "source": [
    "### 4.1 훈련/검증/테스트 집합으로 쪼개기\n"
   ]
  },
  {
   "cell_type": "code",
   "execution_count": 13,
   "id": "286e5f47-f20a-4c84-ac68-453cad29d52c",
   "metadata": {},
   "outputs": [
    {
     "name": "stdout",
     "output_type": "stream",
     "text": [
      "[[76.  0.  0.  0.  0.  0.  0.  0.  0.  0.]\n",
      " [ 0. 67.  0.  0.  0.  0.  1.  0.  2.  0.]\n",
      " [ 0.  0. 63.  0.  0.  0.  0.  0.  0.  0.]\n",
      " [ 0.  0.  0. 74.  0.  0.  0.  0.  0.  1.]\n",
      " [ 0.  0.  0.  0. 71.  0.  0.  0.  0.  0.]\n",
      " [ 0.  0.  0.  1.  0. 74.  0.  0.  0.  0.]\n",
      " [ 0.  0.  0.  0.  0.  0. 68.  0.  0.  0.]\n",
      " [ 0.  0.  1.  0.  1.  0.  0. 59.  0.  0.]\n",
      " [ 0.  0.  0.  0.  2.  0.  0.  0. 69.  0.]\n",
      " [ 0.  0.  0.  0.  0.  2.  0.  1.  0. 86.]]\n",
      "테스트 집합에 대한 정확률은 98.33101529902642 %입니다.\n"
     ]
    }
   ],
   "source": [
    "from sklearn import datasets\n",
    "from sklearn import svm\n",
    "from sklearn.model_selection import train_test_split\n",
    "import numpy as np\n",
    "\n",
    "# 데이터셋을 읽고 훈련 집합ㅎ과 테스트 집합으로 분할\n",
    "digit = datasets.load_digits()\n",
    "x_train, x_test, y_train, y_test = train_test_split(digit.data, digit.target, train_size=0.6)\n",
    "\n",
    "# svm의 분류 모델 SVC를 학습\n",
    "s = svm.SVC(gamma=0.001)\n",
    "s.fit(x_train, y_train)\n",
    "\n",
    "res = s.predict(x_test)\n",
    "\n",
    "# 혼동 행렬 구함\n",
    "conf = np.zeros((10,10))\n",
    "for i in range(len(res)):\n",
    "    conf[res[i]][y_test[i]] += 1\n",
    "print(conf)\n",
    "\n",
    "# 정확률 측정하고 출력\n",
    "no_correct = 0\n",
    "for i in range(10):\n",
    "    no_correct += conf[i][i]\n",
    "accuracy = no_correct/len(res)\n",
    "print(\"테스트 집합에 대한 정확률은\", accuracy*100, \"%입니다.\")"
   ]
  },
  {
   "cell_type": "markdown",
   "id": "f361b28c-fbca-46ec-a45d-dec491ed113e",
   "metadata": {},
   "source": [
    "### 4.2 교차검증"
   ]
  },
  {
   "cell_type": "code",
   "execution_count": 14,
   "id": "0e4886de-82c8-47cb-9751-f048da40c705",
   "metadata": {},
   "outputs": [
    {
     "name": "stdout",
     "output_type": "stream",
     "text": [
      "[0.975      0.95       0.98328691 0.99164345 0.96100279]\n",
      "정확률(평균)=97.219, 표준편차=0.015\n"
     ]
    }
   ],
   "source": [
    "from sklearn import datasets\n",
    "from sklearn import svm\n",
    "from sklearn.model_selection import cross_val_score\n",
    "import numpy as np\n",
    "\n",
    "digit=datasets.load_digits()\n",
    "s=svm.SVC(gamma=0.001)\n",
    "accuracies=cross_val_score(s, digit.data, digit.target, cv=5)\n",
    "\n",
    "print(accuracies)\n",
    "print(\"정확률(평균)=%0.3f, 표준편차=%0.3f\"%(accuracies.mean()*100, accuracies.std()))"
   ]
  }
 ],
 "metadata": {
  "kernelspec": {
   "display_name": "Python 3",
   "language": "python",
   "name": "python3"
  },
  "language_info": {
   "codemirror_mode": {
    "name": "ipython",
    "version": 3
   },
   "file_extension": ".py",
   "mimetype": "text/x-python",
   "name": "python",
   "nbconvert_exporter": "python",
   "pygments_lexer": "ipython3",
   "version": "3.8.5"
  }
 },
 "nbformat": 4,
 "nbformat_minor": 5
}
